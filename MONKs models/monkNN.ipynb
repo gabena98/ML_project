{
  "cells": [
    {
      "cell_type": "markdown",
      "metadata": {
        "id": "view-in-github",
        "colab_type": "text"
      },
      "source": [
        "<a href=\"https://colab.research.google.com/github/gabena98/ML_project/blob/main/monkNN.ipynb\" target=\"_parent\"><img src=\"https://colab.research.google.com/assets/colab-badge.svg\" alt=\"Open In Colab\"/></a>"
      ]
    },
    {
      "cell_type": "code",
      "execution_count": null,
      "metadata": {
        "colab": {
          "base_uri": "https://localhost:8080/"
        },
        "id": "MSyUQoGlkkmO",
        "outputId": "01a0ba3f-89fd-4ed4-bab2-62a2d23a0a0d"
      },
      "outputs": [
        {
          "name": "stdout",
          "output_type": "stream",
          "text": [
            "Looking in indexes: https://pypi.org/simple, https://us-python.pkg.dev/colab-wheels/public/simple/\n",
            "Collecting scikeras\n",
            "  Downloading scikeras-0.10.0-py3-none-any.whl (27 kB)\n",
            "Requirement already satisfied: packaging>=0.21 in /usr/local/lib/python3.8/dist-packages (from scikeras) (21.3)\n",
            "Requirement already satisfied: scikit-learn>=1.0.0 in /usr/local/lib/python3.8/dist-packages (from scikeras) (1.0.2)\n",
            "Requirement already satisfied: pyparsing!=3.0.5,>=2.0.2 in /usr/local/lib/python3.8/dist-packages (from packaging>=0.21->scikeras) (3.0.9)\n",
            "Requirement already satisfied: scipy>=1.1.0 in /usr/local/lib/python3.8/dist-packages (from scikit-learn>=1.0.0->scikeras) (1.7.3)\n",
            "Requirement already satisfied: numpy>=1.14.6 in /usr/local/lib/python3.8/dist-packages (from scikit-learn>=1.0.0->scikeras) (1.21.6)\n",
            "Requirement already satisfied: joblib>=0.11 in /usr/local/lib/python3.8/dist-packages (from scikit-learn>=1.0.0->scikeras) (1.2.0)\n",
            "Requirement already satisfied: threadpoolctl>=2.0.0 in /usr/local/lib/python3.8/dist-packages (from scikit-learn>=1.0.0->scikeras) (3.1.0)\n",
            "Installing collected packages: scikeras\n",
            "Successfully installed scikeras-0.10.0\n"
          ]
        }
      ],
      "source": [
        "!pip install scikeras"
      ]
    },
    {
      "cell_type": "code",
      "execution_count": null,
      "metadata": {
        "colab": {
          "base_uri": "https://localhost:8080/"
        },
        "id": "srhrql8hkFF6",
        "outputId": "0c23964a-bc12-412b-9fb0-e7a34a993465"
      },
      "outputs": [
        {
          "name": "stdout",
          "output_type": "stream",
          "text": [
            "Looking in indexes: https://pypi.org/simple, https://us-python.pkg.dev/colab-wheels/public/simple/\n",
            "Collecting bayesian-optimization\n",
            "  Downloading bayesian_optimization-1.4.2-py3-none-any.whl (17 kB)\n",
            "Collecting colorama>=0.4.6\n",
            "  Downloading colorama-0.4.6-py2.py3-none-any.whl (25 kB)\n",
            "Requirement already satisfied: numpy>=1.9.0 in /usr/local/lib/python3.8/dist-packages (from bayesian-optimization) (1.21.6)\n",
            "Requirement already satisfied: scikit-learn>=0.18.0 in /usr/local/lib/python3.8/dist-packages (from bayesian-optimization) (1.0.2)\n",
            "Requirement already satisfied: scipy>=1.0.0 in /usr/local/lib/python3.8/dist-packages (from bayesian-optimization) (1.7.3)\n",
            "Requirement already satisfied: joblib>=0.11 in /usr/local/lib/python3.8/dist-packages (from scikit-learn>=0.18.0->bayesian-optimization) (1.2.0)\n",
            "Requirement already satisfied: threadpoolctl>=2.0.0 in /usr/local/lib/python3.8/dist-packages (from scikit-learn>=0.18.0->bayesian-optimization) (3.1.0)\n",
            "Installing collected packages: colorama, bayesian-optimization\n",
            "Successfully installed bayesian-optimization-1.4.2 colorama-0.4.6\n"
          ]
        }
      ],
      "source": [
        "!pip install bayesian-optimization"
      ]
    },
    {
      "cell_type": "code",
      "source": [
        "!pip install keras "
      ],
      "metadata": {
        "id": "ZQDkduxeIYtN",
        "outputId": "3d557dd7-462a-4664-b082-9255dda00876",
        "colab": {
          "base_uri": "https://localhost:8080/"
        }
      },
      "execution_count": null,
      "outputs": [
        {
          "output_type": "stream",
          "name": "stdout",
          "text": [
            "Looking in indexes: https://pypi.org/simple, https://us-python.pkg.dev/colab-wheels/public/simple/\n",
            "Requirement already satisfied: keras in /usr/local/lib/python3.8/dist-packages (2.9.0)\n"
          ]
        }
      ]
    },
    {
      "cell_type": "code",
      "execution_count": null,
      "metadata": {
        "colab": {
          "base_uri": "https://localhost:8080/"
        },
        "id": "JZRJmPJXOBiC",
        "outputId": "552b657e-8a63-40ff-f72a-3335c2baa2d7"
      },
      "outputs": [
        {
          "output_type": "stream",
          "name": "stdout",
          "text": [
            "Mounted at /content/drive\n"
          ]
        }
      ],
      "source": [
        "from google.colab import drive\n",
        "drive.mount('/content/drive')"
      ]
    },
    {
      "cell_type": "code",
      "execution_count": null,
      "metadata": {
        "id": "2hShIS2xb7mR"
      },
      "outputs": [],
      "source": [
        "import pandas as pd\n",
        "import numpy as np\n",
        "import tensorflow as tf\n",
        "from tensorflow import keras\n",
        "from keras.models import Sequential\n",
        "from keras.layers import Dense, BatchNormalization, Dropout\n",
        "from keras.optimizers import Adam, SGD, RMSprop, Adadelta, Adagrad, Adamax, Nadam, Ftrl\n",
        "from keras.callbacks import EarlyStopping, ModelCheckpoint\n",
        "from keras.wrappers.scikit_learn import KerasClassifier\n",
        "from sklearn.model_selection import GridSearchCV\n",
        "import math\n",
        "from sklearn.metrics import make_scorer, accuracy_score\n",
        "\n",
        "from sklearn.preprocessing import MinMaxScaler\n",
        "from sklearn.model_selection import train_test_split\n",
        "from sklearn.model_selection import cross_val_score\n",
        "\n",
        "from sklearn.model_selection import GridSearchCV, RandomizedSearchCV\n",
        "\n",
        "\n",
        "from sklearn.metrics import make_scorer, accuracy_score\n",
        "from sklearn.model_selection import StratifiedKFold\n",
        "from keras.layers import LeakyReLU\n",
        "LeakyReLU = LeakyReLU(alpha=0.1)\n",
        "import warnings\n",
        "warnings.filterwarnings('ignore')\n",
        "pd.set_option(\"display.max_columns\", None)"
      ]
    },
    {
      "cell_type": "code",
      "execution_count": null,
      "metadata": {
        "id": "YNCwtprTsD-E"
      },
      "outputs": [],
      "source": [
        "# Make scorer accuracy\n",
        "score_acc = make_scorer(accuracy_score)"
      ]
    },
    {
      "cell_type": "code",
      "execution_count": null,
      "metadata": {
        "id": "puyVsRp9cEvp"
      },
      "outputs": [],
      "source": [
        "# load the dataset\n",
        "monks_1_train = pd.read_csv('/content/drive/MyDrive/Colab Notebooks/MONK/monk_1_train_hot.csv',\n",
        "                            names=[\"y\", \"x1_1\", \"x1_2\", \"x1_3\", \"x2_1\", \"x2_2\", \"x2_3\", \"x3_1\", \"x3_2\", \"x4_1\", \"x4_2\", \"x4_3\", \"x5_1\", \"x5_2\", \"x5_3\", \"x5_4\", \"x6_1\", \"x6_2\"])\n",
        "monks_2_train = pd.read_csv('/content/drive/MyDrive/Colab Notebooks/MONK/monk_2_train_hot.csv',\n",
        "                            names=[\"y\", \"x1_1\", \"x1_2\", \"x1_3\", \"x2_1\", \"x2_2\", \"x2_3\", \"x3_1\", \"x3_2\", \"x4_1\", \"x4_2\", \"x4_3\", \"x5_1\", \"x5_2\", \"x5_3\", \"x5_4\", \"x6_1\", \"x6_2\"])\n",
        "monks_3_train = pd.read_csv('/content/drive/MyDrive/Colab Notebooks/MONK/monk_3_train_hot.csv',\n",
        "                            names=[\"y\", \"x1_1\", \"x1_2\", \"x1_3\", \"x2_1\", \"x2_2\", \"x2_3\", \"x3_1\", \"x3_2\", \"x4_1\", \"x4_2\", \"x4_3\", \"x5_1\", \"x5_2\", \"x5_3\", \"x5_4\", \"x6_1\", \"x6_2\"])\n",
        "monks_1_test = pd.read_csv('/content/drive/MyDrive/Colab Notebooks/MONK/monk_1_test_hot.csv',\n",
        "                           names=[\"y\", \"x1_1\", \"x1_2\", \"x1_3\", \"x2_1\", \"x2_2\", \"x2_3\", \"x3_1\", \"x3_2\", \"x4_1\", \"x4_2\", \"x4_3\", \"x5_1\", \"x5_2\", \"x5_3\", \"x5_4\", \"x6_1\", \"x6_2\"])\n",
        "monks_2_test = pd.read_csv('/content/drive/MyDrive/Colab Notebooks/MONK/monk_2_test_hot.csv',\n",
        "                           names=[\"y\", \"x1_1\", \"x1_2\", \"x1_3\", \"x2_1\", \"x2_2\", \"x2_3\", \"x3_1\", \"x3_2\", \"x4_1\", \"x4_2\", \"x4_3\", \"x5_1\", \"x5_2\", \"x5_3\", \"x5_4\", \"x6_1\", \"x6_2\"])\n",
        "monks_3_test = pd.read_csv('/content/drive/MyDrive/Colab Notebooks/MONK/monk_3_test_hot.csv', \n",
        "                           names=[\"y\", \"x1_1\", \"x1_2\", \"x1_3\", \"x2_1\", \"x2_2\", \"x2_3\", \"x3_1\", \"x3_2\", \"x4_1\", \"x4_2\", \"x4_3\", \"x5_1\", \"x5_2\", \"x5_3\", \"x5_4\", \"x6_1\", \"x6_2\"])"
      ]
    },
    {
      "cell_type": "code",
      "execution_count": null,
      "metadata": {
        "colab": {
          "base_uri": "https://localhost:8080/",
          "height": 424
        },
        "id": "qnPjjphyRlF-",
        "outputId": "2e4c5add-fa99-4ec7-d170-4c9f4822d516"
      },
      "outputs": [
        {
          "data": {
            "text/html": [
              "\n",
              "  <div id=\"df-94c5ee3c-13bc-4c80-b3f7-1618ae71e3a6\">\n",
              "    <div class=\"colab-df-container\">\n",
              "      <div>\n",
              "<style scoped>\n",
              "    .dataframe tbody tr th:only-of-type {\n",
              "        vertical-align: middle;\n",
              "    }\n",
              "\n",
              "    .dataframe tbody tr th {\n",
              "        vertical-align: top;\n",
              "    }\n",
              "\n",
              "    .dataframe thead th {\n",
              "        text-align: right;\n",
              "    }\n",
              "</style>\n",
              "<table border=\"1\" class=\"dataframe\">\n",
              "  <thead>\n",
              "    <tr style=\"text-align: right;\">\n",
              "      <th></th>\n",
              "      <th>y</th>\n",
              "      <th>x1_1</th>\n",
              "      <th>x1_2</th>\n",
              "      <th>x1_3</th>\n",
              "      <th>x2_1</th>\n",
              "      <th>x2_2</th>\n",
              "      <th>x2_3</th>\n",
              "      <th>x3_1</th>\n",
              "      <th>x3_2</th>\n",
              "      <th>x4_1</th>\n",
              "      <th>x4_2</th>\n",
              "      <th>x4_3</th>\n",
              "      <th>x5_1</th>\n",
              "      <th>x5_2</th>\n",
              "      <th>x5_3</th>\n",
              "      <th>x5_4</th>\n",
              "      <th>x6_1</th>\n",
              "      <th>x6_2</th>\n",
              "    </tr>\n",
              "  </thead>\n",
              "  <tbody>\n",
              "    <tr>\n",
              "      <th>0</th>\n",
              "      <td>1.0</td>\n",
              "      <td>1.0</td>\n",
              "      <td>0.0</td>\n",
              "      <td>0.0</td>\n",
              "      <td>1.0</td>\n",
              "      <td>0.0</td>\n",
              "      <td>0.0</td>\n",
              "      <td>1.0</td>\n",
              "      <td>0.0</td>\n",
              "      <td>1.0</td>\n",
              "      <td>0.0</td>\n",
              "      <td>0.0</td>\n",
              "      <td>0.0</td>\n",
              "      <td>0.0</td>\n",
              "      <td>1.0</td>\n",
              "      <td>0.0</td>\n",
              "      <td>1.0</td>\n",
              "      <td>0.0</td>\n",
              "    </tr>\n",
              "    <tr>\n",
              "      <th>1</th>\n",
              "      <td>1.0</td>\n",
              "      <td>1.0</td>\n",
              "      <td>0.0</td>\n",
              "      <td>0.0</td>\n",
              "      <td>1.0</td>\n",
              "      <td>0.0</td>\n",
              "      <td>0.0</td>\n",
              "      <td>1.0</td>\n",
              "      <td>0.0</td>\n",
              "      <td>1.0</td>\n",
              "      <td>0.0</td>\n",
              "      <td>0.0</td>\n",
              "      <td>0.0</td>\n",
              "      <td>0.0</td>\n",
              "      <td>1.0</td>\n",
              "      <td>0.0</td>\n",
              "      <td>0.0</td>\n",
              "      <td>1.0</td>\n",
              "    </tr>\n",
              "    <tr>\n",
              "      <th>2</th>\n",
              "      <td>1.0</td>\n",
              "      <td>1.0</td>\n",
              "      <td>0.0</td>\n",
              "      <td>0.0</td>\n",
              "      <td>1.0</td>\n",
              "      <td>0.0</td>\n",
              "      <td>0.0</td>\n",
              "      <td>1.0</td>\n",
              "      <td>0.0</td>\n",
              "      <td>0.0</td>\n",
              "      <td>0.0</td>\n",
              "      <td>1.0</td>\n",
              "      <td>0.0</td>\n",
              "      <td>1.0</td>\n",
              "      <td>0.0</td>\n",
              "      <td>0.0</td>\n",
              "      <td>1.0</td>\n",
              "      <td>0.0</td>\n",
              "    </tr>\n",
              "    <tr>\n",
              "      <th>3</th>\n",
              "      <td>1.0</td>\n",
              "      <td>1.0</td>\n",
              "      <td>0.0</td>\n",
              "      <td>0.0</td>\n",
              "      <td>1.0</td>\n",
              "      <td>0.0</td>\n",
              "      <td>0.0</td>\n",
              "      <td>1.0</td>\n",
              "      <td>0.0</td>\n",
              "      <td>0.0</td>\n",
              "      <td>0.0</td>\n",
              "      <td>1.0</td>\n",
              "      <td>0.0</td>\n",
              "      <td>0.0</td>\n",
              "      <td>1.0</td>\n",
              "      <td>0.0</td>\n",
              "      <td>0.0</td>\n",
              "      <td>1.0</td>\n",
              "    </tr>\n",
              "    <tr>\n",
              "      <th>4</th>\n",
              "      <td>1.0</td>\n",
              "      <td>1.0</td>\n",
              "      <td>0.0</td>\n",
              "      <td>0.0</td>\n",
              "      <td>1.0</td>\n",
              "      <td>0.0</td>\n",
              "      <td>0.0</td>\n",
              "      <td>0.0</td>\n",
              "      <td>1.0</td>\n",
              "      <td>1.0</td>\n",
              "      <td>0.0</td>\n",
              "      <td>0.0</td>\n",
              "      <td>0.0</td>\n",
              "      <td>1.0</td>\n",
              "      <td>0.0</td>\n",
              "      <td>0.0</td>\n",
              "      <td>1.0</td>\n",
              "      <td>0.0</td>\n",
              "    </tr>\n",
              "    <tr>\n",
              "      <th>...</th>\n",
              "      <td>...</td>\n",
              "      <td>...</td>\n",
              "      <td>...</td>\n",
              "      <td>...</td>\n",
              "      <td>...</td>\n",
              "      <td>...</td>\n",
              "      <td>...</td>\n",
              "      <td>...</td>\n",
              "      <td>...</td>\n",
              "      <td>...</td>\n",
              "      <td>...</td>\n",
              "      <td>...</td>\n",
              "      <td>...</td>\n",
              "      <td>...</td>\n",
              "      <td>...</td>\n",
              "      <td>...</td>\n",
              "      <td>...</td>\n",
              "      <td>...</td>\n",
              "    </tr>\n",
              "    <tr>\n",
              "      <th>119</th>\n",
              "      <td>1.0</td>\n",
              "      <td>0.0</td>\n",
              "      <td>0.0</td>\n",
              "      <td>1.0</td>\n",
              "      <td>0.0</td>\n",
              "      <td>0.0</td>\n",
              "      <td>1.0</td>\n",
              "      <td>0.0</td>\n",
              "      <td>1.0</td>\n",
              "      <td>1.0</td>\n",
              "      <td>0.0</td>\n",
              "      <td>0.0</td>\n",
              "      <td>0.0</td>\n",
              "      <td>0.0</td>\n",
              "      <td>0.0</td>\n",
              "      <td>1.0</td>\n",
              "      <td>0.0</td>\n",
              "      <td>1.0</td>\n",
              "    </tr>\n",
              "    <tr>\n",
              "      <th>120</th>\n",
              "      <td>1.0</td>\n",
              "      <td>0.0</td>\n",
              "      <td>0.0</td>\n",
              "      <td>1.0</td>\n",
              "      <td>0.0</td>\n",
              "      <td>0.0</td>\n",
              "      <td>1.0</td>\n",
              "      <td>0.0</td>\n",
              "      <td>1.0</td>\n",
              "      <td>0.0</td>\n",
              "      <td>0.0</td>\n",
              "      <td>1.0</td>\n",
              "      <td>1.0</td>\n",
              "      <td>0.0</td>\n",
              "      <td>0.0</td>\n",
              "      <td>0.0</td>\n",
              "      <td>0.0</td>\n",
              "      <td>1.0</td>\n",
              "    </tr>\n",
              "    <tr>\n",
              "      <th>121</th>\n",
              "      <td>1.0</td>\n",
              "      <td>0.0</td>\n",
              "      <td>0.0</td>\n",
              "      <td>1.0</td>\n",
              "      <td>0.0</td>\n",
              "      <td>0.0</td>\n",
              "      <td>1.0</td>\n",
              "      <td>0.0</td>\n",
              "      <td>1.0</td>\n",
              "      <td>0.0</td>\n",
              "      <td>0.0</td>\n",
              "      <td>1.0</td>\n",
              "      <td>0.0</td>\n",
              "      <td>1.0</td>\n",
              "      <td>0.0</td>\n",
              "      <td>0.0</td>\n",
              "      <td>0.0</td>\n",
              "      <td>1.0</td>\n",
              "    </tr>\n",
              "    <tr>\n",
              "      <th>122</th>\n",
              "      <td>1.0</td>\n",
              "      <td>0.0</td>\n",
              "      <td>0.0</td>\n",
              "      <td>1.0</td>\n",
              "      <td>0.0</td>\n",
              "      <td>0.0</td>\n",
              "      <td>1.0</td>\n",
              "      <td>0.0</td>\n",
              "      <td>1.0</td>\n",
              "      <td>0.0</td>\n",
              "      <td>0.0</td>\n",
              "      <td>1.0</td>\n",
              "      <td>0.0</td>\n",
              "      <td>0.0</td>\n",
              "      <td>1.0</td>\n",
              "      <td>0.0</td>\n",
              "      <td>0.0</td>\n",
              "      <td>1.0</td>\n",
              "    </tr>\n",
              "    <tr>\n",
              "      <th>123</th>\n",
              "      <td>1.0</td>\n",
              "      <td>0.0</td>\n",
              "      <td>0.0</td>\n",
              "      <td>1.0</td>\n",
              "      <td>0.0</td>\n",
              "      <td>0.0</td>\n",
              "      <td>1.0</td>\n",
              "      <td>0.0</td>\n",
              "      <td>1.0</td>\n",
              "      <td>0.0</td>\n",
              "      <td>0.0</td>\n",
              "      <td>1.0</td>\n",
              "      <td>0.0</td>\n",
              "      <td>0.0</td>\n",
              "      <td>0.0</td>\n",
              "      <td>1.0</td>\n",
              "      <td>0.0</td>\n",
              "      <td>1.0</td>\n",
              "    </tr>\n",
              "  </tbody>\n",
              "</table>\n",
              "<p>124 rows × 18 columns</p>\n",
              "</div>\n",
              "      <button class=\"colab-df-convert\" onclick=\"convertToInteractive('df-94c5ee3c-13bc-4c80-b3f7-1618ae71e3a6')\"\n",
              "              title=\"Convert this dataframe to an interactive table.\"\n",
              "              style=\"display:none;\">\n",
              "        \n",
              "  <svg xmlns=\"http://www.w3.org/2000/svg\" height=\"24px\"viewBox=\"0 0 24 24\"\n",
              "       width=\"24px\">\n",
              "    <path d=\"M0 0h24v24H0V0z\" fill=\"none\"/>\n",
              "    <path d=\"M18.56 5.44l.94 2.06.94-2.06 2.06-.94-2.06-.94-.94-2.06-.94 2.06-2.06.94zm-11 1L8.5 8.5l.94-2.06 2.06-.94-2.06-.94L8.5 2.5l-.94 2.06-2.06.94zm10 10l.94 2.06.94-2.06 2.06-.94-2.06-.94-.94-2.06-.94 2.06-2.06.94z\"/><path d=\"M17.41 7.96l-1.37-1.37c-.4-.4-.92-.59-1.43-.59-.52 0-1.04.2-1.43.59L10.3 9.45l-7.72 7.72c-.78.78-.78 2.05 0 2.83L4 21.41c.39.39.9.59 1.41.59.51 0 1.02-.2 1.41-.59l7.78-7.78 2.81-2.81c.8-.78.8-2.07 0-2.86zM5.41 20L4 18.59l7.72-7.72 1.47 1.35L5.41 20z\"/>\n",
              "  </svg>\n",
              "      </button>\n",
              "      \n",
              "  <style>\n",
              "    .colab-df-container {\n",
              "      display:flex;\n",
              "      flex-wrap:wrap;\n",
              "      gap: 12px;\n",
              "    }\n",
              "\n",
              "    .colab-df-convert {\n",
              "      background-color: #E8F0FE;\n",
              "      border: none;\n",
              "      border-radius: 50%;\n",
              "      cursor: pointer;\n",
              "      display: none;\n",
              "      fill: #1967D2;\n",
              "      height: 32px;\n",
              "      padding: 0 0 0 0;\n",
              "      width: 32px;\n",
              "    }\n",
              "\n",
              "    .colab-df-convert:hover {\n",
              "      background-color: #E2EBFA;\n",
              "      box-shadow: 0px 1px 2px rgba(60, 64, 67, 0.3), 0px 1px 3px 1px rgba(60, 64, 67, 0.15);\n",
              "      fill: #174EA6;\n",
              "    }\n",
              "\n",
              "    [theme=dark] .colab-df-convert {\n",
              "      background-color: #3B4455;\n",
              "      fill: #D2E3FC;\n",
              "    }\n",
              "\n",
              "    [theme=dark] .colab-df-convert:hover {\n",
              "      background-color: #434B5C;\n",
              "      box-shadow: 0px 1px 3px 1px rgba(0, 0, 0, 0.15);\n",
              "      filter: drop-shadow(0px 1px 2px rgba(0, 0, 0, 0.3));\n",
              "      fill: #FFFFFF;\n",
              "    }\n",
              "  </style>\n",
              "\n",
              "      <script>\n",
              "        const buttonEl =\n",
              "          document.querySelector('#df-94c5ee3c-13bc-4c80-b3f7-1618ae71e3a6 button.colab-df-convert');\n",
              "        buttonEl.style.display =\n",
              "          google.colab.kernel.accessAllowed ? 'block' : 'none';\n",
              "\n",
              "        async function convertToInteractive(key) {\n",
              "          const element = document.querySelector('#df-94c5ee3c-13bc-4c80-b3f7-1618ae71e3a6');\n",
              "          const dataTable =\n",
              "            await google.colab.kernel.invokeFunction('convertToInteractive',\n",
              "                                                     [key], {});\n",
              "          if (!dataTable) return;\n",
              "\n",
              "          const docLinkHtml = 'Like what you see? Visit the ' +\n",
              "            '<a target=\"_blank\" href=https://colab.research.google.com/notebooks/data_table.ipynb>data table notebook</a>'\n",
              "            + ' to learn more about interactive tables.';\n",
              "          element.innerHTML = '';\n",
              "          dataTable['output_type'] = 'display_data';\n",
              "          await google.colab.output.renderOutput(dataTable, element);\n",
              "          const docLink = document.createElement('div');\n",
              "          docLink.innerHTML = docLinkHtml;\n",
              "          element.appendChild(docLink);\n",
              "        }\n",
              "      </script>\n",
              "    </div>\n",
              "  </div>\n",
              "  "
            ],
            "text/plain": [
              "       y  x1_1  x1_2  x1_3  x2_1  x2_2  x2_3  x3_1  x3_2  x4_1  x4_2  x4_3  \\\n",
              "0    1.0   1.0   0.0   0.0   1.0   0.0   0.0   1.0   0.0   1.0   0.0   0.0   \n",
              "1    1.0   1.0   0.0   0.0   1.0   0.0   0.0   1.0   0.0   1.0   0.0   0.0   \n",
              "2    1.0   1.0   0.0   0.0   1.0   0.0   0.0   1.0   0.0   0.0   0.0   1.0   \n",
              "3    1.0   1.0   0.0   0.0   1.0   0.0   0.0   1.0   0.0   0.0   0.0   1.0   \n",
              "4    1.0   1.0   0.0   0.0   1.0   0.0   0.0   0.0   1.0   1.0   0.0   0.0   \n",
              "..   ...   ...   ...   ...   ...   ...   ...   ...   ...   ...   ...   ...   \n",
              "119  1.0   0.0   0.0   1.0   0.0   0.0   1.0   0.0   1.0   1.0   0.0   0.0   \n",
              "120  1.0   0.0   0.0   1.0   0.0   0.0   1.0   0.0   1.0   0.0   0.0   1.0   \n",
              "121  1.0   0.0   0.0   1.0   0.0   0.0   1.0   0.0   1.0   0.0   0.0   1.0   \n",
              "122  1.0   0.0   0.0   1.0   0.0   0.0   1.0   0.0   1.0   0.0   0.0   1.0   \n",
              "123  1.0   0.0   0.0   1.0   0.0   0.0   1.0   0.0   1.0   0.0   0.0   1.0   \n",
              "\n",
              "     x5_1  x5_2  x5_3  x5_4  x6_1  x6_2  \n",
              "0     0.0   0.0   1.0   0.0   1.0   0.0  \n",
              "1     0.0   0.0   1.0   0.0   0.0   1.0  \n",
              "2     0.0   1.0   0.0   0.0   1.0   0.0  \n",
              "3     0.0   0.0   1.0   0.0   0.0   1.0  \n",
              "4     0.0   1.0   0.0   0.0   1.0   0.0  \n",
              "..    ...   ...   ...   ...   ...   ...  \n",
              "119   0.0   0.0   0.0   1.0   0.0   1.0  \n",
              "120   1.0   0.0   0.0   0.0   0.0   1.0  \n",
              "121   0.0   1.0   0.0   0.0   0.0   1.0  \n",
              "122   0.0   0.0   1.0   0.0   0.0   1.0  \n",
              "123   0.0   0.0   0.0   1.0   0.0   1.0  \n",
              "\n",
              "[124 rows x 18 columns]"
            ]
          },
          "execution_count": 214,
          "metadata": {},
          "output_type": "execute_result"
        }
      ],
      "source": [
        "monks_1_train"
      ]
    },
    {
      "cell_type": "markdown",
      "metadata": {
        "id": "mG3REXB6djMm"
      },
      "source": [
        "# **Nuovo input**"
      ]
    },
    {
      "cell_type": "code",
      "execution_count": null,
      "metadata": {
        "id": "EE4Z2KMd_hLw"
      },
      "outputs": [],
      "source": [
        "X_1_tr = monks_1_train.iloc[:,1:].values\n",
        "y_1_tr = monks_1_train.iloc[:,0].values\n",
        "\n",
        "X_2_tr = monks_2_train.iloc[:,1:].values\n",
        "y_2_tr = monks_2_train.iloc[:,0].values\n",
        "\n",
        "X_3_tr = monks_3_train.iloc[:,1:].values\n",
        "y_3_tr = monks_3_train.iloc[:,0].values\n",
        "\n",
        "X_test_1 = monks_1_test.iloc[:,1:].values\n",
        "y_test_1 = monks_1_test.iloc[:,0].values\n",
        "\n",
        "X_test_2 = monks_2_test.iloc[:,1:].values\n",
        "y_test_2 = monks_2_test.iloc[:,0].values\n",
        "\n",
        "X_test_3 = monks_3_test.iloc[:,1:].values\n",
        "y_test_3 = monks_3_test.iloc[:,0].values"
      ]
    },
    {
      "cell_type": "markdown",
      "metadata": {
        "id": "ADKh4TVlgT2R"
      },
      "source": [
        "# **MONK 1**"
      ]
    },
    {
      "cell_type": "code",
      "execution_count": null,
      "metadata": {
        "colab": {
          "base_uri": "https://localhost:8080/"
        },
        "id": "6rZGyh0SfgNl",
        "outputId": "d6e5a264-b857-46d4-d0f2-b15c837dd034"
      },
      "outputs": [
        {
          "output_type": "execute_result",
          "data": {
            "text/plain": [
              "Ellipsis"
            ]
          },
          "metadata": {},
          "execution_count": 19
        }
      ],
      "source": [
        "...\n",
        "# define the keras model for monk 1\n",
        "model_1 = Sequential()\n",
        "model_1.add(Dense(4, input_shape=(X_1_tr.shape[1],), activation='relu'))\n",
        "model_1.add(Dense(1, activation='sigmoid'))\n",
        "..."
      ]
    },
    {
      "cell_type": "code",
      "execution_count": null,
      "metadata": {
        "colab": {
          "base_uri": "https://localhost:8080/"
        },
        "id": "bQouALYJhtAT",
        "outputId": "1f637112-ecce-44cc-d39d-400d7694ca78"
      },
      "outputs": [
        {
          "output_type": "stream",
          "name": "stdout",
          "text": [
            "Model: \"sequential_1\"\n",
            "_________________________________________________________________\n",
            " Layer (type)                Output Shape              Param #   \n",
            "=================================================================\n",
            " dense_2 (Dense)             (None, 4)                 72        \n",
            "                                                                 \n",
            " dense_3 (Dense)             (None, 1)                 5         \n",
            "                                                                 \n",
            "=================================================================\n",
            "Total params: 77\n",
            "Trainable params: 77\n",
            "Non-trainable params: 0\n",
            "_________________________________________________________________\n"
          ]
        },
        {
          "output_type": "execute_result",
          "data": {
            "text/plain": [
              "Ellipsis"
            ]
          },
          "metadata": {},
          "execution_count": 20
        }
      ],
      "source": [
        "...\n",
        "# compile the keras model\n",
        "model_1.summary()\n",
        "opt = tf.keras.optimizers.experimental.SGD(0.02, momentum=0.09)\n",
        "model_1.compile(loss='mean_squared_error', optimizer = opt, metrics=['accuracy'])\n",
        "..."
      ]
    },
    {
      "cell_type": "code",
      "execution_count": null,
      "metadata": {
        "colab": {
          "base_uri": "https://localhost:8080/"
        },
        "id": "aXTlc8aQhtRT",
        "outputId": "4401eb1d-8801-4ef4-c687-aed004f541bf"
      },
      "outputs": [
        {
          "output_type": "stream",
          "name": "stdout",
          "text": [
            "Epoch 1/150\n",
            "124/124 [==============================] - 1s 8ms/step - loss: 0.2637 - accuracy: 0.4758 - val_loss: 0.2588 - val_accuracy: 0.4491\n",
            "Epoch 2/150\n",
            "124/124 [==============================] - 1s 5ms/step - loss: 0.2517 - accuracy: 0.5242 - val_loss: 0.2517 - val_accuracy: 0.5255\n",
            "Epoch 3/150\n",
            "124/124 [==============================] - 1s 5ms/step - loss: 0.2454 - accuracy: 0.5000 - val_loss: 0.2474 - val_accuracy: 0.5394\n",
            "Epoch 4/150\n",
            "124/124 [==============================] - 1s 5ms/step - loss: 0.2400 - accuracy: 0.5645 - val_loss: 0.2436 - val_accuracy: 0.5556\n",
            "Epoch 5/150\n",
            "124/124 [==============================] - 1s 5ms/step - loss: 0.2340 - accuracy: 0.5565 - val_loss: 0.2394 - val_accuracy: 0.5856\n",
            "Epoch 6/150\n",
            "124/124 [==============================] - 1s 7ms/step - loss: 0.2272 - accuracy: 0.6532 - val_loss: 0.2346 - val_accuracy: 0.6088\n",
            "Epoch 7/150\n",
            "124/124 [==============================] - 1s 5ms/step - loss: 0.2191 - accuracy: 0.6613 - val_loss: 0.2284 - val_accuracy: 0.6181\n",
            "Epoch 8/150\n",
            "124/124 [==============================] - 1s 5ms/step - loss: 0.2095 - accuracy: 0.6935 - val_loss: 0.2215 - val_accuracy: 0.6458\n",
            "Epoch 9/150\n",
            "124/124 [==============================] - 1s 5ms/step - loss: 0.1984 - accuracy: 0.7097 - val_loss: 0.2138 - val_accuracy: 0.6620\n",
            "Epoch 10/150\n",
            "124/124 [==============================] - 1s 5ms/step - loss: 0.1876 - accuracy: 0.7500 - val_loss: 0.2063 - val_accuracy: 0.6968\n",
            "Epoch 11/150\n",
            "124/124 [==============================] - 1s 7ms/step - loss: 0.1769 - accuracy: 0.8306 - val_loss: 0.1991 - val_accuracy: 0.7083\n",
            "Epoch 12/150\n",
            "124/124 [==============================] - 1s 5ms/step - loss: 0.1685 - accuracy: 0.8306 - val_loss: 0.1931 - val_accuracy: 0.7315\n",
            "Epoch 13/150\n",
            "124/124 [==============================] - 1s 7ms/step - loss: 0.1606 - accuracy: 0.8468 - val_loss: 0.1880 - val_accuracy: 0.7500\n",
            "Epoch 14/150\n",
            "124/124 [==============================] - 1s 5ms/step - loss: 0.1536 - accuracy: 0.8468 - val_loss: 0.1864 - val_accuracy: 0.7384\n",
            "Epoch 15/150\n",
            "124/124 [==============================] - 1s 5ms/step - loss: 0.1479 - accuracy: 0.8468 - val_loss: 0.1821 - val_accuracy: 0.7616\n",
            "Epoch 16/150\n",
            "124/124 [==============================] - 1s 7ms/step - loss: 0.1437 - accuracy: 0.8629 - val_loss: 0.1778 - val_accuracy: 0.7639\n",
            "Epoch 17/150\n",
            "124/124 [==============================] - 1s 5ms/step - loss: 0.1395 - accuracy: 0.8548 - val_loss: 0.1772 - val_accuracy: 0.7755\n",
            "Epoch 18/150\n",
            "124/124 [==============================] - 1s 7ms/step - loss: 0.1371 - accuracy: 0.8548 - val_loss: 0.1749 - val_accuracy: 0.7755\n",
            "Epoch 19/150\n",
            "124/124 [==============================] - 1s 6ms/step - loss: 0.1337 - accuracy: 0.8548 - val_loss: 0.1714 - val_accuracy: 0.7778\n",
            "Epoch 20/150\n",
            "124/124 [==============================] - 1s 7ms/step - loss: 0.1315 - accuracy: 0.8548 - val_loss: 0.1705 - val_accuracy: 0.7778\n",
            "Epoch 21/150\n",
            "124/124 [==============================] - 1s 7ms/step - loss: 0.1294 - accuracy: 0.8629 - val_loss: 0.1694 - val_accuracy: 0.7801\n",
            "Epoch 22/150\n",
            "124/124 [==============================] - 1s 7ms/step - loss: 0.1274 - accuracy: 0.8629 - val_loss: 0.1687 - val_accuracy: 0.7824\n",
            "Epoch 23/150\n",
            "124/124 [==============================] - 1s 5ms/step - loss: 0.1244 - accuracy: 0.8710 - val_loss: 0.1665 - val_accuracy: 0.7917\n",
            "Epoch 24/150\n",
            "124/124 [==============================] - 1s 7ms/step - loss: 0.1249 - accuracy: 0.8710 - val_loss: 0.1665 - val_accuracy: 0.7917\n",
            "Epoch 25/150\n",
            "124/124 [==============================] - 1s 5ms/step - loss: 0.1228 - accuracy: 0.8629 - val_loss: 0.1650 - val_accuracy: 0.7963\n",
            "Epoch 26/150\n",
            "124/124 [==============================] - 1s 5ms/step - loss: 0.1213 - accuracy: 0.8710 - val_loss: 0.1640 - val_accuracy: 0.8009\n",
            "Epoch 27/150\n",
            "124/124 [==============================] - 1s 7ms/step - loss: 0.1208 - accuracy: 0.8790 - val_loss: 0.1652 - val_accuracy: 0.7917\n",
            "Epoch 28/150\n",
            "124/124 [==============================] - 1s 5ms/step - loss: 0.1192 - accuracy: 0.8871 - val_loss: 0.1660 - val_accuracy: 0.7870\n",
            "Epoch 29/150\n",
            "124/124 [==============================] - 1s 7ms/step - loss: 0.1180 - accuracy: 0.8790 - val_loss: 0.1614 - val_accuracy: 0.8102\n",
            "Epoch 30/150\n",
            "124/124 [==============================] - 1s 7ms/step - loss: 0.1179 - accuracy: 0.8710 - val_loss: 0.1610 - val_accuracy: 0.8056\n",
            "Epoch 31/150\n",
            "124/124 [==============================] - 1s 5ms/step - loss: 0.1165 - accuracy: 0.8710 - val_loss: 0.1599 - val_accuracy: 0.8079\n",
            "Epoch 32/150\n",
            "124/124 [==============================] - 1s 5ms/step - loss: 0.1153 - accuracy: 0.8871 - val_loss: 0.1630 - val_accuracy: 0.7940\n",
            "Epoch 33/150\n",
            "124/124 [==============================] - 1s 5ms/step - loss: 0.1145 - accuracy: 0.8790 - val_loss: 0.1595 - val_accuracy: 0.8032\n",
            "Epoch 34/150\n",
            "124/124 [==============================] - 1s 5ms/step - loss: 0.1127 - accuracy: 0.8710 - val_loss: 0.1582 - val_accuracy: 0.8079\n",
            "Epoch 35/150\n",
            "124/124 [==============================] - 1s 7ms/step - loss: 0.1113 - accuracy: 0.8790 - val_loss: 0.1582 - val_accuracy: 0.8009\n",
            "Epoch 36/150\n",
            "124/124 [==============================] - 1s 7ms/step - loss: 0.1077 - accuracy: 0.8871 - val_loss: 0.1519 - val_accuracy: 0.8125\n",
            "Epoch 37/150\n",
            "124/124 [==============================] - 1s 5ms/step - loss: 0.1076 - accuracy: 0.8871 - val_loss: 0.1530 - val_accuracy: 0.8056\n",
            "Epoch 38/150\n",
            "124/124 [==============================] - 1s 7ms/step - loss: 0.1056 - accuracy: 0.8871 - val_loss: 0.1498 - val_accuracy: 0.8148\n",
            "Epoch 39/150\n",
            "124/124 [==============================] - 1s 5ms/step - loss: 0.1040 - accuracy: 0.8871 - val_loss: 0.1482 - val_accuracy: 0.8171\n",
            "Epoch 40/150\n",
            "124/124 [==============================] - 1s 5ms/step - loss: 0.1023 - accuracy: 0.8871 - val_loss: 0.1454 - val_accuracy: 0.8194\n",
            "Epoch 41/150\n",
            "124/124 [==============================] - 1s 5ms/step - loss: 0.1004 - accuracy: 0.8871 - val_loss: 0.1457 - val_accuracy: 0.8102\n",
            "Epoch 42/150\n",
            "124/124 [==============================] - 1s 7ms/step - loss: 0.0992 - accuracy: 0.8952 - val_loss: 0.1419 - val_accuracy: 0.8194\n",
            "Epoch 43/150\n",
            "124/124 [==============================] - 1s 7ms/step - loss: 0.0975 - accuracy: 0.8952 - val_loss: 0.1407 - val_accuracy: 0.8194\n",
            "Epoch 44/150\n",
            "124/124 [==============================] - 1s 8ms/step - loss: 0.0958 - accuracy: 0.8952 - val_loss: 0.1415 - val_accuracy: 0.8194\n",
            "Epoch 45/150\n",
            "124/124 [==============================] - 1s 8ms/step - loss: 0.0950 - accuracy: 0.8952 - val_loss: 0.1363 - val_accuracy: 0.8264\n",
            "Epoch 46/150\n",
            "124/124 [==============================] - 1s 11ms/step - loss: 0.0934 - accuracy: 0.8871 - val_loss: 0.1353 - val_accuracy: 0.8241\n",
            "Epoch 47/150\n",
            "124/124 [==============================] - 1s 7ms/step - loss: 0.0923 - accuracy: 0.8952 - val_loss: 0.1330 - val_accuracy: 0.8287\n",
            "Epoch 48/150\n",
            "124/124 [==============================] - 1s 5ms/step - loss: 0.0916 - accuracy: 0.8952 - val_loss: 0.1323 - val_accuracy: 0.8287\n",
            "Epoch 49/150\n",
            "124/124 [==============================] - 1s 5ms/step - loss: 0.0898 - accuracy: 0.8952 - val_loss: 0.1300 - val_accuracy: 0.8287\n",
            "Epoch 50/150\n",
            "124/124 [==============================] - 1s 5ms/step - loss: 0.0889 - accuracy: 0.8952 - val_loss: 0.1302 - val_accuracy: 0.8287\n",
            "Epoch 51/150\n",
            "124/124 [==============================] - 1s 5ms/step - loss: 0.0876 - accuracy: 0.8952 - val_loss: 0.1275 - val_accuracy: 0.8287\n",
            "Epoch 52/150\n",
            "124/124 [==============================] - 1s 7ms/step - loss: 0.0861 - accuracy: 0.8952 - val_loss: 0.1256 - val_accuracy: 0.8310\n",
            "Epoch 53/150\n",
            "124/124 [==============================] - 1s 5ms/step - loss: 0.0848 - accuracy: 0.8952 - val_loss: 0.1248 - val_accuracy: 0.8310\n",
            "Epoch 54/150\n",
            "124/124 [==============================] - 1s 5ms/step - loss: 0.0834 - accuracy: 0.8952 - val_loss: 0.1223 - val_accuracy: 0.8310\n",
            "Epoch 55/150\n",
            "124/124 [==============================] - 1s 5ms/step - loss: 0.0821 - accuracy: 0.8952 - val_loss: 0.1188 - val_accuracy: 0.8333\n",
            "Epoch 56/150\n",
            "124/124 [==============================] - 1s 5ms/step - loss: 0.0811 - accuracy: 0.8952 - val_loss: 0.1161 - val_accuracy: 0.8333\n",
            "Epoch 57/150\n",
            "124/124 [==============================] - 1s 5ms/step - loss: 0.0794 - accuracy: 0.8952 - val_loss: 0.1134 - val_accuracy: 0.8356\n",
            "Epoch 58/150\n",
            "124/124 [==============================] - 1s 10ms/step - loss: 0.0783 - accuracy: 0.8952 - val_loss: 0.1113 - val_accuracy: 0.8403\n",
            "Epoch 59/150\n",
            "124/124 [==============================] - 1s 9ms/step - loss: 0.0768 - accuracy: 0.9032 - val_loss: 0.1102 - val_accuracy: 0.8356\n",
            "Epoch 60/150\n",
            "124/124 [==============================] - 1s 10ms/step - loss: 0.0756 - accuracy: 0.9032 - val_loss: 0.1058 - val_accuracy: 0.8472\n",
            "Epoch 61/150\n",
            "124/124 [==============================] - 1s 7ms/step - loss: 0.0735 - accuracy: 0.9032 - val_loss: 0.1070 - val_accuracy: 0.8426\n",
            "Epoch 62/150\n",
            "124/124 [==============================] - 1s 5ms/step - loss: 0.0721 - accuracy: 0.9032 - val_loss: 0.1078 - val_accuracy: 0.8380\n",
            "Epoch 63/150\n",
            "124/124 [==============================] - 1s 7ms/step - loss: 0.0717 - accuracy: 0.9032 - val_loss: 0.0994 - val_accuracy: 0.8681\n",
            "Epoch 64/150\n",
            "124/124 [==============================] - 1s 5ms/step - loss: 0.0701 - accuracy: 0.9032 - val_loss: 0.0981 - val_accuracy: 0.8681\n",
            "Epoch 65/150\n",
            "124/124 [==============================] - 1s 7ms/step - loss: 0.0686 - accuracy: 0.9032 - val_loss: 0.0963 - val_accuracy: 0.8704\n",
            "Epoch 66/150\n",
            "124/124 [==============================] - 1s 7ms/step - loss: 0.0672 - accuracy: 0.9113 - val_loss: 0.0939 - val_accuracy: 0.8773\n",
            "Epoch 67/150\n",
            "124/124 [==============================] - 1s 5ms/step - loss: 0.0654 - accuracy: 0.9113 - val_loss: 0.0908 - val_accuracy: 0.8819\n",
            "Epoch 68/150\n",
            "124/124 [==============================] - 1s 7ms/step - loss: 0.0632 - accuracy: 0.9274 - val_loss: 0.0906 - val_accuracy: 0.8796\n",
            "Epoch 69/150\n",
            "124/124 [==============================] - 1s 7ms/step - loss: 0.0626 - accuracy: 0.9113 - val_loss: 0.0870 - val_accuracy: 0.8866\n",
            "Epoch 70/150\n",
            "124/124 [==============================] - 1s 5ms/step - loss: 0.0603 - accuracy: 0.9113 - val_loss: 0.0838 - val_accuracy: 0.9097\n",
            "Epoch 71/150\n",
            "124/124 [==============================] - 1s 7ms/step - loss: 0.0593 - accuracy: 0.9274 - val_loss: 0.0824 - val_accuracy: 0.8981\n",
            "Epoch 72/150\n",
            "124/124 [==============================] - 1s 7ms/step - loss: 0.0574 - accuracy: 0.9274 - val_loss: 0.0833 - val_accuracy: 0.8866\n",
            "Epoch 73/150\n",
            "124/124 [==============================] - 1s 5ms/step - loss: 0.0564 - accuracy: 0.9274 - val_loss: 0.0796 - val_accuracy: 0.8935\n",
            "Epoch 74/150\n",
            "124/124 [==============================] - 1s 7ms/step - loss: 0.0546 - accuracy: 0.9274 - val_loss: 0.0772 - val_accuracy: 0.9097\n",
            "Epoch 75/150\n",
            "124/124 [==============================] - 1s 7ms/step - loss: 0.0532 - accuracy: 0.9355 - val_loss: 0.0755 - val_accuracy: 0.9097\n",
            "Epoch 76/150\n",
            "124/124 [==============================] - 1s 5ms/step - loss: 0.0517 - accuracy: 0.9274 - val_loss: 0.0735 - val_accuracy: 0.9144\n",
            "Epoch 77/150\n",
            "124/124 [==============================] - 1s 7ms/step - loss: 0.0503 - accuracy: 0.9355 - val_loss: 0.0715 - val_accuracy: 0.9144\n",
            "Epoch 78/150\n",
            "124/124 [==============================] - 1s 5ms/step - loss: 0.0484 - accuracy: 0.9516 - val_loss: 0.0716 - val_accuracy: 0.9120\n",
            "Epoch 79/150\n",
            "124/124 [==============================] - 1s 7ms/step - loss: 0.0474 - accuracy: 0.9435 - val_loss: 0.0702 - val_accuracy: 0.9167\n",
            "Epoch 80/150\n",
            "124/124 [==============================] - 1s 5ms/step - loss: 0.0460 - accuracy: 0.9516 - val_loss: 0.0691 - val_accuracy: 0.9213\n",
            "Epoch 81/150\n",
            "124/124 [==============================] - 1s 5ms/step - loss: 0.0449 - accuracy: 0.9597 - val_loss: 0.0670 - val_accuracy: 0.9190\n",
            "Epoch 82/150\n",
            "124/124 [==============================] - 1s 7ms/step - loss: 0.0436 - accuracy: 0.9597 - val_loss: 0.0650 - val_accuracy: 0.9282\n",
            "Epoch 83/150\n",
            "124/124 [==============================] - 1s 5ms/step - loss: 0.0421 - accuracy: 0.9597 - val_loss: 0.0643 - val_accuracy: 0.9306\n",
            "Epoch 84/150\n",
            "124/124 [==============================] - 1s 5ms/step - loss: 0.0410 - accuracy: 0.9597 - val_loss: 0.0633 - val_accuracy: 0.9329\n",
            "Epoch 85/150\n",
            "124/124 [==============================] - 1s 7ms/step - loss: 0.0401 - accuracy: 0.9597 - val_loss: 0.0620 - val_accuracy: 0.9329\n",
            "Epoch 86/150\n",
            "124/124 [==============================] - 1s 5ms/step - loss: 0.0388 - accuracy: 0.9597 - val_loss: 0.0611 - val_accuracy: 0.9306\n",
            "Epoch 87/150\n",
            "124/124 [==============================] - 1s 5ms/step - loss: 0.0378 - accuracy: 0.9597 - val_loss: 0.0596 - val_accuracy: 0.9398\n",
            "Epoch 88/150\n",
            "124/124 [==============================] - 1s 7ms/step - loss: 0.0370 - accuracy: 0.9677 - val_loss: 0.0585 - val_accuracy: 0.9444\n",
            "Epoch 89/150\n",
            "124/124 [==============================] - 2s 13ms/step - loss: 0.0360 - accuracy: 0.9677 - val_loss: 0.0578 - val_accuracy: 0.9421\n",
            "Epoch 90/150\n",
            "124/124 [==============================] - 1s 9ms/step - loss: 0.0349 - accuracy: 0.9758 - val_loss: 0.0582 - val_accuracy: 0.9375\n",
            "Epoch 91/150\n",
            "124/124 [==============================] - 2s 13ms/step - loss: 0.0343 - accuracy: 0.9758 - val_loss: 0.0557 - val_accuracy: 0.9421\n",
            "Epoch 92/150\n",
            "124/124 [==============================] - 2s 13ms/step - loss: 0.0332 - accuracy: 0.9758 - val_loss: 0.0557 - val_accuracy: 0.9398\n",
            "Epoch 93/150\n",
            "124/124 [==============================] - 1s 8ms/step - loss: 0.0321 - accuracy: 0.9758 - val_loss: 0.0530 - val_accuracy: 0.9468\n",
            "Epoch 94/150\n",
            "124/124 [==============================] - 1s 5ms/step - loss: 0.0311 - accuracy: 0.9758 - val_loss: 0.0528 - val_accuracy: 0.9491\n",
            "Epoch 95/150\n",
            "124/124 [==============================] - 1s 5ms/step - loss: 0.0303 - accuracy: 0.9839 - val_loss: 0.0515 - val_accuracy: 0.9537\n",
            "Epoch 96/150\n",
            "124/124 [==============================] - 1s 5ms/step - loss: 0.0292 - accuracy: 0.9839 - val_loss: 0.0498 - val_accuracy: 0.9537\n",
            "Epoch 97/150\n",
            "124/124 [==============================] - 1s 7ms/step - loss: 0.0288 - accuracy: 0.9839 - val_loss: 0.0488 - val_accuracy: 0.9537\n",
            "Epoch 98/150\n",
            "124/124 [==============================] - 1s 7ms/step - loss: 0.0271 - accuracy: 0.9839 - val_loss: 0.0470 - val_accuracy: 0.9583\n",
            "Epoch 99/150\n",
            "124/124 [==============================] - 1s 5ms/step - loss: 0.0261 - accuracy: 0.9839 - val_loss: 0.0451 - val_accuracy: 0.9653\n",
            "Epoch 100/150\n",
            "124/124 [==============================] - 1s 7ms/step - loss: 0.0244 - accuracy: 0.9839 - val_loss: 0.0438 - val_accuracy: 0.9676\n",
            "Epoch 101/150\n",
            "124/124 [==============================] - 1s 5ms/step - loss: 0.0229 - accuracy: 0.9839 - val_loss: 0.0422 - val_accuracy: 0.9676\n",
            "Epoch 102/150\n",
            "124/124 [==============================] - 1s 7ms/step - loss: 0.0220 - accuracy: 0.9919 - val_loss: 0.0408 - val_accuracy: 0.9769\n",
            "Epoch 103/150\n",
            "124/124 [==============================] - 1s 5ms/step - loss: 0.0207 - accuracy: 0.9919 - val_loss: 0.0399 - val_accuracy: 0.9792\n",
            "Epoch 104/150\n",
            "124/124 [==============================] - 1s 7ms/step - loss: 0.0198 - accuracy: 0.9919 - val_loss: 0.0395 - val_accuracy: 0.9745\n",
            "Epoch 105/150\n",
            "124/124 [==============================] - 1s 7ms/step - loss: 0.0189 - accuracy: 0.9919 - val_loss: 0.0374 - val_accuracy: 0.9861\n",
            "Epoch 106/150\n",
            "124/124 [==============================] - 1s 7ms/step - loss: 0.0180 - accuracy: 0.9919 - val_loss: 0.0369 - val_accuracy: 0.9861\n",
            "Epoch 107/150\n",
            "124/124 [==============================] - 1s 5ms/step - loss: 0.0174 - accuracy: 0.9919 - val_loss: 0.0352 - val_accuracy: 0.9861\n",
            "Epoch 108/150\n",
            "124/124 [==============================] - 1s 5ms/step - loss: 0.0168 - accuracy: 0.9919 - val_loss: 0.0351 - val_accuracy: 0.9907\n",
            "Epoch 109/150\n",
            "124/124 [==============================] - 1s 5ms/step - loss: 0.0160 - accuracy: 0.9919 - val_loss: 0.0342 - val_accuracy: 0.9907\n",
            "Epoch 110/150\n",
            "124/124 [==============================] - 1s 7ms/step - loss: 0.0155 - accuracy: 1.0000 - val_loss: 0.0333 - val_accuracy: 0.9931\n",
            "Epoch 111/150\n",
            "124/124 [==============================] - 1s 5ms/step - loss: 0.0149 - accuracy: 1.0000 - val_loss: 0.0324 - val_accuracy: 0.9931\n",
            "Epoch 112/150\n",
            "124/124 [==============================] - 1s 7ms/step - loss: 0.0143 - accuracy: 1.0000 - val_loss: 0.0321 - val_accuracy: 0.9931\n",
            "Epoch 113/150\n",
            "124/124 [==============================] - 1s 7ms/step - loss: 0.0139 - accuracy: 1.0000 - val_loss: 0.0310 - val_accuracy: 0.9954\n",
            "Epoch 114/150\n",
            "124/124 [==============================] - 1s 5ms/step - loss: 0.0135 - accuracy: 1.0000 - val_loss: 0.0305 - val_accuracy: 0.9954\n",
            "Epoch 115/150\n",
            "124/124 [==============================] - 1s 7ms/step - loss: 0.0129 - accuracy: 1.0000 - val_loss: 0.0298 - val_accuracy: 0.9954\n",
            "Epoch 116/150\n",
            "124/124 [==============================] - 1s 5ms/step - loss: 0.0126 - accuracy: 1.0000 - val_loss: 0.0289 - val_accuracy: 0.9954\n",
            "Epoch 117/150\n",
            "124/124 [==============================] - 1s 5ms/step - loss: 0.0122 - accuracy: 1.0000 - val_loss: 0.0285 - val_accuracy: 0.9954\n",
            "Epoch 118/150\n",
            "124/124 [==============================] - 1s 5ms/step - loss: 0.0118 - accuracy: 1.0000 - val_loss: 0.0283 - val_accuracy: 0.9954\n",
            "Epoch 119/150\n",
            "124/124 [==============================] - 1s 7ms/step - loss: 0.0116 - accuracy: 1.0000 - val_loss: 0.0275 - val_accuracy: 0.9954\n",
            "Epoch 120/150\n",
            "124/124 [==============================] - 1s 5ms/step - loss: 0.0111 - accuracy: 1.0000 - val_loss: 0.0274 - val_accuracy: 0.9954\n",
            "Epoch 121/150\n",
            "124/124 [==============================] - 1s 5ms/step - loss: 0.0109 - accuracy: 1.0000 - val_loss: 0.0268 - val_accuracy: 0.9954\n",
            "Epoch 122/150\n",
            "124/124 [==============================] - 1s 7ms/step - loss: 0.0107 - accuracy: 1.0000 - val_loss: 0.0261 - val_accuracy: 0.9954\n",
            "Epoch 123/150\n",
            "124/124 [==============================] - 1s 7ms/step - loss: 0.0103 - accuracy: 1.0000 - val_loss: 0.0259 - val_accuracy: 0.9954\n",
            "Epoch 124/150\n",
            "124/124 [==============================] - 1s 7ms/step - loss: 0.0101 - accuracy: 1.0000 - val_loss: 0.0257 - val_accuracy: 0.9954\n",
            "Epoch 125/150\n",
            "124/124 [==============================] - 1s 5ms/step - loss: 0.0099 - accuracy: 1.0000 - val_loss: 0.0249 - val_accuracy: 0.9954\n",
            "Epoch 126/150\n",
            "124/124 [==============================] - 1s 7ms/step - loss: 0.0096 - accuracy: 1.0000 - val_loss: 0.0246 - val_accuracy: 0.9954\n",
            "Epoch 127/150\n",
            "124/124 [==============================] - 1s 5ms/step - loss: 0.0093 - accuracy: 1.0000 - val_loss: 0.0246 - val_accuracy: 0.9954\n",
            "Epoch 128/150\n",
            "124/124 [==============================] - 1s 7ms/step - loss: 0.0093 - accuracy: 1.0000 - val_loss: 0.0235 - val_accuracy: 0.9954\n",
            "Epoch 129/150\n",
            "124/124 [==============================] - 1s 5ms/step - loss: 0.0089 - accuracy: 1.0000 - val_loss: 0.0230 - val_accuracy: 0.9977\n",
            "Epoch 130/150\n",
            "124/124 [==============================] - 1s 7ms/step - loss: 0.0088 - accuracy: 1.0000 - val_loss: 0.0228 - val_accuracy: 0.9977\n",
            "Epoch 131/150\n",
            "124/124 [==============================] - 1s 7ms/step - loss: 0.0086 - accuracy: 1.0000 - val_loss: 0.0226 - val_accuracy: 0.9977\n",
            "Epoch 132/150\n",
            "124/124 [==============================] - 1s 7ms/step - loss: 0.0084 - accuracy: 1.0000 - val_loss: 0.0223 - val_accuracy: 0.9977\n",
            "Epoch 133/150\n",
            "124/124 [==============================] - 1s 7ms/step - loss: 0.0082 - accuracy: 1.0000 - val_loss: 0.0217 - val_accuracy: 0.9977\n",
            "Epoch 134/150\n",
            "124/124 [==============================] - 1s 7ms/step - loss: 0.0081 - accuracy: 1.0000 - val_loss: 0.0215 - val_accuracy: 0.9977\n",
            "Epoch 135/150\n",
            "124/124 [==============================] - 1s 7ms/step - loss: 0.0079 - accuracy: 1.0000 - val_loss: 0.0211 - val_accuracy: 0.9977\n",
            "Epoch 136/150\n",
            "124/124 [==============================] - 1s 7ms/step - loss: 0.0077 - accuracy: 1.0000 - val_loss: 0.0210 - val_accuracy: 0.9977\n",
            "Epoch 137/150\n",
            "124/124 [==============================] - 1s 7ms/step - loss: 0.0076 - accuracy: 1.0000 - val_loss: 0.0209 - val_accuracy: 0.9977\n",
            "Epoch 138/150\n",
            "124/124 [==============================] - 1s 5ms/step - loss: 0.0075 - accuracy: 1.0000 - val_loss: 0.0203 - val_accuracy: 0.9977\n",
            "Epoch 139/150\n",
            "124/124 [==============================] - 1s 7ms/step - loss: 0.0073 - accuracy: 1.0000 - val_loss: 0.0203 - val_accuracy: 0.9977\n",
            "Epoch 140/150\n",
            "124/124 [==============================] - 1s 5ms/step - loss: 0.0072 - accuracy: 1.0000 - val_loss: 0.0197 - val_accuracy: 0.9977\n",
            "Epoch 141/150\n",
            "124/124 [==============================] - 1s 5ms/step - loss: 0.0071 - accuracy: 1.0000 - val_loss: 0.0194 - val_accuracy: 0.9977\n",
            "Epoch 142/150\n",
            "124/124 [==============================] - 1s 5ms/step - loss: 0.0069 - accuracy: 1.0000 - val_loss: 0.0191 - val_accuracy: 0.9977\n",
            "Epoch 143/150\n",
            "124/124 [==============================] - 1s 5ms/step - loss: 0.0068 - accuracy: 1.0000 - val_loss: 0.0188 - val_accuracy: 0.9977\n",
            "Epoch 144/150\n",
            "124/124 [==============================] - 1s 7ms/step - loss: 0.0067 - accuracy: 1.0000 - val_loss: 0.0187 - val_accuracy: 0.9977\n",
            "Epoch 145/150\n",
            "124/124 [==============================] - 1s 5ms/step - loss: 0.0066 - accuracy: 1.0000 - val_loss: 0.0183 - val_accuracy: 0.9977\n",
            "Epoch 146/150\n",
            "124/124 [==============================] - 1s 7ms/step - loss: 0.0065 - accuracy: 1.0000 - val_loss: 0.0183 - val_accuracy: 0.9977\n",
            "Epoch 147/150\n",
            "124/124 [==============================] - 1s 5ms/step - loss: 0.0064 - accuracy: 1.0000 - val_loss: 0.0183 - val_accuracy: 0.9977\n",
            "Epoch 148/150\n",
            "124/124 [==============================] - 1s 5ms/step - loss: 0.0063 - accuracy: 1.0000 - val_loss: 0.0179 - val_accuracy: 0.9977\n",
            "Epoch 149/150\n",
            "124/124 [==============================] - 1s 7ms/step - loss: 0.0062 - accuracy: 1.0000 - val_loss: 0.0176 - val_accuracy: 0.9977\n",
            "Epoch 150/150\n",
            "124/124 [==============================] - 1s 7ms/step - loss: 0.0061 - accuracy: 1.0000 - val_loss: 0.0176 - val_accuracy: 0.9977\n",
            "CPU times: user 1min 46s, sys: 7.27 s, total: 1min 54s\n",
            "Wall time: 1min 53s\n"
          ]
        },
        {
          "output_type": "execute_result",
          "data": {
            "text/plain": [
              "Ellipsis"
            ]
          },
          "metadata": {},
          "execution_count": 21
        }
      ],
      "source": [
        "%%time\n",
        "# fit the keras model on the dataset\n",
        "history1 = model_1.fit(X_1_tr, y_1_tr,validation_data=(X_test_1,y_test_1) ,epochs=150, batch_size=1)\n",
        "..."
      ]
    },
    {
      "cell_type": "code",
      "execution_count": null,
      "metadata": {
        "colab": {
          "base_uri": "https://localhost:8080/"
        },
        "id": "VbLDOj_ohtaT",
        "outputId": "572b81fe-7f96-4380-b698-bf81e288035e"
      },
      "outputs": [
        {
          "output_type": "stream",
          "name": "stdout",
          "text": [
            "14/14 [==============================] - 0s 2ms/step - loss: 0.0176 - accuracy: 0.9977\n",
            "Accuracy: 99.77\n"
          ]
        }
      ],
      "source": [
        "...\n",
        "# evaluate the keras model\n",
        "_, accuracy = model_1.evaluate(X_test_1, y_test_1, )\n",
        "print('Accuracy: %.2f' % (accuracy*100))"
      ]
    },
    {
      "cell_type": "code",
      "execution_count": null,
      "metadata": {
        "colab": {
          "base_uri": "https://localhost:8080/",
          "height": 331
        },
        "id": "V6YMU-iIhteR",
        "outputId": "745e5dbd-1796-40f6-e609-48947b2b09f1"
      },
      "outputs": [
        {
          "output_type": "stream",
          "name": "stdout",
          "text": [
            "Train: 0.005945 Test: 0.017636\n",
            "Train accuracy: 1.0000 Test accuracy: 0.9977\n"
          ]
        },
        {
          "output_type": "display_data",
          "data": {
            "text/plain": [
              "<Figure size 432x288 with 1 Axes>"
            ],
            "image/png": "[encoded data removed]"
          },
          "metadata": {
            "needs_background": "light"
          }
        }
      ],
      "source": [
        "#Evaluate model\n",
        "from matplotlib import pyplot\n",
        "train_mse,train_accuracy = model_1.evaluate(X_1_tr, y_1_tr, verbose=0)\n",
        "test_mse,test_accuracy = model_1.evaluate(X_test_1,y_test_1,verbose=0)\n",
        "print('Train: %.6f Test: %.6f'%(train_mse,test_mse))\n",
        "print('Train accuracy: %.4f Test accuracy: %.4f'%(train_accuracy,test_accuracy))\n",
        "pyplot.title('Loss / Mean Squared Error')\n",
        "pyplot.plot(history1.history['accuracy'], label='train')\n",
        "pyplot.plot(history1.history['val_accuracy'], label='test',linestyle=\"dashed\")\n",
        "pyplot.xlabel('epoch')\n",
        "pyplot.ylabel('accuracy')\n",
        "pyplot.legend()\n",
        "pyplot.show()"
      ]
    },
    {
      "cell_type": "markdown",
      "metadata": {
        "id": "c_-IyJZbgOH8"
      },
      "source": [
        "# **MONK 2**"
      ]
    },
    {
      "cell_type": "code",
      "execution_count": null,
      "metadata": {
        "colab": {
          "base_uri": "https://localhost:8080/"
        },
        "id": "9tv3vJ0Jq6Hy",
        "outputId": "6266837a-f498-4c68-cf6b-18fe6585ae76"
      },
      "outputs": [
        {
          "output_type": "execute_result",
          "data": {
            "text/plain": [
              "Ellipsis"
            ]
          },
          "metadata": {},
          "execution_count": 39
        }
      ],
      "source": [
        "...\n",
        "# define the keras model for monk 2\n",
        "model_2 = Sequential()\n",
        "model_2.add(Dense(4, input_shape=(X_test_2.shape[1],), activation='relu'))\n",
        "model_2.add(Dense(1, activation='sigmoid'))\n",
        "..."
      ]
    },
    {
      "cell_type": "code",
      "execution_count": null,
      "metadata": {
        "colab": {
          "base_uri": "https://localhost:8080/"
        },
        "id": "Kf36cJQEq6H4",
        "outputId": "68f6651d-12ac-4ba7-94cb-381acb781204"
      },
      "outputs": [
        {
          "output_type": "stream",
          "name": "stdout",
          "text": [
            "Model: \"sequential_5\"\n",
            "_________________________________________________________________\n",
            " Layer (type)                Output Shape              Param #   \n",
            "=================================================================\n",
            " dense_10 (Dense)            (None, 4)                 72        \n",
            "                                                                 \n",
            " dense_11 (Dense)            (None, 1)                 5         \n",
            "                                                                 \n",
            "=================================================================\n",
            "Total params: 77\n",
            "Trainable params: 77\n",
            "Non-trainable params: 0\n",
            "_________________________________________________________________\n"
          ]
        },
        {
          "output_type": "execute_result",
          "data": {
            "text/plain": [
              "Ellipsis"
            ]
          },
          "metadata": {},
          "execution_count": 40
        }
      ],
      "source": [
        "...\n",
        "# compile the keras model\n",
        "model_2.summary()\n",
        "opt = tf.keras.optimizers.experimental.SGD(learning_rate = 0.05, momentum=0.09)\n",
        "model_2.compile(loss='mean_squared_error', optimizer = opt, metrics=['accuracy'])\n",
        "..."
      ]
    },
    {
      "cell_type": "code",
      "execution_count": null,
      "metadata": {
        "colab": {
          "base_uri": "https://localhost:8080/"
        },
        "id": "Xcs8Lm66q6H5",
        "outputId": "9bc8d05c-90ed-47e8-d489-667e65f0b2ec"
      },
      "outputs": [
        {
          "output_type": "stream",
          "name": "stdout",
          "text": [
            "Epoch 1/50\n",
            "169/169 [==============================] - 2s 7ms/step - loss: 0.2410 - accuracy: 0.5740 - val_loss: 0.2267 - val_accuracy: 0.5648\n",
            "Epoch 2/50\n",
            "169/169 [==============================] - 1s 4ms/step - loss: 0.2247 - accuracy: 0.5503 - val_loss: 0.2138 - val_accuracy: 0.6713\n",
            "Epoch 3/50\n",
            "169/169 [==============================] - 1s 5ms/step - loss: 0.2113 - accuracy: 0.6154 - val_loss: 0.2063 - val_accuracy: 0.5972\n",
            "Epoch 4/50\n",
            "169/169 [==============================] - 1s 4ms/step - loss: 0.2006 - accuracy: 0.6272 - val_loss: 0.1937 - val_accuracy: 0.6065\n",
            "Epoch 5/50\n",
            "169/169 [==============================] - 1s 5ms/step - loss: 0.1878 - accuracy: 0.6627 - val_loss: 0.1822 - val_accuracy: 0.6065\n",
            "Epoch 6/50\n",
            "169/169 [==============================] - 1s 5ms/step - loss: 0.1762 - accuracy: 0.6686 - val_loss: 0.1727 - val_accuracy: 0.6713\n",
            "Epoch 7/50\n",
            "169/169 [==============================] - 1s 4ms/step - loss: 0.1671 - accuracy: 0.7337 - val_loss: 0.1672 - val_accuracy: 0.6296\n",
            "Epoch 8/50\n",
            "169/169 [==============================] - 1s 6ms/step - loss: 0.1611 - accuracy: 0.7278 - val_loss: 0.1594 - val_accuracy: 0.7199\n",
            "Epoch 9/50\n",
            "169/169 [==============================] - 1s 5ms/step - loss: 0.1550 - accuracy: 0.7574 - val_loss: 0.1553 - val_accuracy: 0.7269\n",
            "Epoch 10/50\n",
            "169/169 [==============================] - 1s 5ms/step - loss: 0.1487 - accuracy: 0.7929 - val_loss: 0.1483 - val_accuracy: 0.7523\n",
            "Epoch 11/50\n",
            "169/169 [==============================] - 1s 5ms/step - loss: 0.1412 - accuracy: 0.8107 - val_loss: 0.1436 - val_accuracy: 0.7755\n",
            "Epoch 12/50\n",
            "169/169 [==============================] - 1s 4ms/step - loss: 0.1323 - accuracy: 0.8284 - val_loss: 0.1321 - val_accuracy: 0.8148\n",
            "Epoch 13/50\n",
            "169/169 [==============================] - 1s 5ms/step - loss: 0.1188 - accuracy: 0.8639 - val_loss: 0.1170 - val_accuracy: 0.8611\n",
            "Epoch 14/50\n",
            "169/169 [==============================] - 1s 5ms/step - loss: 0.1036 - accuracy: 0.8817 - val_loss: 0.1000 - val_accuracy: 0.8981\n",
            "Epoch 15/50\n",
            "169/169 [==============================] - 1s 4ms/step - loss: 0.0864 - accuracy: 0.9290 - val_loss: 0.0825 - val_accuracy: 0.9398\n",
            "Epoch 16/50\n",
            "169/169 [==============================] - 1s 5ms/step - loss: 0.0674 - accuracy: 0.9704 - val_loss: 0.0685 - val_accuracy: 0.9560\n",
            "Epoch 17/50\n",
            "169/169 [==============================] - 1s 4ms/step - loss: 0.0534 - accuracy: 1.0000 - val_loss: 0.0494 - val_accuracy: 1.0000\n",
            "Epoch 18/50\n",
            "169/169 [==============================] - 1s 4ms/step - loss: 0.0399 - accuracy: 1.0000 - val_loss: 0.0411 - val_accuracy: 1.0000\n",
            "Epoch 19/50\n",
            "169/169 [==============================] - 1s 5ms/step - loss: 0.0325 - accuracy: 1.0000 - val_loss: 0.0288 - val_accuracy: 1.0000\n",
            "Epoch 20/50\n",
            "169/169 [==============================] - 1s 4ms/step - loss: 0.0256 - accuracy: 1.0000 - val_loss: 0.0232 - val_accuracy: 1.0000\n",
            "Epoch 21/50\n",
            "169/169 [==============================] - 1s 6ms/step - loss: 0.0210 - accuracy: 1.0000 - val_loss: 0.0196 - val_accuracy: 1.0000\n",
            "Epoch 22/50\n",
            "169/169 [==============================] - 1s 4ms/step - loss: 0.0175 - accuracy: 1.0000 - val_loss: 0.0158 - val_accuracy: 1.0000\n",
            "Epoch 23/50\n",
            "169/169 [==============================] - 1s 4ms/step - loss: 0.0151 - accuracy: 1.0000 - val_loss: 0.0134 - val_accuracy: 1.0000\n",
            "Epoch 24/50\n",
            "169/169 [==============================] - 1s 4ms/step - loss: 0.0129 - accuracy: 1.0000 - val_loss: 0.0119 - val_accuracy: 1.0000\n",
            "Epoch 25/50\n",
            "169/169 [==============================] - 1s 4ms/step - loss: 0.0115 - accuracy: 1.0000 - val_loss: 0.0105 - val_accuracy: 1.0000\n",
            "Epoch 26/50\n",
            "169/169 [==============================] - 1s 5ms/step - loss: 0.0101 - accuracy: 1.0000 - val_loss: 0.0098 - val_accuracy: 1.0000\n",
            "Epoch 27/50\n",
            "169/169 [==============================] - 1s 4ms/step - loss: 0.0093 - accuracy: 1.0000 - val_loss: 0.0086 - val_accuracy: 1.0000\n",
            "Epoch 28/50\n",
            "169/169 [==============================] - 1s 5ms/step - loss: 0.0083 - accuracy: 1.0000 - val_loss: 0.0078 - val_accuracy: 1.0000\n",
            "Epoch 29/50\n",
            "169/169 [==============================] - 1s 5ms/step - loss: 0.0076 - accuracy: 1.0000 - val_loss: 0.0071 - val_accuracy: 1.0000\n",
            "Epoch 30/50\n",
            "169/169 [==============================] - 1s 6ms/step - loss: 0.0070 - accuracy: 1.0000 - val_loss: 0.0067 - val_accuracy: 1.0000\n",
            "Epoch 31/50\n",
            "169/169 [==============================] - 1s 4ms/step - loss: 0.0065 - accuracy: 1.0000 - val_loss: 0.0060 - val_accuracy: 1.0000\n",
            "Epoch 32/50\n",
            "169/169 [==============================] - 1s 4ms/step - loss: 0.0060 - accuracy: 1.0000 - val_loss: 0.0056 - val_accuracy: 1.0000\n",
            "Epoch 33/50\n",
            "169/169 [==============================] - 1s 5ms/step - loss: 0.0056 - accuracy: 1.0000 - val_loss: 0.0052 - val_accuracy: 1.0000\n",
            "Epoch 34/50\n",
            "169/169 [==============================] - 1s 8ms/step - loss: 0.0052 - accuracy: 1.0000 - val_loss: 0.0049 - val_accuracy: 1.0000\n",
            "Epoch 35/50\n",
            "169/169 [==============================] - 1s 5ms/step - loss: 0.0049 - accuracy: 1.0000 - val_loss: 0.0046 - val_accuracy: 1.0000\n",
            "Epoch 36/50\n",
            "169/169 [==============================] - 1s 5ms/step - loss: 0.0046 - accuracy: 1.0000 - val_loss: 0.0043 - val_accuracy: 1.0000\n",
            "Epoch 37/50\n",
            "169/169 [==============================] - 1s 5ms/step - loss: 0.0043 - accuracy: 1.0000 - val_loss: 0.0041 - val_accuracy: 1.0000\n",
            "Epoch 38/50\n",
            "169/169 [==============================] - 1s 4ms/step - loss: 0.0041 - accuracy: 1.0000 - val_loss: 0.0039 - val_accuracy: 1.0000\n",
            "Epoch 39/50\n",
            "169/169 [==============================] - 1s 5ms/step - loss: 0.0039 - accuracy: 1.0000 - val_loss: 0.0037 - val_accuracy: 1.0000\n",
            "Epoch 40/50\n",
            "169/169 [==============================] - 1s 4ms/step - loss: 0.0037 - accuracy: 1.0000 - val_loss: 0.0035 - val_accuracy: 1.0000\n",
            "Epoch 41/50\n",
            "169/169 [==============================] - 1s 4ms/step - loss: 0.0035 - accuracy: 1.0000 - val_loss: 0.0033 - val_accuracy: 1.0000\n",
            "Epoch 42/50\n",
            "169/169 [==============================] - 1s 4ms/step - loss: 0.0034 - accuracy: 1.0000 - val_loss: 0.0032 - val_accuracy: 1.0000\n",
            "Epoch 43/50\n",
            "169/169 [==============================] - 1s 6ms/step - loss: 0.0032 - accuracy: 1.0000 - val_loss: 0.0030 - val_accuracy: 1.0000\n",
            "Epoch 44/50\n",
            "169/169 [==============================] - 1s 5ms/step - loss: 0.0031 - accuracy: 1.0000 - val_loss: 0.0029 - val_accuracy: 1.0000\n",
            "Epoch 45/50\n",
            "169/169 [==============================] - 1s 4ms/step - loss: 0.0030 - accuracy: 1.0000 - val_loss: 0.0028 - val_accuracy: 1.0000\n",
            "Epoch 46/50\n",
            "169/169 [==============================] - 1s 5ms/step - loss: 0.0028 - accuracy: 1.0000 - val_loss: 0.0027 - val_accuracy: 1.0000\n",
            "Epoch 47/50\n",
            "169/169 [==============================] - 2s 10ms/step - loss: 0.0027 - accuracy: 1.0000 - val_loss: 0.0026 - val_accuracy: 1.0000\n",
            "Epoch 48/50\n",
            "169/169 [==============================] - 2s 11ms/step - loss: 0.0026 - accuracy: 1.0000 - val_loss: 0.0025 - val_accuracy: 1.0000\n",
            "Epoch 49/50\n",
            "169/169 [==============================] - 2s 11ms/step - loss: 0.0025 - accuracy: 1.0000 - val_loss: 0.0024 - val_accuracy: 1.0000\n",
            "Epoch 50/50\n",
            "169/169 [==============================] - 2s 11ms/step - loss: 0.0025 - accuracy: 1.0000 - val_loss: 0.0023 - val_accuracy: 1.0000\n",
            "CPU times: user 44.5 s, sys: 2.74 s, total: 47.2 s\n",
            "Wall time: 46.9 s\n"
          ]
        },
        {
          "output_type": "execute_result",
          "data": {
            "text/plain": [
              "Ellipsis"
            ]
          },
          "metadata": {},
          "execution_count": 41
        }
      ],
      "source": [
        "%%time\n",
        "# fit the keras model on the dataset\n",
        "history2 = model_2.fit(X_2_tr, y_2_tr,validation_data=(X_test_2,y_test_2) , epochs=50, batch_size=1)\n",
        "..."
      ]
    },
    {
      "cell_type": "code",
      "execution_count": null,
      "metadata": {
        "colab": {
          "base_uri": "https://localhost:8080/"
        },
        "id": "yh6uHgbrq6H6",
        "outputId": "127b0379-ad4f-4751-ba2d-4dbda78f3414"
      },
      "outputs": [
        {
          "output_type": "stream",
          "name": "stdout",
          "text": [
            "14/14 [==============================] - 0s 2ms/step - loss: 0.0023 - accuracy: 1.0000\n",
            "Accuracy: 100.00\n"
          ]
        }
      ],
      "source": [
        "...\n",
        "# evaluate the keras model\n",
        "_, accuracy = model_2.evaluate(X_test_2, y_test_2, )\n",
        "print('Accuracy: %.2f' % (accuracy*100))"
      ]
    },
    {
      "cell_type": "code",
      "execution_count": null,
      "metadata": {
        "colab": {
          "base_uri": "https://localhost:8080/",
          "height": 313
        },
        "id": "nE4NVuX_dGpK",
        "outputId": "cc7f7f93-0e40-417a-fb03-3be78ec7dc68"
      },
      "outputs": [
        {
          "output_type": "stream",
          "name": "stdout",
          "text": [
            "Train: 1.0000 Test: 1.0000\n"
          ]
        },
        {
          "output_type": "display_data",
          "data": {
            "text/plain": [
              "<Figure size 432x288 with 1 Axes>"
            ],
            "image/png": "[encoded data removed]"
          },
          "metadata": {
            "needs_background": "light"
          }
        }
      ],
      "source": [
        "#Evaluate model\n",
        "from matplotlib import pyplot\n",
        "train_mse, train_accuracy = model_2.evaluate(X_2_tr, y_2_tr, verbose=0)\n",
        "test_mse, test_accuracy = model_2.evaluate(X_test_2,y_test_2,verbose=0)\n",
        "print('Train: %.6f Test: %.6f'%(train_mse,test_mse))\n",
        "print('Train accuracy: %.4f Test accuracy: %.4f'%(train_accuracy,test_accuracy))\n",
        "pyplot.title('Loss / Mean Squared Error')\n",
        "pyplot.plot(history2.history['accuracy'], label='train')\n",
        "pyplot.plot(history2.history['val_accuracy'], label='test',linestyle=\"dashed\" )\n",
        "pyplot.xlabel('epoch')\n",
        "pyplot.ylabel('accuracy')\n",
        "pyplot.legend()\n",
        "pyplot.show()"
      ]
    },
    {
      "cell_type": "markdown",
      "metadata": {
        "id": "IoIHfhy1gEVb"
      },
      "source": [
        "# **MONK 3**"
      ]
    },
    {
      "cell_type": "code",
      "execution_count": null,
      "metadata": {
        "colab": {
          "base_uri": "https://localhost:8080/"
        },
        "id": "cgoejW98xCX8",
        "outputId": "7991962c-5d49-4bf4-dc6e-c68c1f5184d3"
      },
      "outputs": [
        {
          "output_type": "execute_result",
          "data": {
            "text/plain": [
              "Ellipsis"
            ]
          },
          "metadata": {},
          "execution_count": 45
        }
      ],
      "source": [
        "...\n",
        "# define the keras model for monk 3\n",
        "model_3 = Sequential()\n",
        "model_3.add(Dense(3, input_shape=(X_test_3.shape[1],), activation='relu'))\n",
        "model_3.add(Dense(1, activation='sigmoid'))\n",
        "..."
      ]
    },
    {
      "cell_type": "code",
      "execution_count": null,
      "metadata": {
        "colab": {
          "base_uri": "https://localhost:8080/"
        },
        "id": "8i-EX6EoxCX-",
        "outputId": "821ca013-f5ef-464b-8a49-a26456e447c0"
      },
      "outputs": [
        {
          "output_type": "stream",
          "name": "stdout",
          "text": [
            "Model: \"sequential_6\"\n",
            "_________________________________________________________________\n",
            " Layer (type)                Output Shape              Param #   \n",
            "=================================================================\n",
            " dense_12 (Dense)            (None, 3)                 54        \n",
            "                                                                 \n",
            " dense_13 (Dense)            (None, 1)                 4         \n",
            "                                                                 \n",
            "=================================================================\n",
            "Total params: 58\n",
            "Trainable params: 58\n",
            "Non-trainable params: 0\n",
            "_________________________________________________________________\n"
          ]
        },
        {
          "output_type": "execute_result",
          "data": {
            "text/plain": [
              "Ellipsis"
            ]
          },
          "metadata": {},
          "execution_count": 46
        }
      ],
      "source": [
        "...\n",
        "# compile the keras model\n",
        "model_3.summary()\n",
        "opt = tf.keras.optimizers.SGD(learning_rate = 0.1, momentum=0.5)\n",
        "model_3.compile(loss='mean_squared_error', optimizer = opt, metrics=['accuracy'])\n",
        "..."
      ]
    },
    {
      "cell_type": "code",
      "execution_count": null,
      "metadata": {
        "colab": {
          "base_uri": "https://localhost:8080/"
        },
        "id": "LZKEDwIXxCX_",
        "outputId": "0c1bfdb1-6811-484f-f5a1-40e0c455c70c"
      },
      "outputs": [
        {
          "output_type": "stream",
          "name": "stdout",
          "text": [
            "Epoch 1/100\n",
            "122/122 [==============================] - 1s 8ms/step - loss: 0.2222 - accuracy: 0.6557 - val_loss: 0.1522 - val_accuracy: 0.8704\n",
            "Epoch 2/100\n",
            "122/122 [==============================] - 1s 5ms/step - loss: 0.1165 - accuracy: 0.9016 - val_loss: 0.0608 - val_accuracy: 0.9722\n",
            "Epoch 3/100\n",
            "122/122 [==============================] - 1s 7ms/step - loss: 0.0736 - accuracy: 0.9344 - val_loss: 0.0413 - val_accuracy: 0.9722\n",
            "Epoch 4/100\n",
            "122/122 [==============================] - 1s 7ms/step - loss: 0.0660 - accuracy: 0.9344 - val_loss: 0.0358 - val_accuracy: 0.9722\n",
            "Epoch 5/100\n",
            "122/122 [==============================] - 1s 8ms/step - loss: 0.0636 - accuracy: 0.9344 - val_loss: 0.0325 - val_accuracy: 0.9722\n",
            "Epoch 6/100\n",
            "122/122 [==============================] - 1s 5ms/step - loss: 0.0621 - accuracy: 0.9344 - val_loss: 0.0309 - val_accuracy: 0.9722\n",
            "Epoch 7/100\n",
            "122/122 [==============================] - 1s 5ms/step - loss: 0.0602 - accuracy: 0.9344 - val_loss: 0.0247 - val_accuracy: 0.9769\n",
            "Epoch 8/100\n",
            "122/122 [==============================] - 1s 7ms/step - loss: 0.0605 - accuracy: 0.9344 - val_loss: 0.0281 - val_accuracy: 0.9722\n",
            "Epoch 9/100\n",
            "122/122 [==============================] - 1s 7ms/step - loss: 0.0597 - accuracy: 0.9344 - val_loss: 0.0194 - val_accuracy: 0.9861\n",
            "Epoch 10/100\n",
            "122/122 [==============================] - 1s 7ms/step - loss: 0.0568 - accuracy: 0.9426 - val_loss: 0.0185 - val_accuracy: 0.9861\n",
            "Epoch 11/100\n",
            "122/122 [==============================] - 1s 7ms/step - loss: 0.0527 - accuracy: 0.9508 - val_loss: 0.0190 - val_accuracy: 0.9815\n",
            "Epoch 12/100\n",
            "122/122 [==============================] - 1s 5ms/step - loss: 0.0507 - accuracy: 0.9508 - val_loss: 0.0178 - val_accuracy: 0.9815\n",
            "Epoch 13/100\n",
            "122/122 [==============================] - 1s 7ms/step - loss: 0.0537 - accuracy: 0.9426 - val_loss: 0.0157 - val_accuracy: 0.9861\n",
            "Epoch 14/100\n",
            "122/122 [==============================] - 1s 7ms/step - loss: 0.0488 - accuracy: 0.9508 - val_loss: 0.0212 - val_accuracy: 0.9815\n",
            "Epoch 15/100\n",
            "122/122 [==============================] - 1s 7ms/step - loss: 0.0510 - accuracy: 0.9508 - val_loss: 0.0133 - val_accuracy: 1.0000\n",
            "Epoch 16/100\n",
            "122/122 [==============================] - 1s 7ms/step - loss: 0.0474 - accuracy: 0.9508 - val_loss: 0.0157 - val_accuracy: 0.9861\n",
            "Epoch 17/100\n",
            "122/122 [==============================] - 1s 7ms/step - loss: 0.0484 - accuracy: 0.9508 - val_loss: 0.0116 - val_accuracy: 0.9931\n",
            "Epoch 18/100\n",
            "122/122 [==============================] - 1s 7ms/step - loss: 0.0479 - accuracy: 0.9508 - val_loss: 0.0109 - val_accuracy: 0.9977\n",
            "Epoch 19/100\n",
            "122/122 [==============================] - 1s 5ms/step - loss: 0.0462 - accuracy: 0.9508 - val_loss: 0.0121 - val_accuracy: 0.9954\n",
            "Epoch 20/100\n",
            "122/122 [==============================] - 1s 5ms/step - loss: 0.0460 - accuracy: 0.9426 - val_loss: 0.0259 - val_accuracy: 0.9676\n",
            "Epoch 21/100\n",
            "122/122 [==============================] - 1s 5ms/step - loss: 0.0477 - accuracy: 0.9508 - val_loss: 0.0113 - val_accuracy: 0.9977\n",
            "Epoch 22/100\n",
            "122/122 [==============================] - 1s 6ms/step - loss: 0.0438 - accuracy: 0.9508 - val_loss: 0.0130 - val_accuracy: 0.9954\n",
            "Epoch 23/100\n",
            "122/122 [==============================] - 1s 5ms/step - loss: 0.0432 - accuracy: 0.9508 - val_loss: 0.0255 - val_accuracy: 0.9676\n",
            "Epoch 24/100\n",
            "122/122 [==============================] - 1s 7ms/step - loss: 0.0471 - accuracy: 0.9508 - val_loss: 0.0126 - val_accuracy: 0.9931\n",
            "Epoch 25/100\n",
            "122/122 [==============================] - 1s 7ms/step - loss: 0.0403 - accuracy: 0.9508 - val_loss: 0.0360 - val_accuracy: 0.9583\n",
            "Epoch 26/100\n",
            "122/122 [==============================] - 1s 5ms/step - loss: 0.0424 - accuracy: 0.9426 - val_loss: 0.0301 - val_accuracy: 0.9676\n",
            "Epoch 27/100\n",
            "122/122 [==============================] - 1s 7ms/step - loss: 0.0391 - accuracy: 0.9590 - val_loss: 0.0176 - val_accuracy: 0.9907\n",
            "Epoch 28/100\n",
            "122/122 [==============================] - 1s 7ms/step - loss: 0.0369 - accuracy: 0.9672 - val_loss: 0.0171 - val_accuracy: 0.9861\n",
            "Epoch 29/100\n",
            "122/122 [==============================] - 1s 7ms/step - loss: 0.0362 - accuracy: 0.9672 - val_loss: 0.0138 - val_accuracy: 0.9907\n",
            "Epoch 30/100\n",
            "122/122 [==============================] - 1s 5ms/step - loss: 0.0357 - accuracy: 0.9590 - val_loss: 0.0135 - val_accuracy: 0.9907\n",
            "Epoch 31/100\n",
            "122/122 [==============================] - 1s 6ms/step - loss: 0.0346 - accuracy: 0.9672 - val_loss: 0.0187 - val_accuracy: 0.9838\n",
            "Epoch 32/100\n",
            "122/122 [==============================] - 1s 7ms/step - loss: 0.0351 - accuracy: 0.9672 - val_loss: 0.0172 - val_accuracy: 0.9815\n",
            "Epoch 33/100\n",
            "122/122 [==============================] - 1s 7ms/step - loss: 0.0335 - accuracy: 0.9672 - val_loss: 0.0208 - val_accuracy: 0.9792\n",
            "Epoch 34/100\n",
            "122/122 [==============================] - 1s 7ms/step - loss: 0.0313 - accuracy: 0.9672 - val_loss: 0.0147 - val_accuracy: 0.9907\n",
            "Epoch 35/100\n",
            "122/122 [==============================] - 1s 7ms/step - loss: 0.0308 - accuracy: 0.9672 - val_loss: 0.0182 - val_accuracy: 0.9838\n",
            "Epoch 36/100\n",
            "122/122 [==============================] - 1s 7ms/step - loss: 0.0307 - accuracy: 0.9672 - val_loss: 0.0208 - val_accuracy: 0.9699\n",
            "Epoch 37/100\n",
            "122/122 [==============================] - 1s 5ms/step - loss: 0.0296 - accuracy: 0.9754 - val_loss: 0.0143 - val_accuracy: 0.9884\n",
            "Epoch 38/100\n",
            "122/122 [==============================] - 1s 7ms/step - loss: 0.0289 - accuracy: 0.9754 - val_loss: 0.0166 - val_accuracy: 0.9861\n",
            "Epoch 39/100\n",
            "122/122 [==============================] - 1s 5ms/step - loss: 0.0291 - accuracy: 0.9672 - val_loss: 0.0207 - val_accuracy: 0.9792\n",
            "Epoch 40/100\n",
            "122/122 [==============================] - 1s 7ms/step - loss: 0.0286 - accuracy: 0.9672 - val_loss: 0.0247 - val_accuracy: 0.9653\n",
            "Epoch 41/100\n",
            "122/122 [==============================] - 1s 5ms/step - loss: 0.0260 - accuracy: 0.9754 - val_loss: 0.0130 - val_accuracy: 0.9861\n",
            "Epoch 42/100\n",
            "122/122 [==============================] - 1s 5ms/step - loss: 0.0281 - accuracy: 0.9590 - val_loss: 0.0186 - val_accuracy: 0.9745\n",
            "Epoch 43/100\n",
            "122/122 [==============================] - 1s 5ms/step - loss: 0.0256 - accuracy: 0.9754 - val_loss: 0.0323 - val_accuracy: 0.9514\n",
            "Epoch 44/100\n",
            "122/122 [==============================] - 1s 7ms/step - loss: 0.0227 - accuracy: 0.9754 - val_loss: 0.0130 - val_accuracy: 0.9861\n",
            "Epoch 45/100\n",
            "122/122 [==============================] - 1s 5ms/step - loss: 0.0263 - accuracy: 0.9672 - val_loss: 0.0263 - val_accuracy: 0.9653\n",
            "Epoch 46/100\n",
            "122/122 [==============================] - 1s 5ms/step - loss: 0.0262 - accuracy: 0.9754 - val_loss: 0.0140 - val_accuracy: 0.9884\n",
            "Epoch 47/100\n",
            "122/122 [==============================] - 1s 5ms/step - loss: 0.0258 - accuracy: 0.9672 - val_loss: 0.0246 - val_accuracy: 0.9722\n",
            "Epoch 48/100\n",
            "122/122 [==============================] - 1s 7ms/step - loss: 0.0237 - accuracy: 0.9836 - val_loss: 0.0154 - val_accuracy: 0.9884\n",
            "Epoch 49/100\n",
            "122/122 [==============================] - 1s 7ms/step - loss: 0.0229 - accuracy: 0.9754 - val_loss: 0.0181 - val_accuracy: 0.9792\n",
            "Epoch 50/100\n",
            "122/122 [==============================] - 1s 5ms/step - loss: 0.0226 - accuracy: 0.9754 - val_loss: 0.0179 - val_accuracy: 0.9815\n",
            "Epoch 51/100\n",
            "122/122 [==============================] - 1s 5ms/step - loss: 0.0230 - accuracy: 0.9672 - val_loss: 0.0166 - val_accuracy: 0.9838\n",
            "Epoch 52/100\n",
            "122/122 [==============================] - 1s 5ms/step - loss: 0.0224 - accuracy: 0.9836 - val_loss: 0.0184 - val_accuracy: 0.9769\n",
            "Epoch 53/100\n",
            "122/122 [==============================] - 1s 7ms/step - loss: 0.0222 - accuracy: 0.9754 - val_loss: 0.0335 - val_accuracy: 0.9560\n",
            "Epoch 54/100\n",
            "122/122 [==============================] - 1s 5ms/step - loss: 0.0213 - accuracy: 0.9836 - val_loss: 0.0178 - val_accuracy: 0.9815\n",
            "Epoch 55/100\n",
            "122/122 [==============================] - 1s 7ms/step - loss: 0.0221 - accuracy: 0.9754 - val_loss: 0.0329 - val_accuracy: 0.9560\n",
            "Epoch 56/100\n",
            "122/122 [==============================] - 1s 5ms/step - loss: 0.0222 - accuracy: 0.9754 - val_loss: 0.0216 - val_accuracy: 0.9792\n",
            "Epoch 57/100\n",
            "122/122 [==============================] - 1s 7ms/step - loss: 0.0215 - accuracy: 0.9836 - val_loss: 0.0252 - val_accuracy: 0.9699\n",
            "Epoch 58/100\n",
            "122/122 [==============================] - 1s 5ms/step - loss: 0.0204 - accuracy: 0.9836 - val_loss: 0.0200 - val_accuracy: 0.9792\n",
            "Epoch 59/100\n",
            "122/122 [==============================] - 1s 7ms/step - loss: 0.0196 - accuracy: 0.9836 - val_loss: 0.0200 - val_accuracy: 0.9792\n",
            "Epoch 60/100\n",
            "122/122 [==============================] - 1s 5ms/step - loss: 0.0195 - accuracy: 0.9836 - val_loss: 0.0206 - val_accuracy: 0.9769\n",
            "Epoch 61/100\n",
            "122/122 [==============================] - 1s 5ms/step - loss: 0.0190 - accuracy: 0.9836 - val_loss: 0.0307 - val_accuracy: 0.9653\n",
            "Epoch 62/100\n",
            "122/122 [==============================] - 1s 7ms/step - loss: 0.0203 - accuracy: 0.9836 - val_loss: 0.0210 - val_accuracy: 0.9769\n",
            "Epoch 63/100\n",
            "122/122 [==============================] - 1s 7ms/step - loss: 0.0191 - accuracy: 0.9836 - val_loss: 0.0263 - val_accuracy: 0.9676\n",
            "Epoch 64/100\n",
            "122/122 [==============================] - 1s 7ms/step - loss: 0.0186 - accuracy: 0.9836 - val_loss: 0.0283 - val_accuracy: 0.9653\n",
            "Epoch 65/100\n",
            "122/122 [==============================] - 1s 7ms/step - loss: 0.0182 - accuracy: 0.9836 - val_loss: 0.0203 - val_accuracy: 0.9769\n",
            "Epoch 66/100\n",
            "122/122 [==============================] - 1s 5ms/step - loss: 0.0185 - accuracy: 0.9836 - val_loss: 0.0213 - val_accuracy: 0.9745\n",
            "Epoch 67/100\n",
            "122/122 [==============================] - 1s 7ms/step - loss: 0.0184 - accuracy: 0.9836 - val_loss: 0.0236 - val_accuracy: 0.9745\n",
            "Epoch 68/100\n",
            "122/122 [==============================] - 1s 5ms/step - loss: 0.0180 - accuracy: 0.9836 - val_loss: 0.0250 - val_accuracy: 0.9722\n",
            "Epoch 69/100\n",
            "122/122 [==============================] - 1s 7ms/step - loss: 0.0178 - accuracy: 0.9836 - val_loss: 0.0248 - val_accuracy: 0.9722\n",
            "Epoch 70/100\n",
            "122/122 [==============================] - 1s 7ms/step - loss: 0.0176 - accuracy: 0.9836 - val_loss: 0.0219 - val_accuracy: 0.9769\n",
            "Epoch 71/100\n",
            "122/122 [==============================] - 1s 7ms/step - loss: 0.0178 - accuracy: 0.9836 - val_loss: 0.0274 - val_accuracy: 0.9676\n",
            "Epoch 72/100\n",
            "122/122 [==============================] - 1s 5ms/step - loss: 0.0176 - accuracy: 0.9836 - val_loss: 0.0245 - val_accuracy: 0.9745\n",
            "Epoch 73/100\n",
            "122/122 [==============================] - 1s 6ms/step - loss: 0.0174 - accuracy: 0.9836 - val_loss: 0.0276 - val_accuracy: 0.9676\n",
            "Epoch 74/100\n",
            "122/122 [==============================] - 1s 7ms/step - loss: 0.0171 - accuracy: 0.9836 - val_loss: 0.0221 - val_accuracy: 0.9745\n",
            "Epoch 75/100\n",
            "122/122 [==============================] - 1s 12ms/step - loss: 0.0172 - accuracy: 0.9836 - val_loss: 0.0273 - val_accuracy: 0.9676\n",
            "Epoch 76/100\n",
            "122/122 [==============================] - 1s 5ms/step - loss: 0.0173 - accuracy: 0.9836 - val_loss: 0.0242 - val_accuracy: 0.9745\n",
            "Epoch 77/100\n",
            "122/122 [==============================] - 1s 5ms/step - loss: 0.0172 - accuracy: 0.9836 - val_loss: 0.0232 - val_accuracy: 0.9745\n",
            "Epoch 78/100\n",
            "122/122 [==============================] - 1s 5ms/step - loss: 0.0172 - accuracy: 0.9836 - val_loss: 0.0265 - val_accuracy: 0.9676\n",
            "Epoch 79/100\n",
            "122/122 [==============================] - 1s 5ms/step - loss: 0.0171 - accuracy: 0.9836 - val_loss: 0.0231 - val_accuracy: 0.9745\n",
            "Epoch 80/100\n",
            "122/122 [==============================] - 1s 5ms/step - loss: 0.0171 - accuracy: 0.9836 - val_loss: 0.0230 - val_accuracy: 0.9745\n",
            "Epoch 81/100\n",
            "122/122 [==============================] - 1s 5ms/step - loss: 0.0171 - accuracy: 0.9836 - val_loss: 0.0246 - val_accuracy: 0.9745\n",
            "Epoch 82/100\n",
            "122/122 [==============================] - 1s 5ms/step - loss: 0.0170 - accuracy: 0.9836 - val_loss: 0.0250 - val_accuracy: 0.9745\n",
            "Epoch 83/100\n",
            "122/122 [==============================] - 1s 7ms/step - loss: 0.0170 - accuracy: 0.9836 - val_loss: 0.0244 - val_accuracy: 0.9745\n",
            "Epoch 84/100\n",
            "122/122 [==============================] - 1s 7ms/step - loss: 0.0169 - accuracy: 0.9836 - val_loss: 0.0241 - val_accuracy: 0.9745\n",
            "Epoch 85/100\n",
            "122/122 [==============================] - 1s 7ms/step - loss: 0.0169 - accuracy: 0.9836 - val_loss: 0.0240 - val_accuracy: 0.9745\n",
            "Epoch 86/100\n",
            "122/122 [==============================] - 1s 7ms/step - loss: 0.0169 - accuracy: 0.9836 - val_loss: 0.0236 - val_accuracy: 0.9745\n",
            "Epoch 87/100\n",
            "122/122 [==============================] - 1s 11ms/step - loss: 0.0169 - accuracy: 0.9836 - val_loss: 0.0254 - val_accuracy: 0.9745\n",
            "Epoch 88/100\n",
            "122/122 [==============================] - 1s 5ms/step - loss: 0.0168 - accuracy: 0.9836 - val_loss: 0.0235 - val_accuracy: 0.9745\n",
            "Epoch 89/100\n",
            "122/122 [==============================] - 1s 7ms/step - loss: 0.0169 - accuracy: 0.9836 - val_loss: 0.0242 - val_accuracy: 0.9745\n",
            "Epoch 90/100\n",
            "122/122 [==============================] - 1s 7ms/step - loss: 0.0168 - accuracy: 0.9836 - val_loss: 0.0255 - val_accuracy: 0.9722\n",
            "Epoch 91/100\n",
            "122/122 [==============================] - 1s 5ms/step - loss: 0.0167 - accuracy: 0.9836 - val_loss: 0.0236 - val_accuracy: 0.9745\n",
            "Epoch 92/100\n",
            "122/122 [==============================] - 1s 7ms/step - loss: 0.0168 - accuracy: 0.9836 - val_loss: 0.0240 - val_accuracy: 0.9745\n",
            "Epoch 93/100\n",
            "122/122 [==============================] - 1s 7ms/step - loss: 0.0168 - accuracy: 0.9836 - val_loss: 0.0238 - val_accuracy: 0.9745\n",
            "Epoch 94/100\n",
            "122/122 [==============================] - 1s 7ms/step - loss: 0.0168 - accuracy: 0.9836 - val_loss: 0.0247 - val_accuracy: 0.9745\n",
            "Epoch 95/100\n",
            "122/122 [==============================] - 1s 7ms/step - loss: 0.0167 - accuracy: 0.9836 - val_loss: 0.0245 - val_accuracy: 0.9745\n",
            "Epoch 96/100\n",
            "122/122 [==============================] - 1s 7ms/step - loss: 0.0167 - accuracy: 0.9836 - val_loss: 0.0242 - val_accuracy: 0.9745\n",
            "Epoch 97/100\n",
            "122/122 [==============================] - 1s 7ms/step - loss: 0.0167 - accuracy: 0.9836 - val_loss: 0.0254 - val_accuracy: 0.9722\n",
            "Epoch 98/100\n",
            "122/122 [==============================] - 1s 5ms/step - loss: 0.0167 - accuracy: 0.9836 - val_loss: 0.0251 - val_accuracy: 0.9745\n",
            "Epoch 99/100\n",
            "122/122 [==============================] - 1s 7ms/step - loss: 0.0167 - accuracy: 0.9836 - val_loss: 0.0248 - val_accuracy: 0.9745\n",
            "Epoch 100/100\n",
            "122/122 [==============================] - 1s 7ms/step - loss: 0.0167 - accuracy: 0.9836 - val_loss: 0.0241 - val_accuracy: 0.9745\n",
            "CPU times: user 1min 15s, sys: 4.67 s, total: 1min 19s\n",
            "Wall time: 1min 22s\n"
          ]
        },
        {
          "output_type": "execute_result",
          "data": {
            "text/plain": [
              "Ellipsis"
            ]
          },
          "metadata": {},
          "execution_count": 47
        }
      ],
      "source": [
        "%%time\n",
        "# fit the keras model on the dataset\n",
        "history3 = model_3.fit(X_3_tr, y_3_tr,validation_data=(X_test_3,y_test_3) ,epochs=100, batch_size=1)\n",
        "..."
      ]
    },
    {
      "cell_type": "code",
      "execution_count": null,
      "metadata": {
        "colab": {
          "base_uri": "https://localhost:8080/"
        },
        "id": "xkzNcUDixCYA",
        "outputId": "30a6d84f-dbe0-40b4-ef8e-26ebb915b4c5"
      },
      "outputs": [
        {
          "output_type": "stream",
          "name": "stdout",
          "text": [
            "14/14 [==============================] - 0s 3ms/step - loss: 0.0241 - accuracy: 0.9745\n",
            "Accuracy: 97.45\n"
          ]
        }
      ],
      "source": [
        "...\n",
        "# evaluate the keras model\n",
        "_, accuracy = model_3.evaluate(X_test_3, y_test_3, )\n",
        "print('Accuracy: %.2f' % (accuracy*100))"
      ]
    },
    {
      "cell_type": "code",
      "execution_count": null,
      "metadata": {
        "colab": {
          "base_uri": "https://localhost:8080/",
          "height": 313
        },
        "id": "R__ZdTvFezzt",
        "outputId": "93b483df-21fa-4231-f1a4-bad6f39805de"
      },
      "outputs": [
        {
          "output_type": "stream",
          "name": "stdout",
          "text": [
            "Train: 0.9836 Test: 0.9745\n"
          ]
        },
        {
          "output_type": "display_data",
          "data": {
            "text/plain": [
              "<Figure size 432x288 with 1 Axes>"
            ],
            "image/png": "[encoded data removed]"
          },
          "metadata": {
            "needs_background": "light"
          }
        }
      ],
      "source": [
        "#Evaluate model\n",
        "from matplotlib import pyplot\n",
        "train_mse, train_accuracy = model_3.evaluate(X_3_tr, y_3_tr, verbose=0)\n",
        "test_mse, test_accuracy = model_3.evaluate(X_test_3,y_test_3,verbose=0)\n",
        "print('Train: %.4f Test: %.4f'%(train_mse,test_mse))\n",
        "print('Train accuracy: %.4f Test accuracy: %.4f'%(train_accuracy,test_accuracy))\n",
        "pyplot.title('Loss / Mean Squared Error')\n",
        "pyplot.plot(history3.history['loss'], label='train')\n",
        "pyplot.plot(history3.history['val_loss'], label='test', linestyle=\"dashed\")\n",
        "pyplot.xlabel('epoch')\n",
        "pyplot.ylabel('loss')\n",
        "pyplot.legend()\n",
        "pyplot.show()"
      ]
    },
    {
      "cell_type": "markdown",
      "source": [],
      "metadata": {
        "id": "N0m67YiVkpqL"
      }
    },
    {
      "cell_type": "markdown",
      "metadata": {
        "id": "2_Flo6nFkqSY"
      },
      "source": [
        "# **MONK 3 regolarizzato**"
      ]
    },
    {
      "cell_type": "code",
      "execution_count": null,
      "metadata": {
        "colab": {
          "base_uri": "https://localhost:8080/"
        },
        "outputId": "5cc20007-8d17-4be4-98c4-1d992016e50d",
        "id": "vrwZ2jWekqSY"
      },
      "outputs": [
        {
          "output_type": "execute_result",
          "data": {
            "text/plain": [
              "Ellipsis"
            ]
          },
          "metadata": {},
          "execution_count": 25
        }
      ],
      "source": [
        "...\n",
        "# define the keras model for monk 3\n",
        "model_3 = Sequential()\n",
        "model_3.add(Dense(3, input_shape=(X_test_3.shape[1],), activation='relu'))\n",
        "model_3.add(Dense(1, activation='sigmoid'))\n",
        "..."
      ]
    },
    {
      "cell_type": "code",
      "execution_count": null,
      "metadata": {
        "colab": {
          "base_uri": "https://localhost:8080/"
        },
        "outputId": "fccecc23-603f-4ce8-fb2c-640fca38307c",
        "id": "mVDFLADrkqSY"
      },
      "outputs": [
        {
          "output_type": "stream",
          "name": "stdout",
          "text": [
            "Model: \"sequential_3\"\n",
            "_________________________________________________________________\n",
            " Layer (type)                Output Shape              Param #   \n",
            "=================================================================\n",
            " dense_6 (Dense)             (None, 3)                 54        \n",
            "                                                                 \n",
            " dense_7 (Dense)             (None, 1)                 4         \n",
            "                                                                 \n",
            "=================================================================\n",
            "Total params: 58\n",
            "Trainable params: 58\n",
            "Non-trainable params: 0\n",
            "_________________________________________________________________\n"
          ]
        },
        {
          "output_type": "execute_result",
          "data": {
            "text/plain": [
              "Ellipsis"
            ]
          },
          "metadata": {},
          "execution_count": 26
        }
      ],
      "source": [
        "...\n",
        "# compile the keras model\n",
        "model_3.summary()\n",
        "opt = tf.keras.optimizers.SGD(learning_rate = 0.1, momentum=0.5, decay=1e-2)\n",
        "model_3.compile(loss='mean_squared_error', optimizer = opt, metrics=['accuracy'])\n",
        "..."
      ]
    },
    {
      "cell_type": "code",
      "execution_count": null,
      "metadata": {
        "colab": {
          "base_uri": "https://localhost:8080/"
        },
        "outputId": "f5e95fa1-04eb-4823-f1b3-a1acacce1683",
        "id": "JNkJwIghkqSY"
      },
      "outputs": [
        {
          "output_type": "stream",
          "name": "stdout",
          "text": [
            "Epoch 1/100\n",
            "122/122 [==============================] - 1s 7ms/step - loss: 0.2242 - accuracy: 0.6475 - val_loss: 0.1629 - val_accuracy: 0.8519\n",
            "Epoch 2/100\n",
            "122/122 [==============================] - 1s 7ms/step - loss: 0.1360 - accuracy: 0.9098 - val_loss: 0.0999 - val_accuracy: 0.9514\n",
            "Epoch 3/100\n",
            "122/122 [==============================] - 1s 7ms/step - loss: 0.0953 - accuracy: 0.9262 - val_loss: 0.0687 - val_accuracy: 0.9722\n",
            "Epoch 4/100\n",
            "122/122 [==============================] - 1s 6ms/step - loss: 0.0783 - accuracy: 0.9344 - val_loss: 0.0615 - val_accuracy: 0.9722\n",
            "Epoch 5/100\n",
            "122/122 [==============================] - 1s 7ms/step - loss: 0.0714 - accuracy: 0.9344 - val_loss: 0.0528 - val_accuracy: 0.9722\n",
            "Epoch 6/100\n",
            "122/122 [==============================] - 1s 5ms/step - loss: 0.0674 - accuracy: 0.9344 - val_loss: 0.0485 - val_accuracy: 0.9722\n",
            "Epoch 7/100\n",
            "122/122 [==============================] - 1s 7ms/step - loss: 0.0649 - accuracy: 0.9344 - val_loss: 0.0472 - val_accuracy: 0.9722\n",
            "Epoch 8/100\n",
            "122/122 [==============================] - 1s 7ms/step - loss: 0.0633 - accuracy: 0.9344 - val_loss: 0.0461 - val_accuracy: 0.9722\n",
            "Epoch 9/100\n",
            "122/122 [==============================] - 1s 5ms/step - loss: 0.0621 - accuracy: 0.9344 - val_loss: 0.0436 - val_accuracy: 0.9722\n",
            "Epoch 10/100\n",
            "122/122 [==============================] - 1s 5ms/step - loss: 0.0611 - accuracy: 0.9344 - val_loss: 0.0421 - val_accuracy: 0.9722\n",
            "Epoch 11/100\n",
            "122/122 [==============================] - 1s 5ms/step - loss: 0.0603 - accuracy: 0.9344 - val_loss: 0.0414 - val_accuracy: 0.9722\n",
            "Epoch 12/100\n",
            "122/122 [==============================] - 1s 5ms/step - loss: 0.0597 - accuracy: 0.9344 - val_loss: 0.0412 - val_accuracy: 0.9722\n",
            "Epoch 13/100\n",
            "122/122 [==============================] - 1s 5ms/step - loss: 0.0593 - accuracy: 0.9344 - val_loss: 0.0407 - val_accuracy: 0.9722\n",
            "Epoch 14/100\n",
            "122/122 [==============================] - 1s 7ms/step - loss: 0.0588 - accuracy: 0.9344 - val_loss: 0.0403 - val_accuracy: 0.9722\n",
            "Epoch 15/100\n",
            "122/122 [==============================] - 1s 5ms/step - loss: 0.0584 - accuracy: 0.9344 - val_loss: 0.0404 - val_accuracy: 0.9722\n",
            "Epoch 16/100\n",
            "122/122 [==============================] - 1s 7ms/step - loss: 0.0580 - accuracy: 0.9344 - val_loss: 0.0402 - val_accuracy: 0.9722\n",
            "Epoch 17/100\n",
            "122/122 [==============================] - 1s 7ms/step - loss: 0.0577 - accuracy: 0.9344 - val_loss: 0.0397 - val_accuracy: 0.9722\n",
            "Epoch 18/100\n",
            "122/122 [==============================] - 1s 5ms/step - loss: 0.0575 - accuracy: 0.9344 - val_loss: 0.0392 - val_accuracy: 0.9722\n",
            "Epoch 19/100\n",
            "122/122 [==============================] - 1s 5ms/step - loss: 0.0572 - accuracy: 0.9344 - val_loss: 0.0394 - val_accuracy: 0.9722\n",
            "Epoch 20/100\n",
            "122/122 [==============================] - 1s 5ms/step - loss: 0.0570 - accuracy: 0.9344 - val_loss: 0.0396 - val_accuracy: 0.9722\n",
            "Epoch 21/100\n",
            "122/122 [==============================] - 1s 7ms/step - loss: 0.0568 - accuracy: 0.9344 - val_loss: 0.0395 - val_accuracy: 0.9722\n",
            "Epoch 22/100\n",
            "122/122 [==============================] - 1s 7ms/step - loss: 0.0566 - accuracy: 0.9344 - val_loss: 0.0396 - val_accuracy: 0.9722\n",
            "Epoch 23/100\n",
            "122/122 [==============================] - 1s 5ms/step - loss: 0.0564 - accuracy: 0.9344 - val_loss: 0.0392 - val_accuracy: 0.9722\n",
            "Epoch 24/100\n",
            "122/122 [==============================] - 1s 7ms/step - loss: 0.0562 - accuracy: 0.9344 - val_loss: 0.0390 - val_accuracy: 0.9722\n",
            "Epoch 25/100\n",
            "122/122 [==============================] - 1s 5ms/step - loss: 0.0560 - accuracy: 0.9344 - val_loss: 0.0391 - val_accuracy: 0.9722\n",
            "Epoch 26/100\n",
            "122/122 [==============================] - 1s 7ms/step - loss: 0.0559 - accuracy: 0.9344 - val_loss: 0.0392 - val_accuracy: 0.9722\n",
            "Epoch 27/100\n",
            "122/122 [==============================] - 1s 7ms/step - loss: 0.0557 - accuracy: 0.9344 - val_loss: 0.0392 - val_accuracy: 0.9722\n",
            "Epoch 28/100\n",
            "122/122 [==============================] - 1s 7ms/step - loss: 0.0556 - accuracy: 0.9344 - val_loss: 0.0394 - val_accuracy: 0.9722\n",
            "Epoch 29/100\n",
            "122/122 [==============================] - 1s 7ms/step - loss: 0.0555 - accuracy: 0.9344 - val_loss: 0.0394 - val_accuracy: 0.9722\n",
            "Epoch 30/100\n",
            "122/122 [==============================] - 1s 7ms/step - loss: 0.0553 - accuracy: 0.9344 - val_loss: 0.0392 - val_accuracy: 0.9722\n",
            "Epoch 31/100\n",
            "122/122 [==============================] - 1s 5ms/step - loss: 0.0553 - accuracy: 0.9344 - val_loss: 0.0393 - val_accuracy: 0.9722\n",
            "Epoch 32/100\n",
            "122/122 [==============================] - 1s 5ms/step - loss: 0.0551 - accuracy: 0.9344 - val_loss: 0.0393 - val_accuracy: 0.9722\n",
            "Epoch 33/100\n",
            "122/122 [==============================] - 1s 5ms/step - loss: 0.0551 - accuracy: 0.9344 - val_loss: 0.0394 - val_accuracy: 0.9722\n",
            "Epoch 34/100\n",
            "122/122 [==============================] - 1s 7ms/step - loss: 0.0549 - accuracy: 0.9344 - val_loss: 0.0394 - val_accuracy: 0.9722\n",
            "Epoch 35/100\n",
            "122/122 [==============================] - 1s 7ms/step - loss: 0.0548 - accuracy: 0.9344 - val_loss: 0.0394 - val_accuracy: 0.9722\n",
            "Epoch 36/100\n",
            "122/122 [==============================] - 1s 5ms/step - loss: 0.0547 - accuracy: 0.9344 - val_loss: 0.0394 - val_accuracy: 0.9722\n",
            "Epoch 37/100\n",
            "122/122 [==============================] - 1s 7ms/step - loss: 0.0546 - accuracy: 0.9344 - val_loss: 0.0394 - val_accuracy: 0.9722\n",
            "Epoch 38/100\n",
            "122/122 [==============================] - 1s 7ms/step - loss: 0.0545 - accuracy: 0.9344 - val_loss: 0.0394 - val_accuracy: 0.9722\n",
            "Epoch 39/100\n",
            "122/122 [==============================] - 1s 7ms/step - loss: 0.0544 - accuracy: 0.9344 - val_loss: 0.0393 - val_accuracy: 0.9722\n",
            "Epoch 40/100\n",
            "122/122 [==============================] - 1s 7ms/step - loss: 0.0543 - accuracy: 0.9344 - val_loss: 0.0396 - val_accuracy: 0.9722\n",
            "Epoch 41/100\n",
            "122/122 [==============================] - 1s 5ms/step - loss: 0.0543 - accuracy: 0.9344 - val_loss: 0.0395 - val_accuracy: 0.9722\n",
            "Epoch 42/100\n",
            "122/122 [==============================] - 1s 5ms/step - loss: 0.0542 - accuracy: 0.9344 - val_loss: 0.0395 - val_accuracy: 0.9722\n",
            "Epoch 43/100\n",
            "122/122 [==============================] - 1s 7ms/step - loss: 0.0541 - accuracy: 0.9344 - val_loss: 0.0397 - val_accuracy: 0.9722\n",
            "Epoch 44/100\n",
            "122/122 [==============================] - 1s 5ms/step - loss: 0.0540 - accuracy: 0.9344 - val_loss: 0.0396 - val_accuracy: 0.9722\n",
            "Epoch 45/100\n",
            "122/122 [==============================] - 1s 7ms/step - loss: 0.0539 - accuracy: 0.9344 - val_loss: 0.0397 - val_accuracy: 0.9722\n",
            "Epoch 46/100\n",
            "122/122 [==============================] - 1s 7ms/step - loss: 0.0538 - accuracy: 0.9344 - val_loss: 0.0396 - val_accuracy: 0.9722\n",
            "Epoch 47/100\n",
            "122/122 [==============================] - 1s 5ms/step - loss: 0.0538 - accuracy: 0.9344 - val_loss: 0.0397 - val_accuracy: 0.9722\n",
            "Epoch 48/100\n",
            "122/122 [==============================] - 1s 7ms/step - loss: 0.0537 - accuracy: 0.9344 - val_loss: 0.0397 - val_accuracy: 0.9722\n",
            "Epoch 49/100\n",
            "122/122 [==============================] - 1s 5ms/step - loss: 0.0536 - accuracy: 0.9344 - val_loss: 0.0396 - val_accuracy: 0.9722\n",
            "Epoch 50/100\n",
            "122/122 [==============================] - 1s 7ms/step - loss: 0.0536 - accuracy: 0.9344 - val_loss: 0.0397 - val_accuracy: 0.9722\n",
            "Epoch 51/100\n",
            "122/122 [==============================] - 1s 7ms/step - loss: 0.0535 - accuracy: 0.9344 - val_loss: 0.0398 - val_accuracy: 0.9722\n",
            "Epoch 52/100\n",
            "122/122 [==============================] - 1s 7ms/step - loss: 0.0535 - accuracy: 0.9344 - val_loss: 0.0399 - val_accuracy: 0.9722\n",
            "Epoch 53/100\n",
            "122/122 [==============================] - 1s 7ms/step - loss: 0.0534 - accuracy: 0.9344 - val_loss: 0.0398 - val_accuracy: 0.9722\n",
            "Epoch 54/100\n",
            "122/122 [==============================] - 1s 7ms/step - loss: 0.0533 - accuracy: 0.9344 - val_loss: 0.0399 - val_accuracy: 0.9722\n",
            "Epoch 55/100\n",
            "122/122 [==============================] - 1s 5ms/step - loss: 0.0533 - accuracy: 0.9344 - val_loss: 0.0399 - val_accuracy: 0.9722\n",
            "Epoch 56/100\n",
            "122/122 [==============================] - 1s 7ms/step - loss: 0.0532 - accuracy: 0.9344 - val_loss: 0.0399 - val_accuracy: 0.9722\n",
            "Epoch 57/100\n",
            "122/122 [==============================] - 1s 7ms/step - loss: 0.0532 - accuracy: 0.9344 - val_loss: 0.0399 - val_accuracy: 0.9722\n",
            "Epoch 58/100\n",
            "122/122 [==============================] - 1s 7ms/step - loss: 0.0531 - accuracy: 0.9344 - val_loss: 0.0398 - val_accuracy: 0.9722\n",
            "Epoch 59/100\n",
            "122/122 [==============================] - 1s 5ms/step - loss: 0.0531 - accuracy: 0.9344 - val_loss: 0.0399 - val_accuracy: 0.9722\n",
            "Epoch 60/100\n",
            "122/122 [==============================] - 1s 7ms/step - loss: 0.0530 - accuracy: 0.9344 - val_loss: 0.0398 - val_accuracy: 0.9722\n",
            "Epoch 61/100\n",
            "122/122 [==============================] - 1s 7ms/step - loss: 0.0530 - accuracy: 0.9344 - val_loss: 0.0399 - val_accuracy: 0.9722\n",
            "Epoch 62/100\n",
            "122/122 [==============================] - 1s 7ms/step - loss: 0.0529 - accuracy: 0.9344 - val_loss: 0.0400 - val_accuracy: 0.9722\n",
            "Epoch 63/100\n",
            "122/122 [==============================] - 1s 7ms/step - loss: 0.0529 - accuracy: 0.9344 - val_loss: 0.0400 - val_accuracy: 0.9722\n",
            "Epoch 64/100\n",
            "122/122 [==============================] - 1s 7ms/step - loss: 0.0528 - accuracy: 0.9344 - val_loss: 0.0401 - val_accuracy: 0.9722\n",
            "Epoch 65/100\n",
            "122/122 [==============================] - 1s 5ms/step - loss: 0.0528 - accuracy: 0.9344 - val_loss: 0.0401 - val_accuracy: 0.9722\n",
            "Epoch 66/100\n",
            "122/122 [==============================] - 1s 5ms/step - loss: 0.0527 - accuracy: 0.9344 - val_loss: 0.0401 - val_accuracy: 0.9722\n",
            "Epoch 67/100\n",
            "122/122 [==============================] - 1s 7ms/step - loss: 0.0527 - accuracy: 0.9344 - val_loss: 0.0401 - val_accuracy: 0.9722\n",
            "Epoch 68/100\n",
            "122/122 [==============================] - 1s 6ms/step - loss: 0.0526 - accuracy: 0.9344 - val_loss: 0.0401 - val_accuracy: 0.9722\n",
            "Epoch 69/100\n",
            "122/122 [==============================] - 1s 10ms/step - loss: 0.0526 - accuracy: 0.9344 - val_loss: 0.0402 - val_accuracy: 0.9722\n",
            "Epoch 70/100\n",
            "122/122 [==============================] - 1s 7ms/step - loss: 0.0526 - accuracy: 0.9344 - val_loss: 0.0400 - val_accuracy: 0.9722\n",
            "Epoch 71/100\n",
            "122/122 [==============================] - 1s 7ms/step - loss: 0.0525 - accuracy: 0.9344 - val_loss: 0.0401 - val_accuracy: 0.9722\n",
            "Epoch 72/100\n",
            "122/122 [==============================] - 1s 7ms/step - loss: 0.0525 - accuracy: 0.9344 - val_loss: 0.0401 - val_accuracy: 0.9722\n",
            "Epoch 73/100\n",
            "122/122 [==============================] - 1s 5ms/step - loss: 0.0524 - accuracy: 0.9344 - val_loss: 0.0402 - val_accuracy: 0.9722\n",
            "Epoch 74/100\n",
            "122/122 [==============================] - 1s 5ms/step - loss: 0.0524 - accuracy: 0.9344 - val_loss: 0.0402 - val_accuracy: 0.9722\n",
            "Epoch 75/100\n",
            "122/122 [==============================] - 1s 5ms/step - loss: 0.0523 - accuracy: 0.9344 - val_loss: 0.0401 - val_accuracy: 0.9722\n",
            "Epoch 76/100\n",
            "122/122 [==============================] - 1s 5ms/step - loss: 0.0523 - accuracy: 0.9344 - val_loss: 0.0402 - val_accuracy: 0.9722\n",
            "Epoch 77/100\n",
            "122/122 [==============================] - 1s 7ms/step - loss: 0.0523 - accuracy: 0.9344 - val_loss: 0.0402 - val_accuracy: 0.9722\n",
            "Epoch 78/100\n",
            "122/122 [==============================] - 1s 5ms/step - loss: 0.0522 - accuracy: 0.9344 - val_loss: 0.0403 - val_accuracy: 0.9722\n",
            "Epoch 79/100\n",
            "122/122 [==============================] - 1s 7ms/step - loss: 0.0522 - accuracy: 0.9344 - val_loss: 0.0403 - val_accuracy: 0.9722\n",
            "Epoch 80/100\n",
            "122/122 [==============================] - 1s 7ms/step - loss: 0.0522 - accuracy: 0.9344 - val_loss: 0.0403 - val_accuracy: 0.9722\n",
            "Epoch 81/100\n",
            "122/122 [==============================] - 1s 5ms/step - loss: 0.0521 - accuracy: 0.9344 - val_loss: 0.0403 - val_accuracy: 0.9722\n",
            "Epoch 82/100\n",
            "122/122 [==============================] - 1s 7ms/step - loss: 0.0521 - accuracy: 0.9344 - val_loss: 0.0404 - val_accuracy: 0.9722\n",
            "Epoch 83/100\n",
            "122/122 [==============================] - 1s 7ms/step - loss: 0.0521 - accuracy: 0.9344 - val_loss: 0.0403 - val_accuracy: 0.9722\n",
            "Epoch 84/100\n",
            "122/122 [==============================] - 1s 7ms/step - loss: 0.0520 - accuracy: 0.9344 - val_loss: 0.0404 - val_accuracy: 0.9722\n",
            "Epoch 85/100\n",
            "122/122 [==============================] - 1s 7ms/step - loss: 0.0520 - accuracy: 0.9344 - val_loss: 0.0404 - val_accuracy: 0.9722\n",
            "Epoch 86/100\n",
            "122/122 [==============================] - 1s 7ms/step - loss: 0.0520 - accuracy: 0.9344 - val_loss: 0.0404 - val_accuracy: 0.9722\n",
            "Epoch 87/100\n",
            "122/122 [==============================] - 1s 7ms/step - loss: 0.0519 - accuracy: 0.9344 - val_loss: 0.0404 - val_accuracy: 0.9722\n",
            "Epoch 88/100\n",
            "122/122 [==============================] - 1s 7ms/step - loss: 0.0519 - accuracy: 0.9344 - val_loss: 0.0404 - val_accuracy: 0.9722\n",
            "Epoch 89/100\n",
            "122/122 [==============================] - 1s 7ms/step - loss: 0.0519 - accuracy: 0.9344 - val_loss: 0.0405 - val_accuracy: 0.9722\n",
            "Epoch 90/100\n",
            "122/122 [==============================] - 1s 7ms/step - loss: 0.0518 - accuracy: 0.9344 - val_loss: 0.0404 - val_accuracy: 0.9722\n",
            "Epoch 91/100\n",
            "122/122 [==============================] - 1s 5ms/step - loss: 0.0518 - accuracy: 0.9344 - val_loss: 0.0404 - val_accuracy: 0.9722\n",
            "Epoch 92/100\n",
            "122/122 [==============================] - 1s 7ms/step - loss: 0.0518 - accuracy: 0.9344 - val_loss: 0.0405 - val_accuracy: 0.9722\n",
            "Epoch 93/100\n",
            "122/122 [==============================] - 1s 7ms/step - loss: 0.0518 - accuracy: 0.9344 - val_loss: 0.0405 - val_accuracy: 0.9722\n",
            "Epoch 94/100\n",
            "122/122 [==============================] - 1s 5ms/step - loss: 0.0517 - accuracy: 0.9344 - val_loss: 0.0405 - val_accuracy: 0.9722\n",
            "Epoch 95/100\n",
            "122/122 [==============================] - 1s 5ms/step - loss: 0.0517 - accuracy: 0.9344 - val_loss: 0.0405 - val_accuracy: 0.9722\n",
            "Epoch 96/100\n",
            "122/122 [==============================] - 1s 7ms/step - loss: 0.0517 - accuracy: 0.9344 - val_loss: 0.0405 - val_accuracy: 0.9722\n",
            "Epoch 97/100\n",
            "122/122 [==============================] - 1s 5ms/step - loss: 0.0516 - accuracy: 0.9344 - val_loss: 0.0405 - val_accuracy: 0.9722\n",
            "Epoch 98/100\n",
            "122/122 [==============================] - 1s 5ms/step - loss: 0.0516 - accuracy: 0.9344 - val_loss: 0.0405 - val_accuracy: 0.9722\n",
            "Epoch 99/100\n",
            "122/122 [==============================] - 1s 7ms/step - loss: 0.0516 - accuracy: 0.9344 - val_loss: 0.0405 - val_accuracy: 0.9722\n",
            "Epoch 100/100\n",
            "122/122 [==============================] - 1s 7ms/step - loss: 0.0516 - accuracy: 0.9344 - val_loss: 0.0404 - val_accuracy: 0.9722\n",
            "CPU times: user 1min 13s, sys: 4.54 s, total: 1min 18s\n",
            "Wall time: 1min 16s\n"
          ]
        },
        {
          "output_type": "execute_result",
          "data": {
            "text/plain": [
              "Ellipsis"
            ]
          },
          "metadata": {},
          "execution_count": 27
        }
      ],
      "source": [
        "%%time\n",
        "# fit the keras model on the dataset\n",
        "history3_reg = model_3.fit(X_3_tr, y_3_tr,validation_data=(X_test_3,y_test_3) ,epochs=100, batch_size=1)\n",
        "..."
      ]
    },
    {
      "cell_type": "code",
      "execution_count": null,
      "metadata": {
        "colab": {
          "base_uri": "https://localhost:8080/"
        },
        "outputId": "027a9fbb-3ecb-4635-f92f-7faad89582b2",
        "id": "YOTzaXcUkqSZ"
      },
      "outputs": [
        {
          "output_type": "stream",
          "name": "stdout",
          "text": [
            "14/14 [==============================] - 0s 2ms/step - loss: 0.0404 - accuracy: 0.9722\n",
            "Accuracy: 97.22\n"
          ]
        }
      ],
      "source": [
        "...\n",
        "# evaluate the keras model\n",
        "_, accuracy = model_3.evaluate(X_test_3, y_test_3, )\n",
        "print('Accuracy: %.2f' % (accuracy*100))"
      ]
    },
    {
      "cell_type": "code",
      "execution_count": null,
      "metadata": {
        "colab": {
          "base_uri": "https://localhost:8080/",
          "height": 313
        },
        "outputId": "b53f7690-5996-4d9b-969e-ea1d4800ff95",
        "id": "B2A6csgGkqSZ"
      },
      "outputs": [
        {
          "output_type": "stream",
          "name": "stdout",
          "text": [
            "Train: 0.9344 Test: 0.9722\n"
          ]
        },
        {
          "output_type": "display_data",
          "data": {
            "text/plain": [
              "<Figure size 432x288 with 1 Axes>"
            ],
            "image/png": "[encoded data removed]"
          },
          "metadata": {
            "needs_background": "light"
          }
        }
      ],
      "source": [
        "#Evaluate model\n",
        "from matplotlib import pyplot\n",
        "train_mse, train_accuracy = model_3.evaluate(X_3_tr, y_3_tr, verbose=0)\n",
        "test_mse, test_accuracy = model_3.evaluate(X_test_3,y_test_3,verbose=0)\n",
        "print('Train: %.4f Test: %.4f'%(train_mse,test_mse))\n",
        "print('Train accuracy: %.4f Test accuracy: %.4f'%(train_accuracy,test_accuracy))\n",
        "pyplot.title('Loss / Mean Squared Error')\n",
        "pyplot.plot(history3_reg.history['loss'], label='train')\n",
        "pyplot.plot(history3_reg.history['val_loss'], label='test', linestyle=\"dashed\")\n",
        "pyplot.xlabel('epoch')\n",
        "pyplot.ylabel('accuracy')\n",
        "pyplot.legend()\n",
        "pyplot.show()"
      ]
    }
  ],
  "metadata": {
    "colab": {
      "provenance": [],
      "include_colab_link": true
    },
    "kernelspec": {
      "display_name": "Python 3",
      "name": "python3"
    },
    "language_info": {
      "name": "python"
    }
  },
  "nbformat": 4,
  "nbformat_minor": 0
}