{
  "cells": [
    {
      "cell_type": "markdown",
      "metadata": {
        "id": "view-in-github",
        "colab_type": "text"
      },
      "source": [
        "<a href=\"https://colab.research.google.com/github/gabena98/ML_project/blob/main/monkNN.ipynb\" target=\"_parent\"><img src=\"https://colab.research.google.com/assets/colab-badge.svg\" alt=\"Open In Colab\"/></a>"
      ]
    },
    {
      "cell_type": "code",
      "execution_count": 1,
      "metadata": {
        "colab": {
          "base_uri": "https://localhost:8080/"
        },
        "id": "JZRJmPJXOBiC",
        "outputId": "c84770cc-eab3-4973-8054-e97fd6018ed4"
      },
      "outputs": [
        {
          "output_type": "stream",
          "name": "stdout",
          "text": [
            "Mounted at /content/drive\n"
          ]
        }
      ],
      "source": [
        "from google.colab import drive\n",
        "drive.mount('/content/drive')"
      ]
    },
    {
      "cell_type": "code",
      "execution_count": 2,
      "metadata": {
        "id": "2hShIS2xb7mR"
      },
      "outputs": [],
      "source": [
        "import pandas as pd\n",
        "import numpy as np\n",
        "import tensorflow as tf\n",
        "from tensorflow import keras\n",
        "from keras.models import Sequential\n",
        "from keras.layers import Dense, BatchNormalization, Dropout\n",
        "from keras.optimizers import Adam, SGD, RMSprop, Adadelta, Adagrad, Adamax, Nadam, Ftrl\n",
        "from keras.callbacks import EarlyStopping, ModelCheckpoint\n",
        "from keras.wrappers.scikit_learn import KerasClassifier\n",
        "from sklearn.model_selection import GridSearchCV\n",
        "import math\n",
        "from sklearn.metrics import make_scorer, accuracy_score\n",
        "\n",
        "from sklearn.preprocessing import MinMaxScaler\n",
        "from sklearn.model_selection import train_test_split\n",
        "from sklearn.model_selection import cross_val_score\n",
        "\n",
        "from sklearn.model_selection import GridSearchCV, RandomizedSearchCV\n",
        "\n",
        "\n",
        "from sklearn.metrics import make_scorer, accuracy_score\n",
        "from sklearn.model_selection import StratifiedKFold\n",
        "from keras.layers import LeakyReLU\n",
        "LeakyReLU = LeakyReLU(alpha=0.1)\n",
        "import warnings\n",
        "warnings.filterwarnings('ignore')\n",
        "pd.set_option(\"display.max_columns\", None)"
      ]
    },
    {
      "cell_type": "code",
      "execution_count": 3,
      "metadata": {
        "id": "YNCwtprTsD-E"
      },
      "outputs": [],
      "source": [
        "# Make scorer accuracy\n",
        "score_acc = make_scorer(accuracy_score)"
      ]
    },
    {
      "cell_type": "code",
      "execution_count": 4,
      "metadata": {
        "id": "puyVsRp9cEvp"
      },
      "outputs": [],
      "source": [
        "# load the dataset\n",
        "monks_1_train = pd.read_csv('/content/drive/MyDrive/Colab Notebooks/MONK/monk_1_train_hot.csv',\n",
        "                            names=[\"y\", \"x1_1\", \"x1_2\", \"x1_3\", \"x2_1\", \"x2_2\", \"x2_3\", \"x3_1\", \"x3_2\", \"x4_1\", \"x4_2\", \"x4_3\", \"x5_1\", \"x5_2\", \"x5_3\", \"x5_4\", \"x6_1\", \"x6_2\"])\n",
        "monks_2_train = pd.read_csv('/content/drive/MyDrive/Colab Notebooks/MONK/monk_2_train_hot.csv',\n",
        "                            names=[\"y\", \"x1_1\", \"x1_2\", \"x1_3\", \"x2_1\", \"x2_2\", \"x2_3\", \"x3_1\", \"x3_2\", \"x4_1\", \"x4_2\", \"x4_3\", \"x5_1\", \"x5_2\", \"x5_3\", \"x5_4\", \"x6_1\", \"x6_2\"])\n",
        "monks_3_train = pd.read_csv('/content/drive/MyDrive/Colab Notebooks/MONK/monk_3_train_hot.csv',\n",
        "                            names=[\"y\", \"x1_1\", \"x1_2\", \"x1_3\", \"x2_1\", \"x2_2\", \"x2_3\", \"x3_1\", \"x3_2\", \"x4_1\", \"x4_2\", \"x4_3\", \"x5_1\", \"x5_2\", \"x5_3\", \"x5_4\", \"x6_1\", \"x6_2\"])\n",
        "monks_1_test = pd.read_csv('/content/drive/MyDrive/Colab Notebooks/MONK/monk_1_test_hot.csv',\n",
        "                           names=[\"y\", \"x1_1\", \"x1_2\", \"x1_3\", \"x2_1\", \"x2_2\", \"x2_3\", \"x3_1\", \"x3_2\", \"x4_1\", \"x4_2\", \"x4_3\", \"x5_1\", \"x5_2\", \"x5_3\", \"x5_4\", \"x6_1\", \"x6_2\"])\n",
        "monks_2_test = pd.read_csv('/content/drive/MyDrive/Colab Notebooks/MONK/monk_2_test_hot.csv',\n",
        "                           names=[\"y\", \"x1_1\", \"x1_2\", \"x1_3\", \"x2_1\", \"x2_2\", \"x2_3\", \"x3_1\", \"x3_2\", \"x4_1\", \"x4_2\", \"x4_3\", \"x5_1\", \"x5_2\", \"x5_3\", \"x5_4\", \"x6_1\", \"x6_2\"])\n",
        "monks_3_test = pd.read_csv('/content/drive/MyDrive/Colab Notebooks/MONK/monk_3_test_hot.csv', \n",
        "                           names=[\"y\", \"x1_1\", \"x1_2\", \"x1_3\", \"x2_1\", \"x2_2\", \"x2_3\", \"x3_1\", \"x3_2\", \"x4_1\", \"x4_2\", \"x4_3\", \"x5_1\", \"x5_2\", \"x5_3\", \"x5_4\", \"x6_1\", \"x6_2\"])"
      ]
    },
    {
      "cell_type": "code",
      "execution_count": 5,
      "metadata": {
        "colab": {
          "base_uri": "https://localhost:8080/",
          "height": 423
        },
        "id": "qnPjjphyRlF-",
        "outputId": "fb6b8ff6-0436-4662-f598-886711a34b4b"
      },
      "outputs": [
        {
          "output_type": "execute_result",
          "data": {
            "text/plain": [
              "       y  x1_1  x1_2  x1_3  x2_1  x2_2  x2_3  x3_1  x3_2  x4_1  x4_2  x4_3  \\\n",
              "0    1.0   1.0   0.0   0.0   1.0   0.0   0.0   1.0   0.0   1.0   0.0   0.0   \n",
              "1    1.0   1.0   0.0   0.0   1.0   0.0   0.0   1.0   0.0   1.0   0.0   0.0   \n",
              "2    1.0   1.0   0.0   0.0   1.0   0.0   0.0   1.0   0.0   0.0   0.0   1.0   \n",
              "3    1.0   1.0   0.0   0.0   1.0   0.0   0.0   1.0   0.0   0.0   0.0   1.0   \n",
              "4    1.0   1.0   0.0   0.0   1.0   0.0   0.0   0.0   1.0   1.0   0.0   0.0   \n",
              "..   ...   ...   ...   ...   ...   ...   ...   ...   ...   ...   ...   ...   \n",
              "119  1.0   0.0   0.0   1.0   0.0   0.0   1.0   0.0   1.0   1.0   0.0   0.0   \n",
              "120  1.0   0.0   0.0   1.0   0.0   0.0   1.0   0.0   1.0   0.0   0.0   1.0   \n",
              "121  1.0   0.0   0.0   1.0   0.0   0.0   1.0   0.0   1.0   0.0   0.0   1.0   \n",
              "122  1.0   0.0   0.0   1.0   0.0   0.0   1.0   0.0   1.0   0.0   0.0   1.0   \n",
              "123  1.0   0.0   0.0   1.0   0.0   0.0   1.0   0.0   1.0   0.0   0.0   1.0   \n",
              "\n",
              "     x5_1  x5_2  x5_3  x5_4  x6_1  x6_2  \n",
              "0     0.0   0.0   1.0   0.0   1.0   0.0  \n",
              "1     0.0   0.0   1.0   0.0   0.0   1.0  \n",
              "2     0.0   1.0   0.0   0.0   1.0   0.0  \n",
              "3     0.0   0.0   1.0   0.0   0.0   1.0  \n",
              "4     0.0   1.0   0.0   0.0   1.0   0.0  \n",
              "..    ...   ...   ...   ...   ...   ...  \n",
              "119   0.0   0.0   0.0   1.0   0.0   1.0  \n",
              "120   1.0   0.0   0.0   0.0   0.0   1.0  \n",
              "121   0.0   1.0   0.0   0.0   0.0   1.0  \n",
              "122   0.0   0.0   1.0   0.0   0.0   1.0  \n",
              "123   0.0   0.0   0.0   1.0   0.0   1.0  \n",
              "\n",
              "[124 rows x 18 columns]"
            ],
            "text/html": [
              "\n",
              "  <div id=\"df-462490dc-0709-47da-a218-f481a8a87c06\">\n",
              "    <div class=\"colab-df-container\">\n",
              "      <div>\n",
              "<style scoped>\n",
              "    .dataframe tbody tr th:only-of-type {\n",
              "        vertical-align: middle;\n",
              "    }\n",
              "\n",
              "    .dataframe tbody tr th {\n",
              "        vertical-align: top;\n",
              "    }\n",
              "\n",
              "    .dataframe thead th {\n",
              "        text-align: right;\n",
              "    }\n",
              "</style>\n",
              "<table border=\"1\" class=\"dataframe\">\n",
              "  <thead>\n",
              "    <tr style=\"text-align: right;\">\n",
              "      <th></th>\n",
              "      <th>y</th>\n",
              "      <th>x1_1</th>\n",
              "      <th>x1_2</th>\n",
              "      <th>x1_3</th>\n",
              "      <th>x2_1</th>\n",
              "      <th>x2_2</th>\n",
              "      <th>x2_3</th>\n",
              "      <th>x3_1</th>\n",
              "      <th>x3_2</th>\n",
              "      <th>x4_1</th>\n",
              "      <th>x4_2</th>\n",
              "      <th>x4_3</th>\n",
              "      <th>x5_1</th>\n",
              "      <th>x5_2</th>\n",
              "      <th>x5_3</th>\n",
              "      <th>x5_4</th>\n",
              "      <th>x6_1</th>\n",
              "      <th>x6_2</th>\n",
              "    </tr>\n",
              "  </thead>\n",
              "  <tbody>\n",
              "    <tr>\n",
              "      <th>0</th>\n",
              "      <td>1.0</td>\n",
              "      <td>1.0</td>\n",
              "      <td>0.0</td>\n",
              "      <td>0.0</td>\n",
              "      <td>1.0</td>\n",
              "      <td>0.0</td>\n",
              "      <td>0.0</td>\n",
              "      <td>1.0</td>\n",
              "      <td>0.0</td>\n",
              "      <td>1.0</td>\n",
              "      <td>0.0</td>\n",
              "      <td>0.0</td>\n",
              "      <td>0.0</td>\n",
              "      <td>0.0</td>\n",
              "      <td>1.0</td>\n",
              "      <td>0.0</td>\n",
              "      <td>1.0</td>\n",
              "      <td>0.0</td>\n",
              "    </tr>\n",
              "    <tr>\n",
              "      <th>1</th>\n",
              "      <td>1.0</td>\n",
              "      <td>1.0</td>\n",
              "      <td>0.0</td>\n",
              "      <td>0.0</td>\n",
              "      <td>1.0</td>\n",
              "      <td>0.0</td>\n",
              "      <td>0.0</td>\n",
              "      <td>1.0</td>\n",
              "      <td>0.0</td>\n",
              "      <td>1.0</td>\n",
              "      <td>0.0</td>\n",
              "      <td>0.0</td>\n",
              "      <td>0.0</td>\n",
              "      <td>0.0</td>\n",
              "      <td>1.0</td>\n",
              "      <td>0.0</td>\n",
              "      <td>0.0</td>\n",
              "      <td>1.0</td>\n",
              "    </tr>\n",
              "    <tr>\n",
              "      <th>2</th>\n",
              "      <td>1.0</td>\n",
              "      <td>1.0</td>\n",
              "      <td>0.0</td>\n",
              "      <td>0.0</td>\n",
              "      <td>1.0</td>\n",
              "      <td>0.0</td>\n",
              "      <td>0.0</td>\n",
              "      <td>1.0</td>\n",
              "      <td>0.0</td>\n",
              "      <td>0.0</td>\n",
              "      <td>0.0</td>\n",
              "      <td>1.0</td>\n",
              "      <td>0.0</td>\n",
              "      <td>1.0</td>\n",
              "      <td>0.0</td>\n",
              "      <td>0.0</td>\n",
              "      <td>1.0</td>\n",
              "      <td>0.0</td>\n",
              "    </tr>\n",
              "    <tr>\n",
              "      <th>3</th>\n",
              "      <td>1.0</td>\n",
              "      <td>1.0</td>\n",
              "      <td>0.0</td>\n",
              "      <td>0.0</td>\n",
              "      <td>1.0</td>\n",
              "      <td>0.0</td>\n",
              "      <td>0.0</td>\n",
              "      <td>1.0</td>\n",
              "      <td>0.0</td>\n",
              "      <td>0.0</td>\n",
              "      <td>0.0</td>\n",
              "      <td>1.0</td>\n",
              "      <td>0.0</td>\n",
              "      <td>0.0</td>\n",
              "      <td>1.0</td>\n",
              "      <td>0.0</td>\n",
              "      <td>0.0</td>\n",
              "      <td>1.0</td>\n",
              "    </tr>\n",
              "    <tr>\n",
              "      <th>4</th>\n",
              "      <td>1.0</td>\n",
              "      <td>1.0</td>\n",
              "      <td>0.0</td>\n",
              "      <td>0.0</td>\n",
              "      <td>1.0</td>\n",
              "      <td>0.0</td>\n",
              "      <td>0.0</td>\n",
              "      <td>0.0</td>\n",
              "      <td>1.0</td>\n",
              "      <td>1.0</td>\n",
              "      <td>0.0</td>\n",
              "      <td>0.0</td>\n",
              "      <td>0.0</td>\n",
              "      <td>1.0</td>\n",
              "      <td>0.0</td>\n",
              "      <td>0.0</td>\n",
              "      <td>1.0</td>\n",
              "      <td>0.0</td>\n",
              "    </tr>\n",
              "    <tr>\n",
              "      <th>...</th>\n",
              "      <td>...</td>\n",
              "      <td>...</td>\n",
              "      <td>...</td>\n",
              "      <td>...</td>\n",
              "      <td>...</td>\n",
              "      <td>...</td>\n",
              "      <td>...</td>\n",
              "      <td>...</td>\n",
              "      <td>...</td>\n",
              "      <td>...</td>\n",
              "      <td>...</td>\n",
              "      <td>...</td>\n",
              "      <td>...</td>\n",
              "      <td>...</td>\n",
              "      <td>...</td>\n",
              "      <td>...</td>\n",
              "      <td>...</td>\n",
              "      <td>...</td>\n",
              "    </tr>\n",
              "    <tr>\n",
              "      <th>119</th>\n",
              "      <td>1.0</td>\n",
              "      <td>0.0</td>\n",
              "      <td>0.0</td>\n",
              "      <td>1.0</td>\n",
              "      <td>0.0</td>\n",
              "      <td>0.0</td>\n",
              "      <td>1.0</td>\n",
              "      <td>0.0</td>\n",
              "      <td>1.0</td>\n",
              "      <td>1.0</td>\n",
              "      <td>0.0</td>\n",
              "      <td>0.0</td>\n",
              "      <td>0.0</td>\n",
              "      <td>0.0</td>\n",
              "      <td>0.0</td>\n",
              "      <td>1.0</td>\n",
              "      <td>0.0</td>\n",
              "      <td>1.0</td>\n",
              "    </tr>\n",
              "    <tr>\n",
              "      <th>120</th>\n",
              "      <td>1.0</td>\n",
              "      <td>0.0</td>\n",
              "      <td>0.0</td>\n",
              "      <td>1.0</td>\n",
              "      <td>0.0</td>\n",
              "      <td>0.0</td>\n",
              "      <td>1.0</td>\n",
              "      <td>0.0</td>\n",
              "      <td>1.0</td>\n",
              "      <td>0.0</td>\n",
              "      <td>0.0</td>\n",
              "      <td>1.0</td>\n",
              "      <td>1.0</td>\n",
              "      <td>0.0</td>\n",
              "      <td>0.0</td>\n",
              "      <td>0.0</td>\n",
              "      <td>0.0</td>\n",
              "      <td>1.0</td>\n",
              "    </tr>\n",
              "    <tr>\n",
              "      <th>121</th>\n",
              "      <td>1.0</td>\n",
              "      <td>0.0</td>\n",
              "      <td>0.0</td>\n",
              "      <td>1.0</td>\n",
              "      <td>0.0</td>\n",
              "      <td>0.0</td>\n",
              "      <td>1.0</td>\n",
              "      <td>0.0</td>\n",
              "      <td>1.0</td>\n",
              "      <td>0.0</td>\n",
              "      <td>0.0</td>\n",
              "      <td>1.0</td>\n",
              "      <td>0.0</td>\n",
              "      <td>1.0</td>\n",
              "      <td>0.0</td>\n",
              "      <td>0.0</td>\n",
              "      <td>0.0</td>\n",
              "      <td>1.0</td>\n",
              "    </tr>\n",
              "    <tr>\n",
              "      <th>122</th>\n",
              "      <td>1.0</td>\n",
              "      <td>0.0</td>\n",
              "      <td>0.0</td>\n",
              "      <td>1.0</td>\n",
              "      <td>0.0</td>\n",
              "      <td>0.0</td>\n",
              "      <td>1.0</td>\n",
              "      <td>0.0</td>\n",
              "      <td>1.0</td>\n",
              "      <td>0.0</td>\n",
              "      <td>0.0</td>\n",
              "      <td>1.0</td>\n",
              "      <td>0.0</td>\n",
              "      <td>0.0</td>\n",
              "      <td>1.0</td>\n",
              "      <td>0.0</td>\n",
              "      <td>0.0</td>\n",
              "      <td>1.0</td>\n",
              "    </tr>\n",
              "    <tr>\n",
              "      <th>123</th>\n",
              "      <td>1.0</td>\n",
              "      <td>0.0</td>\n",
              "      <td>0.0</td>\n",
              "      <td>1.0</td>\n",
              "      <td>0.0</td>\n",
              "      <td>0.0</td>\n",
              "      <td>1.0</td>\n",
              "      <td>0.0</td>\n",
              "      <td>1.0</td>\n",
              "      <td>0.0</td>\n",
              "      <td>0.0</td>\n",
              "      <td>1.0</td>\n",
              "      <td>0.0</td>\n",
              "      <td>0.0</td>\n",
              "      <td>0.0</td>\n",
              "      <td>1.0</td>\n",
              "      <td>0.0</td>\n",
              "      <td>1.0</td>\n",
              "    </tr>\n",
              "  </tbody>\n",
              "</table>\n",
              "<p>124 rows × 18 columns</p>\n",
              "</div>\n",
              "      <button class=\"colab-df-convert\" onclick=\"convertToInteractive('df-462490dc-0709-47da-a218-f481a8a87c06')\"\n",
              "              title=\"Convert this dataframe to an interactive table.\"\n",
              "              style=\"display:none;\">\n",
              "        \n",
              "  <svg xmlns=\"http://www.w3.org/2000/svg\" height=\"24px\"viewBox=\"0 0 24 24\"\n",
              "       width=\"24px\">\n",
              "    <path d=\"M0 0h24v24H0V0z\" fill=\"none\"/>\n",
              "    <path d=\"M18.56 5.44l.94 2.06.94-2.06 2.06-.94-2.06-.94-.94-2.06-.94 2.06-2.06.94zm-11 1L8.5 8.5l.94-2.06 2.06-.94-2.06-.94L8.5 2.5l-.94 2.06-2.06.94zm10 10l.94 2.06.94-2.06 2.06-.94-2.06-.94-.94-2.06-.94 2.06-2.06.94z\"/><path d=\"M17.41 7.96l-1.37-1.37c-.4-.4-.92-.59-1.43-.59-.52 0-1.04.2-1.43.59L10.3 9.45l-7.72 7.72c-.78.78-.78 2.05 0 2.83L4 21.41c.39.39.9.59 1.41.59.51 0 1.02-.2 1.41-.59l7.78-7.78 2.81-2.81c.8-.78.8-2.07 0-2.86zM5.41 20L4 18.59l7.72-7.72 1.47 1.35L5.41 20z\"/>\n",
              "  </svg>\n",
              "      </button>\n",
              "      \n",
              "  <style>\n",
              "    .colab-df-container {\n",
              "      display:flex;\n",
              "      flex-wrap:wrap;\n",
              "      gap: 12px;\n",
              "    }\n",
              "\n",
              "    .colab-df-convert {\n",
              "      background-color: #E8F0FE;\n",
              "      border: none;\n",
              "      border-radius: 50%;\n",
              "      cursor: pointer;\n",
              "      display: none;\n",
              "      fill: #1967D2;\n",
              "      height: 32px;\n",
              "      padding: 0 0 0 0;\n",
              "      width: 32px;\n",
              "    }\n",
              "\n",
              "    .colab-df-convert:hover {\n",
              "      background-color: #E2EBFA;\n",
              "      box-shadow: 0px 1px 2px rgba(60, 64, 67, 0.3), 0px 1px 3px 1px rgba(60, 64, 67, 0.15);\n",
              "      fill: #174EA6;\n",
              "    }\n",
              "\n",
              "    [theme=dark] .colab-df-convert {\n",
              "      background-color: #3B4455;\n",
              "      fill: #D2E3FC;\n",
              "    }\n",
              "\n",
              "    [theme=dark] .colab-df-convert:hover {\n",
              "      background-color: #434B5C;\n",
              "      box-shadow: 0px 1px 3px 1px rgba(0, 0, 0, 0.15);\n",
              "      filter: drop-shadow(0px 1px 2px rgba(0, 0, 0, 0.3));\n",
              "      fill: #FFFFFF;\n",
              "    }\n",
              "  </style>\n",
              "\n",
              "      <script>\n",
              "        const buttonEl =\n",
              "          document.querySelector('#df-462490dc-0709-47da-a218-f481a8a87c06 button.colab-df-convert');\n",
              "        buttonEl.style.display =\n",
              "          google.colab.kernel.accessAllowed ? 'block' : 'none';\n",
              "\n",
              "        async function convertToInteractive(key) {\n",
              "          const element = document.querySelector('#df-462490dc-0709-47da-a218-f481a8a87c06');\n",
              "          const dataTable =\n",
              "            await google.colab.kernel.invokeFunction('convertToInteractive',\n",
              "                                                     [key], {});\n",
              "          if (!dataTable) return;\n",
              "\n",
              "          const docLinkHtml = 'Like what you see? Visit the ' +\n",
              "            '<a target=\"_blank\" href=https://colab.research.google.com/notebooks/data_table.ipynb>data table notebook</a>'\n",
              "            + ' to learn more about interactive tables.';\n",
              "          element.innerHTML = '';\n",
              "          dataTable['output_type'] = 'display_data';\n",
              "          await google.colab.output.renderOutput(dataTable, element);\n",
              "          const docLink = document.createElement('div');\n",
              "          docLink.innerHTML = docLinkHtml;\n",
              "          element.appendChild(docLink);\n",
              "        }\n",
              "      </script>\n",
              "    </div>\n",
              "  </div>\n",
              "  "
            ]
          },
          "metadata": {},
          "execution_count": 5
        }
      ],
      "source": [
        "monks_1_train"
      ]
    },
    {
      "cell_type": "markdown",
      "metadata": {
        "id": "mG3REXB6djMm"
      },
      "source": [
        "# **Nuovo input**"
      ]
    },
    {
      "cell_type": "code",
      "execution_count": 6,
      "metadata": {
        "id": "EE4Z2KMd_hLw"
      },
      "outputs": [],
      "source": [
        "X_1_tr = monks_1_train.iloc[:,1:].values\n",
        "y_1_tr = monks_1_train.iloc[:,0].values\n",
        "\n",
        "X_2_tr = monks_2_train.iloc[:,1:].values\n",
        "y_2_tr = monks_2_train.iloc[:,0].values\n",
        "\n",
        "X_3_tr = monks_3_train.iloc[:,1:].values\n",
        "y_3_tr = monks_3_train.iloc[:,0].values\n",
        "\n",
        "X_test_1 = monks_1_test.iloc[:,1:].values\n",
        "y_test_1 = monks_1_test.iloc[:,0].values\n",
        "\n",
        "X_test_2 = monks_2_test.iloc[:,1:].values\n",
        "y_test_2 = monks_2_test.iloc[:,0].values\n",
        "\n",
        "X_test_3 = monks_3_test.iloc[:,1:].values\n",
        "y_test_3 = monks_3_test.iloc[:,0].values"
      ]
    },
    {
      "cell_type": "markdown",
      "metadata": {
        "id": "ADKh4TVlgT2R"
      },
      "source": [
        "# **MONK 1**"
      ]
    },
    {
      "cell_type": "code",
      "execution_count": 33,
      "metadata": {
        "colab": {
          "base_uri": "https://localhost:8080/"
        },
        "id": "6rZGyh0SfgNl",
        "outputId": "ad0e3d5a-58e2-4feb-89eb-062c962ace4d"
      },
      "outputs": [
        {
          "output_type": "execute_result",
          "data": {
            "text/plain": [
              "Ellipsis"
            ]
          },
          "metadata": {},
          "execution_count": 33
        }
      ],
      "source": [
        "...\n",
        "# define the keras model for monk 1\n",
        "model_1 = Sequential()\n",
        "model_1.add(Dense(4, input_shape=(X_1_tr.shape[1],), activation='relu'))\n",
        "model_1.add(Dense(1, activation='sigmoid'))\n",
        "..."
      ]
    },
    {
      "cell_type": "code",
      "execution_count": 34,
      "metadata": {
        "colab": {
          "base_uri": "https://localhost:8080/"
        },
        "id": "bQouALYJhtAT",
        "outputId": "88e032d9-e808-43e3-fe69-98bfe4a93f75"
      },
      "outputs": [
        {
          "output_type": "stream",
          "name": "stdout",
          "text": [
            "Model: \"sequential_5\"\n",
            "_________________________________________________________________\n",
            " Layer (type)                Output Shape              Param #   \n",
            "=================================================================\n",
            " dense_10 (Dense)            (None, 4)                 72        \n",
            "                                                                 \n",
            " dense_11 (Dense)            (None, 1)                 5         \n",
            "                                                                 \n",
            "=================================================================\n",
            "Total params: 77\n",
            "Trainable params: 77\n",
            "Non-trainable params: 0\n",
            "_________________________________________________________________\n"
          ]
        },
        {
          "output_type": "execute_result",
          "data": {
            "text/plain": [
              "Ellipsis"
            ]
          },
          "metadata": {},
          "execution_count": 34
        }
      ],
      "source": [
        "...\n",
        "# compile the keras model\n",
        "model_1.summary()\n",
        "opt = tf.keras.optimizers.experimental.SGD(0.02, momentum=0.09)\n",
        "model_1.compile(loss='mean_squared_error', optimizer = opt, metrics=['accuracy'])\n",
        "..."
      ]
    },
    {
      "cell_type": "code",
      "execution_count": 35,
      "metadata": {
        "colab": {
          "base_uri": "https://localhost:8080/"
        },
        "id": "aXTlc8aQhtRT",
        "outputId": "ee6e905e-2a25-4fdb-e0ca-e59e44c979bb"
      },
      "outputs": [
        {
          "output_type": "stream",
          "name": "stdout",
          "text": [
            "Epoch 1/80\n",
            "124/124 [==============================] - 1s 8ms/step - loss: 0.2749 - accuracy: 0.5081 - val_loss: 0.2605 - val_accuracy: 0.5139\n",
            "Epoch 2/80\n",
            "124/124 [==============================] - 1s 7ms/step - loss: 0.2373 - accuracy: 0.5968 - val_loss: 0.2451 - val_accuracy: 0.5625\n",
            "Epoch 3/80\n",
            "124/124 [==============================] - 1s 7ms/step - loss: 0.2194 - accuracy: 0.6532 - val_loss: 0.2337 - val_accuracy: 0.5926\n",
            "Epoch 4/80\n",
            "124/124 [==============================] - 1s 7ms/step - loss: 0.2057 - accuracy: 0.6935 - val_loss: 0.2258 - val_accuracy: 0.6273\n",
            "Epoch 5/80\n",
            "124/124 [==============================] - 1s 5ms/step - loss: 0.1940 - accuracy: 0.7419 - val_loss: 0.2173 - val_accuracy: 0.6574\n",
            "Epoch 6/80\n",
            "124/124 [==============================] - 1s 7ms/step - loss: 0.1833 - accuracy: 0.7339 - val_loss: 0.2095 - val_accuracy: 0.6713\n",
            "Epoch 7/80\n",
            "124/124 [==============================] - 1s 5ms/step - loss: 0.1736 - accuracy: 0.7661 - val_loss: 0.2018 - val_accuracy: 0.6898\n",
            "Epoch 8/80\n",
            "124/124 [==============================] - 1s 5ms/step - loss: 0.1645 - accuracy: 0.7742 - val_loss: 0.1954 - val_accuracy: 0.6921\n",
            "Epoch 9/80\n",
            "124/124 [==============================] - 1s 5ms/step - loss: 0.1559 - accuracy: 0.8065 - val_loss: 0.1892 - val_accuracy: 0.7060\n",
            "Epoch 10/80\n",
            "124/124 [==============================] - 1s 5ms/step - loss: 0.1504 - accuracy: 0.8468 - val_loss: 0.1831 - val_accuracy: 0.7245\n",
            "Epoch 11/80\n",
            "124/124 [==============================] - 1s 7ms/step - loss: 0.1441 - accuracy: 0.8387 - val_loss: 0.1799 - val_accuracy: 0.7222\n",
            "Epoch 12/80\n",
            "124/124 [==============================] - 1s 7ms/step - loss: 0.1387 - accuracy: 0.8468 - val_loss: 0.1744 - val_accuracy: 0.7407\n",
            "Epoch 13/80\n",
            "124/124 [==============================] - 1s 7ms/step - loss: 0.1336 - accuracy: 0.8548 - val_loss: 0.1716 - val_accuracy: 0.7477\n",
            "Epoch 14/80\n",
            "124/124 [==============================] - 1s 7ms/step - loss: 0.1288 - accuracy: 0.8548 - val_loss: 0.1666 - val_accuracy: 0.7546\n",
            "Epoch 15/80\n",
            "124/124 [==============================] - 1s 5ms/step - loss: 0.1241 - accuracy: 0.8468 - val_loss: 0.1668 - val_accuracy: 0.7662\n",
            "Epoch 16/80\n",
            "124/124 [==============================] - 1s 7ms/step - loss: 0.1204 - accuracy: 0.8710 - val_loss: 0.1581 - val_accuracy: 0.7685\n",
            "Epoch 17/80\n",
            "124/124 [==============================] - 1s 5ms/step - loss: 0.1179 - accuracy: 0.8468 - val_loss: 0.1551 - val_accuracy: 0.7894\n",
            "Epoch 18/80\n",
            "124/124 [==============================] - 1s 7ms/step - loss: 0.1138 - accuracy: 0.8629 - val_loss: 0.1514 - val_accuracy: 0.7801\n",
            "Epoch 19/80\n",
            "124/124 [==============================] - 1s 7ms/step - loss: 0.1114 - accuracy: 0.8548 - val_loss: 0.1490 - val_accuracy: 0.7940\n",
            "Epoch 20/80\n",
            "124/124 [==============================] - 1s 7ms/step - loss: 0.1083 - accuracy: 0.8629 - val_loss: 0.1458 - val_accuracy: 0.7963\n",
            "Epoch 21/80\n",
            "124/124 [==============================] - 1s 5ms/step - loss: 0.1052 - accuracy: 0.8790 - val_loss: 0.1451 - val_accuracy: 0.8032\n",
            "Epoch 22/80\n",
            "124/124 [==============================] - 1s 5ms/step - loss: 0.1009 - accuracy: 0.8871 - val_loss: 0.1454 - val_accuracy: 0.7986\n",
            "Epoch 23/80\n",
            "124/124 [==============================] - 1s 7ms/step - loss: 0.0989 - accuracy: 0.8871 - val_loss: 0.1411 - val_accuracy: 0.7986\n",
            "Epoch 24/80\n",
            "124/124 [==============================] - 1s 5ms/step - loss: 0.0962 - accuracy: 0.8710 - val_loss: 0.1345 - val_accuracy: 0.8102\n",
            "Epoch 25/80\n",
            "124/124 [==============================] - 1s 7ms/step - loss: 0.0930 - accuracy: 0.8952 - val_loss: 0.1280 - val_accuracy: 0.8310\n",
            "Epoch 26/80\n",
            "124/124 [==============================] - 1s 7ms/step - loss: 0.0893 - accuracy: 0.8952 - val_loss: 0.1276 - val_accuracy: 0.8171\n",
            "Epoch 27/80\n",
            "124/124 [==============================] - 1s 7ms/step - loss: 0.0867 - accuracy: 0.8952 - val_loss: 0.1191 - val_accuracy: 0.8426\n",
            "Epoch 28/80\n",
            "124/124 [==============================] - 1s 5ms/step - loss: 0.0829 - accuracy: 0.9113 - val_loss: 0.1140 - val_accuracy: 0.8588\n",
            "Epoch 29/80\n",
            "124/124 [==============================] - 1s 5ms/step - loss: 0.0797 - accuracy: 0.9274 - val_loss: 0.1095 - val_accuracy: 0.8565\n",
            "Epoch 30/80\n",
            "124/124 [==============================] - 1s 5ms/step - loss: 0.0775 - accuracy: 0.9194 - val_loss: 0.1050 - val_accuracy: 0.8657\n",
            "Epoch 31/80\n",
            "124/124 [==============================] - 1s 5ms/step - loss: 0.0729 - accuracy: 0.9355 - val_loss: 0.1090 - val_accuracy: 0.8495\n",
            "Epoch 32/80\n",
            "124/124 [==============================] - 1s 7ms/step - loss: 0.0713 - accuracy: 0.9355 - val_loss: 0.0992 - val_accuracy: 0.8657\n",
            "Epoch 33/80\n",
            "124/124 [==============================] - 1s 7ms/step - loss: 0.0673 - accuracy: 0.9355 - val_loss: 0.0923 - val_accuracy: 0.8866\n",
            "Epoch 34/80\n",
            "124/124 [==============================] - 1s 5ms/step - loss: 0.0649 - accuracy: 0.9355 - val_loss: 0.0885 - val_accuracy: 0.9005\n",
            "Epoch 35/80\n",
            "124/124 [==============================] - 1s 5ms/step - loss: 0.0611 - accuracy: 0.9435 - val_loss: 0.0873 - val_accuracy: 0.8958\n",
            "Epoch 36/80\n",
            "124/124 [==============================] - 1s 7ms/step - loss: 0.0575 - accuracy: 0.9597 - val_loss: 0.0847 - val_accuracy: 0.9005\n",
            "Epoch 37/80\n",
            "124/124 [==============================] - 1s 5ms/step - loss: 0.0549 - accuracy: 0.9677 - val_loss: 0.0754 - val_accuracy: 0.9352\n",
            "Epoch 38/80\n",
            "124/124 [==============================] - 1s 7ms/step - loss: 0.0519 - accuracy: 0.9839 - val_loss: 0.0756 - val_accuracy: 0.9144\n",
            "Epoch 39/80\n",
            "124/124 [==============================] - 1s 5ms/step - loss: 0.0494 - accuracy: 0.9758 - val_loss: 0.0693 - val_accuracy: 0.9468\n",
            "Epoch 40/80\n",
            "124/124 [==============================] - 1s 7ms/step - loss: 0.0469 - accuracy: 0.9758 - val_loss: 0.0634 - val_accuracy: 0.9630\n",
            "Epoch 41/80\n",
            "124/124 [==============================] - 1s 5ms/step - loss: 0.0444 - accuracy: 0.9839 - val_loss: 0.0611 - val_accuracy: 0.9630\n",
            "Epoch 42/80\n",
            "124/124 [==============================] - 1s 5ms/step - loss: 0.0419 - accuracy: 0.9839 - val_loss: 0.0572 - val_accuracy: 0.9699\n",
            "Epoch 43/80\n",
            "124/124 [==============================] - 1s 7ms/step - loss: 0.0394 - accuracy: 0.9919 - val_loss: 0.0538 - val_accuracy: 0.9769\n",
            "Epoch 44/80\n",
            "124/124 [==============================] - 1s 5ms/step - loss: 0.0376 - accuracy: 0.9919 - val_loss: 0.0514 - val_accuracy: 0.9838\n",
            "Epoch 45/80\n",
            "124/124 [==============================] - 1s 7ms/step - loss: 0.0355 - accuracy: 0.9919 - val_loss: 0.0489 - val_accuracy: 0.9838\n",
            "Epoch 46/80\n",
            "124/124 [==============================] - 1s 5ms/step - loss: 0.0335 - accuracy: 1.0000 - val_loss: 0.0460 - val_accuracy: 0.9861\n",
            "Epoch 47/80\n",
            "124/124 [==============================] - 1s 7ms/step - loss: 0.0314 - accuracy: 1.0000 - val_loss: 0.0445 - val_accuracy: 0.9907\n",
            "Epoch 48/80\n",
            "124/124 [==============================] - 1s 5ms/step - loss: 0.0300 - accuracy: 1.0000 - val_loss: 0.0413 - val_accuracy: 0.9907\n",
            "Epoch 49/80\n",
            "124/124 [==============================] - 1s 7ms/step - loss: 0.0280 - accuracy: 1.0000 - val_loss: 0.0394 - val_accuracy: 0.9931\n",
            "Epoch 50/80\n",
            "124/124 [==============================] - 1s 5ms/step - loss: 0.0266 - accuracy: 1.0000 - val_loss: 0.0384 - val_accuracy: 0.9931\n",
            "Epoch 51/80\n",
            "124/124 [==============================] - 1s 5ms/step - loss: 0.0251 - accuracy: 1.0000 - val_loss: 0.0365 - val_accuracy: 0.9977\n",
            "Epoch 52/80\n",
            "124/124 [==============================] - 1s 7ms/step - loss: 0.0239 - accuracy: 1.0000 - val_loss: 0.0343 - val_accuracy: 0.9977\n",
            "Epoch 53/80\n",
            "124/124 [==============================] - 1s 5ms/step - loss: 0.0224 - accuracy: 1.0000 - val_loss: 0.0320 - val_accuracy: 0.9977\n",
            "Epoch 54/80\n",
            "124/124 [==============================] - 1s 5ms/step - loss: 0.0214 - accuracy: 1.0000 - val_loss: 0.0301 - val_accuracy: 1.0000\n",
            "Epoch 55/80\n",
            "124/124 [==============================] - 1s 5ms/step - loss: 0.0204 - accuracy: 1.0000 - val_loss: 0.0290 - val_accuracy: 1.0000\n",
            "Epoch 56/80\n",
            "124/124 [==============================] - 1s 7ms/step - loss: 0.0194 - accuracy: 1.0000 - val_loss: 0.0271 - val_accuracy: 1.0000\n",
            "Epoch 57/80\n",
            "124/124 [==============================] - 1s 7ms/step - loss: 0.0185 - accuracy: 1.0000 - val_loss: 0.0261 - val_accuracy: 1.0000\n",
            "Epoch 58/80\n",
            "124/124 [==============================] - 1s 5ms/step - loss: 0.0174 - accuracy: 1.0000 - val_loss: 0.0256 - val_accuracy: 1.0000\n",
            "Epoch 59/80\n",
            "124/124 [==============================] - 1s 5ms/step - loss: 0.0165 - accuracy: 1.0000 - val_loss: 0.0241 - val_accuracy: 1.0000\n",
            "Epoch 60/80\n",
            "124/124 [==============================] - 1s 7ms/step - loss: 0.0160 - accuracy: 1.0000 - val_loss: 0.0226 - val_accuracy: 1.0000\n",
            "Epoch 61/80\n",
            "124/124 [==============================] - 1s 5ms/step - loss: 0.0151 - accuracy: 1.0000 - val_loss: 0.0216 - val_accuracy: 1.0000\n",
            "Epoch 62/80\n",
            "124/124 [==============================] - 1s 5ms/step - loss: 0.0145 - accuracy: 1.0000 - val_loss: 0.0212 - val_accuracy: 1.0000\n",
            "Epoch 63/80\n",
            "124/124 [==============================] - 1s 7ms/step - loss: 0.0139 - accuracy: 1.0000 - val_loss: 0.0201 - val_accuracy: 1.0000\n",
            "Epoch 64/80\n",
            "124/124 [==============================] - 1s 7ms/step - loss: 0.0133 - accuracy: 1.0000 - val_loss: 0.0192 - val_accuracy: 1.0000\n",
            "Epoch 65/80\n",
            "124/124 [==============================] - 1s 5ms/step - loss: 0.0127 - accuracy: 1.0000 - val_loss: 0.0184 - val_accuracy: 1.0000\n",
            "Epoch 66/80\n",
            "124/124 [==============================] - 1s 5ms/step - loss: 0.0122 - accuracy: 1.0000 - val_loss: 0.0180 - val_accuracy: 1.0000\n",
            "Epoch 67/80\n",
            "124/124 [==============================] - 1s 7ms/step - loss: 0.0117 - accuracy: 1.0000 - val_loss: 0.0172 - val_accuracy: 1.0000\n",
            "Epoch 68/80\n",
            "124/124 [==============================] - 1s 5ms/step - loss: 0.0112 - accuracy: 1.0000 - val_loss: 0.0166 - val_accuracy: 1.0000\n",
            "Epoch 69/80\n",
            "124/124 [==============================] - 1s 7ms/step - loss: 0.0108 - accuracy: 1.0000 - val_loss: 0.0160 - val_accuracy: 1.0000\n",
            "Epoch 70/80\n",
            "124/124 [==============================] - 1s 5ms/step - loss: 0.0102 - accuracy: 1.0000 - val_loss: 0.0160 - val_accuracy: 1.0000\n",
            "Epoch 71/80\n",
            "124/124 [==============================] - 1s 7ms/step - loss: 0.0100 - accuracy: 1.0000 - val_loss: 0.0150 - val_accuracy: 1.0000\n",
            "Epoch 72/80\n",
            "124/124 [==============================] - 1s 5ms/step - loss: 0.0096 - accuracy: 1.0000 - val_loss: 0.0143 - val_accuracy: 1.0000\n",
            "Epoch 73/80\n",
            "124/124 [==============================] - 1s 5ms/step - loss: 0.0092 - accuracy: 1.0000 - val_loss: 0.0138 - val_accuracy: 1.0000\n",
            "Epoch 74/80\n",
            "124/124 [==============================] - 1s 5ms/step - loss: 0.0090 - accuracy: 1.0000 - val_loss: 0.0133 - val_accuracy: 1.0000\n",
            "Epoch 75/80\n",
            "124/124 [==============================] - 1s 5ms/step - loss: 0.0087 - accuracy: 1.0000 - val_loss: 0.0132 - val_accuracy: 1.0000\n",
            "Epoch 76/80\n",
            "124/124 [==============================] - 1s 6ms/step - loss: 0.0084 - accuracy: 1.0000 - val_loss: 0.0129 - val_accuracy: 1.0000\n",
            "Epoch 77/80\n",
            "124/124 [==============================] - 1s 7ms/step - loss: 0.0081 - accuracy: 1.0000 - val_loss: 0.0124 - val_accuracy: 1.0000\n",
            "Epoch 78/80\n",
            "124/124 [==============================] - 1s 7ms/step - loss: 0.0078 - accuracy: 1.0000 - val_loss: 0.0122 - val_accuracy: 1.0000\n",
            "Epoch 79/80\n",
            "124/124 [==============================] - 1s 7ms/step - loss: 0.0076 - accuracy: 1.0000 - val_loss: 0.0116 - val_accuracy: 1.0000\n",
            "Epoch 80/80\n",
            "124/124 [==============================] - 1s 5ms/step - loss: 0.0073 - accuracy: 1.0000 - val_loss: 0.0114 - val_accuracy: 1.0000\n",
            "CPU times: user 58.4 s, sys: 3.71 s, total: 1min 2s\n",
            "Wall time: 59 s\n"
          ]
        },
        {
          "output_type": "execute_result",
          "data": {
            "text/plain": [
              "Ellipsis"
            ]
          },
          "metadata": {},
          "execution_count": 35
        }
      ],
      "source": [
        "%%time\n",
        "# fit the keras model on the dataset\n",
        "history1 = model_1.fit(X_1_tr, y_1_tr,validation_data=(X_test_1,y_test_1) ,epochs=80, batch_size=1)\n",
        "..."
      ]
    },
    {
      "cell_type": "code",
      "execution_count": 37,
      "metadata": {
        "colab": {
          "base_uri": "https://localhost:8080/",
          "height": 331
        },
        "id": "V6YMU-iIhteR",
        "outputId": "f0c917ef-8706-451e-937a-bf588173fab4"
      },
      "outputs": [
        {
          "output_type": "stream",
          "name": "stdout",
          "text": [
            "Train MSE: 0.006974 Test MSE: 0.011369\n",
            "Train accuracy: 1.0000 Test accuracy: 1.0000\n"
          ]
        },
        {
          "output_type": "display_data",
          "data": {
            "text/plain": [
              "<Figure size 432x288 with 1 Axes>"
            ],
            "image/png": "[encoded data removed]"
          },
          "metadata": {
            "needs_background": "light"
          }
        }
      ],
      "source": [
        "#Evaluate model\n",
        "from matplotlib import pyplot\n",
        "train_mse,train_accuracy = model_1.evaluate(X_1_tr, y_1_tr, verbose=0)\n",
        "test_mse,test_accuracy = model_1.evaluate(X_test_1,y_test_1,verbose=0)\n",
        "print('Train MSE: %.6f Test MSE: %.6f'%(train_mse,test_mse))\n",
        "print('Train accuracy: %.4f Test accuracy: %.4f'%(train_accuracy,test_accuracy))\n",
        "pyplot.title('MONK 1')\n",
        "pyplot.plot(history1.history['loss'], label='train')\n",
        "pyplot.plot(history1.history['val_loss'], label='test',linestyle=\"dashed\")\n",
        "pyplot.xlabel('epoch')\n",
        "pyplot.ylabel('MSE')\n",
        "pyplot.legend()\n",
        "pyplot.show()"
      ]
    },
    {
      "cell_type": "markdown",
      "metadata": {
        "id": "c_-IyJZbgOH8"
      },
      "source": [
        "# **MONK 2**"
      ]
    },
    {
      "cell_type": "code",
      "execution_count": 43,
      "metadata": {
        "colab": {
          "base_uri": "https://localhost:8080/"
        },
        "id": "9tv3vJ0Jq6Hy",
        "outputId": "7774a9a6-33c2-4af4-af2b-29aa786776de"
      },
      "outputs": [
        {
          "output_type": "execute_result",
          "data": {
            "text/plain": [
              "Ellipsis"
            ]
          },
          "metadata": {},
          "execution_count": 43
        }
      ],
      "source": [
        "...\n",
        "# define the keras model for monk 2\n",
        "model_2 = Sequential()\n",
        "model_2.add(Dense(4, input_shape=(X_test_2.shape[1],), activation='relu'))\n",
        "model_2.add(Dense(1, activation='sigmoid'))\n",
        "..."
      ]
    },
    {
      "cell_type": "code",
      "execution_count": 44,
      "metadata": {
        "colab": {
          "base_uri": "https://localhost:8080/"
        },
        "id": "Kf36cJQEq6H4",
        "outputId": "6c79208b-8451-4ae0-e633-a05ca2523f67"
      },
      "outputs": [
        {
          "output_type": "stream",
          "name": "stdout",
          "text": [
            "Model: \"sequential_7\"\n",
            "_________________________________________________________________\n",
            " Layer (type)                Output Shape              Param #   \n",
            "=================================================================\n",
            " dense_14 (Dense)            (None, 4)                 72        \n",
            "                                                                 \n",
            " dense_15 (Dense)            (None, 1)                 5         \n",
            "                                                                 \n",
            "=================================================================\n",
            "Total params: 77\n",
            "Trainable params: 77\n",
            "Non-trainable params: 0\n",
            "_________________________________________________________________\n"
          ]
        },
        {
          "output_type": "execute_result",
          "data": {
            "text/plain": [
              "Ellipsis"
            ]
          },
          "metadata": {},
          "execution_count": 44
        }
      ],
      "source": [
        "...\n",
        "# compile the keras model\n",
        "model_2.summary()\n",
        "opt = tf.keras.optimizers.experimental.SGD(learning_rate = 0.05, momentum=0.09)\n",
        "model_2.compile(loss='mean_squared_error', optimizer = opt, metrics=['accuracy'])\n",
        "..."
      ]
    },
    {
      "cell_type": "code",
      "execution_count": 45,
      "metadata": {
        "colab": {
          "base_uri": "https://localhost:8080/"
        },
        "id": "Xcs8Lm66q6H5",
        "outputId": "c635b517-45dd-48cb-9dd7-05b459026fd6"
      },
      "outputs": [
        {
          "output_type": "stream",
          "name": "stdout",
          "text": [
            "Epoch 1/30\n",
            "169/169 [==============================] - 1s 6ms/step - loss: 0.2467 - accuracy: 0.5976 - val_loss: 0.2292 - val_accuracy: 0.6412\n",
            "Epoch 2/30\n",
            "169/169 [==============================] - 1s 4ms/step - loss: 0.2352 - accuracy: 0.6213 - val_loss: 0.2315 - val_accuracy: 0.6273\n",
            "Epoch 3/30\n",
            "169/169 [==============================] - 1s 5ms/step - loss: 0.2317 - accuracy: 0.6154 - val_loss: 0.2240 - val_accuracy: 0.6343\n",
            "Epoch 4/30\n",
            "169/169 [==============================] - 1s 4ms/step - loss: 0.2264 - accuracy: 0.6391 - val_loss: 0.2209 - val_accuracy: 0.6366\n",
            "Epoch 5/30\n",
            "169/169 [==============================] - 1s 4ms/step - loss: 0.2197 - accuracy: 0.6095 - val_loss: 0.2207 - val_accuracy: 0.6273\n",
            "Epoch 6/30\n",
            "169/169 [==============================] - 1s 4ms/step - loss: 0.2108 - accuracy: 0.6391 - val_loss: 0.2082 - val_accuracy: 0.6597\n",
            "Epoch 7/30\n",
            "169/169 [==============================] - 1s 5ms/step - loss: 0.2021 - accuracy: 0.6450 - val_loss: 0.1990 - val_accuracy: 0.6597\n",
            "Epoch 8/30\n",
            "169/169 [==============================] - 1s 4ms/step - loss: 0.1907 - accuracy: 0.6746 - val_loss: 0.1872 - val_accuracy: 0.6481\n",
            "Epoch 9/30\n",
            "169/169 [==============================] - 1s 5ms/step - loss: 0.1768 - accuracy: 0.7041 - val_loss: 0.1769 - val_accuracy: 0.6620\n",
            "Epoch 10/30\n",
            "169/169 [==============================] - 1s 4ms/step - loss: 0.1631 - accuracy: 0.7337 - val_loss: 0.1658 - val_accuracy: 0.6713\n",
            "Epoch 11/30\n",
            "169/169 [==============================] - 1s 4ms/step - loss: 0.1539 - accuracy: 0.7692 - val_loss: 0.1552 - val_accuracy: 0.7523\n",
            "Epoch 12/30\n",
            "169/169 [==============================] - 1s 4ms/step - loss: 0.1431 - accuracy: 0.7929 - val_loss: 0.1552 - val_accuracy: 0.7593\n",
            "Epoch 13/30\n",
            "169/169 [==============================] - 1s 4ms/step - loss: 0.1367 - accuracy: 0.8343 - val_loss: 0.1439 - val_accuracy: 0.7847\n",
            "Epoch 14/30\n",
            "169/169 [==============================] - 1s 5ms/step - loss: 0.1286 - accuracy: 0.8284 - val_loss: 0.1380 - val_accuracy: 0.7986\n",
            "Epoch 15/30\n",
            "169/169 [==============================] - 1s 4ms/step - loss: 0.1210 - accuracy: 0.8462 - val_loss: 0.1422 - val_accuracy: 0.7940\n",
            "Epoch 16/30\n",
            "169/169 [==============================] - 1s 4ms/step - loss: 0.1131 - accuracy: 0.8462 - val_loss: 0.1221 - val_accuracy: 0.8356\n",
            "Epoch 17/30\n",
            "169/169 [==============================] - 1s 5ms/step - loss: 0.1056 - accuracy: 0.8698 - val_loss: 0.1174 - val_accuracy: 0.8449\n",
            "Epoch 18/30\n",
            "169/169 [==============================] - 1s 4ms/step - loss: 0.0973 - accuracy: 0.8817 - val_loss: 0.1089 - val_accuracy: 0.8681\n",
            "Epoch 19/30\n",
            "169/169 [==============================] - 1s 5ms/step - loss: 0.0897 - accuracy: 0.9053 - val_loss: 0.0979 - val_accuracy: 0.8866\n",
            "Epoch 20/30\n",
            "169/169 [==============================] - 1s 4ms/step - loss: 0.0784 - accuracy: 0.9172 - val_loss: 0.0865 - val_accuracy: 0.9005\n",
            "Epoch 21/30\n",
            "169/169 [==============================] - 1s 5ms/step - loss: 0.0695 - accuracy: 0.9408 - val_loss: 0.0720 - val_accuracy: 0.9398\n",
            "Epoch 22/30\n",
            "169/169 [==============================] - 1s 4ms/step - loss: 0.0604 - accuracy: 0.9586 - val_loss: 0.0661 - val_accuracy: 0.9306\n",
            "Epoch 23/30\n",
            "169/169 [==============================] - 1s 4ms/step - loss: 0.0480 - accuracy: 0.9704 - val_loss: 0.0470 - val_accuracy: 0.9884\n",
            "Epoch 24/30\n",
            "169/169 [==============================] - 1s 4ms/step - loss: 0.0359 - accuracy: 1.0000 - val_loss: 0.0337 - val_accuracy: 1.0000\n",
            "Epoch 25/30\n",
            "169/169 [==============================] - 1s 5ms/step - loss: 0.0276 - accuracy: 1.0000 - val_loss: 0.0282 - val_accuracy: 1.0000\n",
            "Epoch 26/30\n",
            "169/169 [==============================] - 1s 4ms/step - loss: 0.0219 - accuracy: 1.0000 - val_loss: 0.0222 - val_accuracy: 1.0000\n",
            "Epoch 27/30\n",
            "169/169 [==============================] - 1s 4ms/step - loss: 0.0175 - accuracy: 1.0000 - val_loss: 0.0195 - val_accuracy: 1.0000\n",
            "Epoch 28/30\n",
            "169/169 [==============================] - 1s 4ms/step - loss: 0.0148 - accuracy: 1.0000 - val_loss: 0.0149 - val_accuracy: 1.0000\n",
            "Epoch 29/30\n",
            "169/169 [==============================] - 1s 5ms/step - loss: 0.0123 - accuracy: 1.0000 - val_loss: 0.0129 - val_accuracy: 1.0000\n",
            "Epoch 30/30\n",
            "169/169 [==============================] - 1s 5ms/step - loss: 0.0106 - accuracy: 1.0000 - val_loss: 0.0111 - val_accuracy: 1.0000\n",
            "CPU times: user 24.4 s, sys: 1.57 s, total: 26 s\n",
            "Wall time: 24 s\n"
          ]
        },
        {
          "output_type": "execute_result",
          "data": {
            "text/plain": [
              "Ellipsis"
            ]
          },
          "metadata": {},
          "execution_count": 45
        }
      ],
      "source": [
        "%%time\n",
        "# fit the keras model on the dataset\n",
        "history2 = model_2.fit(X_2_tr, y_2_tr,validation_data=(X_test_2,y_test_2) , epochs=30, batch_size=1)\n",
        "..."
      ]
    },
    {
      "cell_type": "code",
      "execution_count": 47,
      "metadata": {
        "colab": {
          "base_uri": "https://localhost:8080/",
          "height": 331
        },
        "id": "nE4NVuX_dGpK",
        "outputId": "7ac3cc30-c794-4264-dd58-77a60bae9f99"
      },
      "outputs": [
        {
          "output_type": "stream",
          "name": "stdout",
          "text": [
            "Train MSE: 0.009357 Test MSE: 0.011100\n",
            "Train accuracy: 1.0000 Test accuracy: 1.0000\n"
          ]
        },
        {
          "output_type": "display_data",
          "data": {
            "text/plain": [
              "<Figure size 432x288 with 1 Axes>"
            ],
            "image/png": "[encoded data removed]"
          },
          "metadata": {
            "needs_background": "light"
          }
        }
      ],
      "source": [
        "#Evaluate model\n",
        "from matplotlib import pyplot\n",
        "train_mse, train_accuracy = model_2.evaluate(X_2_tr, y_2_tr, verbose=0)\n",
        "test_mse, test_accuracy = model_2.evaluate(X_test_2,y_test_2,verbose=0)\n",
        "print('Train MSE: %.6f Test MSE: %.6f'%(train_mse,test_mse))\n",
        "print('Train accuracy: %.4f Test accuracy: %.4f'%(train_accuracy,test_accuracy))\n",
        "pyplot.title('MONK 2')\n",
        "pyplot.plot(history2.history['loss'], label='train')\n",
        "pyplot.plot(history2.history['val_loss'], label='test',linestyle=\"dashed\" )\n",
        "pyplot.xlabel('epoch')\n",
        "pyplot.ylabel('MSE')\n",
        "pyplot.legend()\n",
        "pyplot.show()"
      ]
    },
    {
      "cell_type": "markdown",
      "metadata": {
        "id": "IoIHfhy1gEVb"
      },
      "source": [
        "# **MONK 3**"
      ]
    },
    {
      "cell_type": "code",
      "execution_count": 53,
      "metadata": {
        "colab": {
          "base_uri": "https://localhost:8080/"
        },
        "id": "cgoejW98xCX8",
        "outputId": "f401d18f-9dd7-4c8d-deb8-56f1443ee804"
      },
      "outputs": [
        {
          "output_type": "execute_result",
          "data": {
            "text/plain": [
              "Ellipsis"
            ]
          },
          "metadata": {},
          "execution_count": 53
        }
      ],
      "source": [
        "...\n",
        "# define the keras model for monk 3\n",
        "model_3 = Sequential()\n",
        "model_3.add(Dense(5, input_shape=(X_test_3.shape[1],), activation='relu'))\n",
        "model_3.add(Dense(1, activation='sigmoid'))\n",
        "..."
      ]
    },
    {
      "cell_type": "code",
      "execution_count": 54,
      "metadata": {
        "colab": {
          "base_uri": "https://localhost:8080/"
        },
        "id": "8i-EX6EoxCX-",
        "outputId": "c2d05bfc-e877-40bc-898e-bcb640d754b9"
      },
      "outputs": [
        {
          "output_type": "stream",
          "name": "stdout",
          "text": [
            "Model: \"sequential_9\"\n",
            "_________________________________________________________________\n",
            " Layer (type)                Output Shape              Param #   \n",
            "=================================================================\n",
            " dense_18 (Dense)            (None, 5)                 90        \n",
            "                                                                 \n",
            " dense_19 (Dense)            (None, 1)                 6         \n",
            "                                                                 \n",
            "=================================================================\n",
            "Total params: 96\n",
            "Trainable params: 96\n",
            "Non-trainable params: 0\n",
            "_________________________________________________________________\n"
          ]
        },
        {
          "output_type": "execute_result",
          "data": {
            "text/plain": [
              "Ellipsis"
            ]
          },
          "metadata": {},
          "execution_count": 54
        }
      ],
      "source": [
        "...\n",
        "# compile the keras model\n",
        "model_3.summary()\n",
        "opt = tf.keras.optimizers.SGD(learning_rate = 0.01, momentum=0.5)\n",
        "model_3.compile(loss='mean_squared_error', optimizer = opt, metrics=['accuracy'])\n",
        "..."
      ]
    },
    {
      "cell_type": "code",
      "execution_count": 55,
      "metadata": {
        "colab": {
          "base_uri": "https://localhost:8080/"
        },
        "id": "LZKEDwIXxCX_",
        "outputId": "d8828965-b102-407d-acc6-234feb10f5a8"
      },
      "outputs": [
        {
          "output_type": "stream",
          "name": "stdout",
          "text": [
            "Epoch 1/80\n",
            "122/122 [==============================] - 1s 6ms/step - loss: 0.2984 - accuracy: 0.5656 - val_loss: 0.2658 - val_accuracy: 0.5648\n",
            "Epoch 2/80\n",
            "122/122 [==============================] - 1s 7ms/step - loss: 0.2652 - accuracy: 0.5492 - val_loss: 0.2452 - val_accuracy: 0.5903\n",
            "Epoch 3/80\n",
            "122/122 [==============================] - 1s 5ms/step - loss: 0.2456 - accuracy: 0.5738 - val_loss: 0.2330 - val_accuracy: 0.6296\n",
            "Epoch 4/80\n",
            "122/122 [==============================] - 1s 7ms/step - loss: 0.2329 - accuracy: 0.6066 - val_loss: 0.2226 - val_accuracy: 0.6620\n",
            "Epoch 5/80\n",
            "122/122 [==============================] - 1s 5ms/step - loss: 0.2213 - accuracy: 0.6230 - val_loss: 0.2127 - val_accuracy: 0.6898\n",
            "Epoch 6/80\n",
            "122/122 [==============================] - 1s 7ms/step - loss: 0.2096 - accuracy: 0.7131 - val_loss: 0.2004 - val_accuracy: 0.7269\n",
            "Epoch 7/80\n",
            "122/122 [==============================] - 1s 5ms/step - loss: 0.1968 - accuracy: 0.7049 - val_loss: 0.1875 - val_accuracy: 0.7431\n",
            "Epoch 8/80\n",
            "122/122 [==============================] - 1s 5ms/step - loss: 0.1820 - accuracy: 0.7459 - val_loss: 0.1720 - val_accuracy: 0.7755\n",
            "Epoch 9/80\n",
            "122/122 [==============================] - 1s 5ms/step - loss: 0.1660 - accuracy: 0.7787 - val_loss: 0.1552 - val_accuracy: 0.8171\n",
            "Epoch 10/80\n",
            "122/122 [==============================] - 1s 7ms/step - loss: 0.1481 - accuracy: 0.8443 - val_loss: 0.1364 - val_accuracy: 0.8565\n",
            "Epoch 11/80\n",
            "122/122 [==============================] - 1s 7ms/step - loss: 0.1304 - accuracy: 0.8361 - val_loss: 0.1196 - val_accuracy: 0.8912\n",
            "Epoch 12/80\n",
            "122/122 [==============================] - 1s 7ms/step - loss: 0.1148 - accuracy: 0.8934 - val_loss: 0.1028 - val_accuracy: 0.9352\n",
            "Epoch 13/80\n",
            "122/122 [==============================] - 1s 7ms/step - loss: 0.1020 - accuracy: 0.9180 - val_loss: 0.0909 - val_accuracy: 0.9468\n",
            "Epoch 14/80\n",
            "122/122 [==============================] - 1s 5ms/step - loss: 0.0920 - accuracy: 0.9180 - val_loss: 0.0805 - val_accuracy: 0.9676\n",
            "Epoch 15/80\n",
            "122/122 [==============================] - 1s 7ms/step - loss: 0.0830 - accuracy: 0.9344 - val_loss: 0.0693 - val_accuracy: 0.9699\n",
            "Epoch 16/80\n",
            "122/122 [==============================] - 1s 5ms/step - loss: 0.0780 - accuracy: 0.9344 - val_loss: 0.0644 - val_accuracy: 0.9699\n",
            "Epoch 17/80\n",
            "122/122 [==============================] - 1s 5ms/step - loss: 0.0728 - accuracy: 0.9344 - val_loss: 0.0618 - val_accuracy: 0.9699\n",
            "Epoch 18/80\n",
            "122/122 [==============================] - 1s 7ms/step - loss: 0.0692 - accuracy: 0.9344 - val_loss: 0.0559 - val_accuracy: 0.9699\n",
            "Epoch 19/80\n",
            "122/122 [==============================] - 1s 5ms/step - loss: 0.0663 - accuracy: 0.9344 - val_loss: 0.0554 - val_accuracy: 0.9699\n",
            "Epoch 20/80\n",
            "122/122 [==============================] - 1s 7ms/step - loss: 0.0640 - accuracy: 0.9344 - val_loss: 0.0527 - val_accuracy: 0.9699\n",
            "Epoch 21/80\n",
            "122/122 [==============================] - 1s 7ms/step - loss: 0.0624 - accuracy: 0.9344 - val_loss: 0.0494 - val_accuracy: 0.9699\n",
            "Epoch 22/80\n",
            "122/122 [==============================] - 1s 5ms/step - loss: 0.0608 - accuracy: 0.9344 - val_loss: 0.0485 - val_accuracy: 0.9699\n",
            "Epoch 23/80\n",
            "122/122 [==============================] - 1s 5ms/step - loss: 0.0594 - accuracy: 0.9344 - val_loss: 0.0463 - val_accuracy: 0.9722\n",
            "Epoch 24/80\n",
            "122/122 [==============================] - 1s 5ms/step - loss: 0.0581 - accuracy: 0.9344 - val_loss: 0.0446 - val_accuracy: 0.9722\n",
            "Epoch 25/80\n",
            "122/122 [==============================] - 1s 7ms/step - loss: 0.0576 - accuracy: 0.9344 - val_loss: 0.0438 - val_accuracy: 0.9722\n",
            "Epoch 26/80\n",
            "122/122 [==============================] - 1s 5ms/step - loss: 0.0569 - accuracy: 0.9344 - val_loss: 0.0458 - val_accuracy: 0.9699\n",
            "Epoch 27/80\n",
            "122/122 [==============================] - 1s 7ms/step - loss: 0.0560 - accuracy: 0.9344 - val_loss: 0.0467 - val_accuracy: 0.9676\n",
            "Epoch 28/80\n",
            "122/122 [==============================] - 1s 7ms/step - loss: 0.0555 - accuracy: 0.9344 - val_loss: 0.0459 - val_accuracy: 0.9676\n",
            "Epoch 29/80\n",
            "122/122 [==============================] - 1s 7ms/step - loss: 0.0549 - accuracy: 0.9426 - val_loss: 0.0440 - val_accuracy: 0.9676\n",
            "Epoch 30/80\n",
            "122/122 [==============================] - 1s 5ms/step - loss: 0.0544 - accuracy: 0.9344 - val_loss: 0.0431 - val_accuracy: 0.9676\n",
            "Epoch 31/80\n",
            "122/122 [==============================] - 1s 5ms/step - loss: 0.0540 - accuracy: 0.9344 - val_loss: 0.0433 - val_accuracy: 0.9676\n",
            "Epoch 32/80\n",
            "122/122 [==============================] - 1s 7ms/step - loss: 0.0532 - accuracy: 0.9344 - val_loss: 0.0461 - val_accuracy: 0.9630\n",
            "Epoch 33/80\n",
            "122/122 [==============================] - 1s 7ms/step - loss: 0.0531 - accuracy: 0.9426 - val_loss: 0.0421 - val_accuracy: 0.9653\n",
            "Epoch 34/80\n",
            "122/122 [==============================] - 1s 7ms/step - loss: 0.0527 - accuracy: 0.9344 - val_loss: 0.0429 - val_accuracy: 0.9653\n",
            "Epoch 35/80\n",
            "122/122 [==============================] - 1s 7ms/step - loss: 0.0525 - accuracy: 0.9426 - val_loss: 0.0421 - val_accuracy: 0.9653\n",
            "Epoch 36/80\n",
            "122/122 [==============================] - 1s 5ms/step - loss: 0.0518 - accuracy: 0.9426 - val_loss: 0.0402 - val_accuracy: 0.9653\n",
            "Epoch 37/80\n",
            "122/122 [==============================] - 1s 7ms/step - loss: 0.0512 - accuracy: 0.9344 - val_loss: 0.0443 - val_accuracy: 0.9630\n",
            "Epoch 38/80\n",
            "122/122 [==============================] - 1s 7ms/step - loss: 0.0517 - accuracy: 0.9426 - val_loss: 0.0437 - val_accuracy: 0.9630\n",
            "Epoch 39/80\n",
            "122/122 [==============================] - 1s 7ms/step - loss: 0.0513 - accuracy: 0.9426 - val_loss: 0.0426 - val_accuracy: 0.9630\n",
            "Epoch 40/80\n",
            "122/122 [==============================] - 1s 5ms/step - loss: 0.0508 - accuracy: 0.9426 - val_loss: 0.0431 - val_accuracy: 0.9630\n",
            "Epoch 41/80\n",
            "122/122 [==============================] - 1s 7ms/step - loss: 0.0503 - accuracy: 0.9344 - val_loss: 0.0476 - val_accuracy: 0.9583\n",
            "Epoch 42/80\n",
            "122/122 [==============================] - 1s 5ms/step - loss: 0.0505 - accuracy: 0.9426 - val_loss: 0.0422 - val_accuracy: 0.9630\n",
            "Epoch 43/80\n",
            "122/122 [==============================] - 1s 5ms/step - loss: 0.0499 - accuracy: 0.9426 - val_loss: 0.0424 - val_accuracy: 0.9630\n",
            "Epoch 44/80\n",
            "122/122 [==============================] - 1s 7ms/step - loss: 0.0497 - accuracy: 0.9426 - val_loss: 0.0450 - val_accuracy: 0.9606\n",
            "Epoch 45/80\n",
            "122/122 [==============================] - 1s 7ms/step - loss: 0.0495 - accuracy: 0.9426 - val_loss: 0.0460 - val_accuracy: 0.9583\n",
            "Epoch 46/80\n",
            "122/122 [==============================] - 1s 7ms/step - loss: 0.0494 - accuracy: 0.9426 - val_loss: 0.0416 - val_accuracy: 0.9630\n",
            "Epoch 47/80\n",
            "122/122 [==============================] - 1s 7ms/step - loss: 0.0488 - accuracy: 0.9426 - val_loss: 0.0480 - val_accuracy: 0.9537\n",
            "Epoch 48/80\n",
            "122/122 [==============================] - 1s 7ms/step - loss: 0.0493 - accuracy: 0.9426 - val_loss: 0.0458 - val_accuracy: 0.9560\n",
            "Epoch 49/80\n",
            "122/122 [==============================] - 1s 5ms/step - loss: 0.0485 - accuracy: 0.9508 - val_loss: 0.0479 - val_accuracy: 0.9537\n",
            "Epoch 50/80\n",
            "122/122 [==============================] - 1s 7ms/step - loss: 0.0485 - accuracy: 0.9508 - val_loss: 0.0453 - val_accuracy: 0.9560\n",
            "Epoch 51/80\n",
            "122/122 [==============================] - 1s 5ms/step - loss: 0.0484 - accuracy: 0.9508 - val_loss: 0.0438 - val_accuracy: 0.9560\n",
            "Epoch 52/80\n",
            "122/122 [==============================] - 1s 7ms/step - loss: 0.0482 - accuracy: 0.9426 - val_loss: 0.0441 - val_accuracy: 0.9560\n",
            "Epoch 53/80\n",
            "122/122 [==============================] - 1s 7ms/step - loss: 0.0481 - accuracy: 0.9426 - val_loss: 0.0444 - val_accuracy: 0.9583\n",
            "Epoch 54/80\n",
            "122/122 [==============================] - 1s 7ms/step - loss: 0.0476 - accuracy: 0.9508 - val_loss: 0.0451 - val_accuracy: 0.9560\n",
            "Epoch 55/80\n",
            "122/122 [==============================] - 1s 7ms/step - loss: 0.0478 - accuracy: 0.9508 - val_loss: 0.0444 - val_accuracy: 0.9560\n",
            "Epoch 56/80\n",
            "122/122 [==============================] - 1s 5ms/step - loss: 0.0474 - accuracy: 0.9508 - val_loss: 0.0434 - val_accuracy: 0.9583\n",
            "Epoch 57/80\n",
            "122/122 [==============================] - 1s 7ms/step - loss: 0.0471 - accuracy: 0.9426 - val_loss: 0.0449 - val_accuracy: 0.9560\n",
            "Epoch 58/80\n",
            "122/122 [==============================] - 1s 5ms/step - loss: 0.0463 - accuracy: 0.9426 - val_loss: 0.0496 - val_accuracy: 0.9491\n",
            "Epoch 59/80\n",
            "122/122 [==============================] - 1s 5ms/step - loss: 0.0472 - accuracy: 0.9590 - val_loss: 0.0424 - val_accuracy: 0.9583\n",
            "Epoch 60/80\n",
            "122/122 [==============================] - 1s 5ms/step - loss: 0.0466 - accuracy: 0.9426 - val_loss: 0.0406 - val_accuracy: 0.9630\n",
            "Epoch 61/80\n",
            "122/122 [==============================] - 1s 7ms/step - loss: 0.0459 - accuracy: 0.9426 - val_loss: 0.0453 - val_accuracy: 0.9537\n",
            "Epoch 62/80\n",
            "122/122 [==============================] - 1s 5ms/step - loss: 0.0468 - accuracy: 0.9590 - val_loss: 0.0438 - val_accuracy: 0.9560\n",
            "Epoch 63/80\n",
            "122/122 [==============================] - 1s 7ms/step - loss: 0.0461 - accuracy: 0.9590 - val_loss: 0.0406 - val_accuracy: 0.9606\n",
            "Epoch 64/80\n",
            "122/122 [==============================] - 1s 7ms/step - loss: 0.0462 - accuracy: 0.9508 - val_loss: 0.0397 - val_accuracy: 0.9630\n",
            "Epoch 65/80\n",
            "122/122 [==============================] - 1s 6ms/step - loss: 0.0457 - accuracy: 0.9508 - val_loss: 0.0402 - val_accuracy: 0.9630\n",
            "Epoch 66/80\n",
            "122/122 [==============================] - 1s 7ms/step - loss: 0.0462 - accuracy: 0.9426 - val_loss: 0.0426 - val_accuracy: 0.9583\n",
            "Epoch 67/80\n",
            "122/122 [==============================] - 1s 7ms/step - loss: 0.0449 - accuracy: 0.9426 - val_loss: 0.0470 - val_accuracy: 0.9491\n",
            "Epoch 68/80\n",
            "122/122 [==============================] - 1s 7ms/step - loss: 0.0459 - accuracy: 0.9590 - val_loss: 0.0419 - val_accuracy: 0.9583\n",
            "Epoch 69/80\n",
            "122/122 [==============================] - 1s 7ms/step - loss: 0.0456 - accuracy: 0.9508 - val_loss: 0.0434 - val_accuracy: 0.9560\n",
            "Epoch 70/80\n",
            "122/122 [==============================] - 1s 7ms/step - loss: 0.0453 - accuracy: 0.9508 - val_loss: 0.0417 - val_accuracy: 0.9583\n",
            "Epoch 71/80\n",
            "122/122 [==============================] - 1s 5ms/step - loss: 0.0448 - accuracy: 0.9508 - val_loss: 0.0436 - val_accuracy: 0.9514\n",
            "Epoch 72/80\n",
            "122/122 [==============================] - 1s 7ms/step - loss: 0.0443 - accuracy: 0.9508 - val_loss: 0.0498 - val_accuracy: 0.9444\n",
            "Epoch 73/80\n",
            "122/122 [==============================] - 1s 5ms/step - loss: 0.0452 - accuracy: 0.9590 - val_loss: 0.0447 - val_accuracy: 0.9514\n",
            "Epoch 74/80\n",
            "122/122 [==============================] - 1s 7ms/step - loss: 0.0448 - accuracy: 0.9508 - val_loss: 0.0462 - val_accuracy: 0.9514\n",
            "Epoch 75/80\n",
            "122/122 [==============================] - 1s 7ms/step - loss: 0.0446 - accuracy: 0.9508 - val_loss: 0.0444 - val_accuracy: 0.9514\n",
            "Epoch 76/80\n",
            "122/122 [==============================] - 1s 5ms/step - loss: 0.0441 - accuracy: 0.9508 - val_loss: 0.0458 - val_accuracy: 0.9514\n",
            "Epoch 77/80\n",
            "122/122 [==============================] - 1s 5ms/step - loss: 0.0441 - accuracy: 0.9508 - val_loss: 0.0480 - val_accuracy: 0.9468\n",
            "Epoch 78/80\n",
            "122/122 [==============================] - 1s 5ms/step - loss: 0.0447 - accuracy: 0.9590 - val_loss: 0.0456 - val_accuracy: 0.9514\n",
            "Epoch 79/80\n",
            "122/122 [==============================] - 1s 5ms/step - loss: 0.0441 - accuracy: 0.9590 - val_loss: 0.0425 - val_accuracy: 0.9560\n",
            "Epoch 80/80\n",
            "122/122 [==============================] - 1s 7ms/step - loss: 0.0440 - accuracy: 0.9590 - val_loss: 0.0425 - val_accuracy: 0.9560\n",
            "CPU times: user 58.4 s, sys: 3.8 s, total: 1min 2s\n",
            "Wall time: 1min\n"
          ]
        },
        {
          "output_type": "execute_result",
          "data": {
            "text/plain": [
              "Ellipsis"
            ]
          },
          "metadata": {},
          "execution_count": 55
        }
      ],
      "source": [
        "%%time\n",
        "# fit the keras model on the dataset\n",
        "history3 = model_3.fit(X_3_tr, y_3_tr,validation_data=(X_test_3,y_test_3) ,epochs=80, batch_size=1)\n",
        "..."
      ]
    },
    {
      "cell_type": "code",
      "execution_count": 59,
      "metadata": {
        "colab": {
          "base_uri": "https://localhost:8080/",
          "height": 331
        },
        "id": "R__ZdTvFezzt",
        "outputId": "90fc552e-4375-4dd0-b886-f4bd042204b8"
      },
      "outputs": [
        {
          "output_type": "stream",
          "name": "stdout",
          "text": [
            "Train MSE: 0.0419 Test MSE: 0.0425\n",
            "Train accuracy: 0.9590 Test accuracy: 0.9560\n"
          ]
        },
        {
          "output_type": "display_data",
          "data": {
            "text/plain": [
              "<Figure size 432x288 with 1 Axes>"
            ],
            "image/png": "[encoded data removed]"
          },
          "metadata": {
            "needs_background": "light"
          }
        }
      ],
      "source": [
        "#Evaluate model\n",
        "from matplotlib import pyplot\n",
        "train_mse, train_accuracy = model_3.evaluate(X_3_tr, y_3_tr, verbose=0)\n",
        "test_mse, test_accuracy = model_3.evaluate(X_test_3,y_test_3,verbose=0)\n",
        "print('Train MSE: %.4f Test MSE: %.4f'%(train_mse,test_mse))\n",
        "print('Train accuracy: %.4f Test accuracy: %.4f'%(train_accuracy,test_accuracy))\n",
        "pyplot.title('MONK 3')\n",
        "pyplot.plot(history3.history['loss'], label='train')\n",
        "pyplot.plot(history3.history['val_loss'], label='test', linestyle=\"dashed\")\n",
        "pyplot.xlabel('epoch')\n",
        "pyplot.ylabel('MSE')\n",
        "pyplot.legend()\n",
        "pyplot.show()"
      ]
    },
    {
      "cell_type": "markdown",
      "metadata": {
        "id": "2_Flo6nFkqSY"
      },
      "source": [
        "# **MONK 3 regolarizzato**"
      ]
    },
    {
      "cell_type": "code",
      "execution_count": 72,
      "metadata": {
        "colab": {
          "base_uri": "https://localhost:8080/"
        },
        "outputId": "ba3f3fda-72d0-424a-e6c8-ac50ceaa8973",
        "id": "vrwZ2jWekqSY"
      },
      "outputs": [
        {
          "output_type": "execute_result",
          "data": {
            "text/plain": [
              "Ellipsis"
            ]
          },
          "metadata": {},
          "execution_count": 72
        }
      ],
      "source": [
        "...\n",
        "# define the keras model for monk 3\n",
        "model_3 = Sequential()\n",
        "model_3.add(Dense(5, input_shape=(X_test_3.shape[1],), activation='relu'))\n",
        "model_3.add(Dense(1, activation='sigmoid'))\n",
        "..."
      ]
    },
    {
      "cell_type": "code",
      "execution_count": 73,
      "metadata": {
        "colab": {
          "base_uri": "https://localhost:8080/"
        },
        "outputId": "48ea7b20-3f13-4be1-e3de-74b28126fdb7",
        "id": "mVDFLADrkqSY"
      },
      "outputs": [
        {
          "output_type": "stream",
          "name": "stdout",
          "text": [
            "Model: \"sequential_12\"\n",
            "_________________________________________________________________\n",
            " Layer (type)                Output Shape              Param #   \n",
            "=================================================================\n",
            " dense_24 (Dense)            (None, 5)                 90        \n",
            "                                                                 \n",
            " dense_25 (Dense)            (None, 1)                 6         \n",
            "                                                                 \n",
            "=================================================================\n",
            "Total params: 96\n",
            "Trainable params: 96\n",
            "Non-trainable params: 0\n",
            "_________________________________________________________________\n"
          ]
        },
        {
          "output_type": "execute_result",
          "data": {
            "text/plain": [
              "Ellipsis"
            ]
          },
          "metadata": {},
          "execution_count": 73
        }
      ],
      "source": [
        "...\n",
        "# compile the keras model\n",
        "model_3.summary()\n",
        "opt = tf.keras.optimizers.SGD(learning_rate = 0.01, momentum=0.5, decay=1e-3)\n",
        "model_3.compile(loss='mean_squared_error', optimizer = opt, metrics=['accuracy'])\n",
        "..."
      ]
    },
    {
      "cell_type": "code",
      "execution_count": 74,
      "metadata": {
        "colab": {
          "base_uri": "https://localhost:8080/"
        },
        "outputId": "3c1f91e9-20d9-44e2-95f9-cd34db0cca40",
        "id": "JNkJwIghkqSY"
      },
      "outputs": [
        {
          "output_type": "stream",
          "name": "stdout",
          "text": [
            "Epoch 1/100\n",
            "122/122 [==============================] - 1s 6ms/step - loss: 0.3168 - accuracy: 0.4836 - val_loss: 0.3003 - val_accuracy: 0.4421\n",
            "Epoch 2/100\n",
            "122/122 [==============================] - 1s 5ms/step - loss: 0.2744 - accuracy: 0.5164 - val_loss: 0.2699 - val_accuracy: 0.4884\n",
            "Epoch 3/100\n",
            "122/122 [==============================] - 1s 7ms/step - loss: 0.2488 - accuracy: 0.5820 - val_loss: 0.2521 - val_accuracy: 0.5394\n",
            "Epoch 4/100\n",
            "122/122 [==============================] - 1s 7ms/step - loss: 0.2325 - accuracy: 0.6557 - val_loss: 0.2381 - val_accuracy: 0.5787\n",
            "Epoch 5/100\n",
            "122/122 [==============================] - 1s 7ms/step - loss: 0.2186 - accuracy: 0.6721 - val_loss: 0.2265 - val_accuracy: 0.6250\n",
            "Epoch 6/100\n",
            "122/122 [==============================] - 1s 7ms/step - loss: 0.2063 - accuracy: 0.7213 - val_loss: 0.2149 - val_accuracy: 0.6528\n",
            "Epoch 7/100\n",
            "122/122 [==============================] - 1s 7ms/step - loss: 0.1957 - accuracy: 0.7459 - val_loss: 0.2044 - val_accuracy: 0.6898\n",
            "Epoch 8/100\n",
            "122/122 [==============================] - 1s 7ms/step - loss: 0.1849 - accuracy: 0.7541 - val_loss: 0.1942 - val_accuracy: 0.7153\n",
            "Epoch 9/100\n",
            "122/122 [==============================] - 1s 7ms/step - loss: 0.1751 - accuracy: 0.8033 - val_loss: 0.1843 - val_accuracy: 0.7361\n",
            "Epoch 10/100\n",
            "122/122 [==============================] - 1s 5ms/step - loss: 0.1662 - accuracy: 0.7869 - val_loss: 0.1755 - val_accuracy: 0.7616\n",
            "Epoch 11/100\n",
            "122/122 [==============================] - 1s 7ms/step - loss: 0.1579 - accuracy: 0.8197 - val_loss: 0.1668 - val_accuracy: 0.7847\n",
            "Epoch 12/100\n",
            "122/122 [==============================] - 1s 5ms/step - loss: 0.1505 - accuracy: 0.8279 - val_loss: 0.1588 - val_accuracy: 0.7917\n",
            "Epoch 13/100\n",
            "122/122 [==============================] - 1s 7ms/step - loss: 0.1438 - accuracy: 0.8279 - val_loss: 0.1518 - val_accuracy: 0.8171\n",
            "Epoch 14/100\n",
            "122/122 [==============================] - 1s 7ms/step - loss: 0.1378 - accuracy: 0.8443 - val_loss: 0.1450 - val_accuracy: 0.8287\n",
            "Epoch 15/100\n",
            "122/122 [==============================] - 1s 7ms/step - loss: 0.1322 - accuracy: 0.8525 - val_loss: 0.1385 - val_accuracy: 0.8403\n",
            "Epoch 16/100\n",
            "122/122 [==============================] - 1s 7ms/step - loss: 0.1270 - accuracy: 0.8443 - val_loss: 0.1325 - val_accuracy: 0.8588\n",
            "Epoch 17/100\n",
            "122/122 [==============================] - 1s 5ms/step - loss: 0.1224 - accuracy: 0.8689 - val_loss: 0.1268 - val_accuracy: 0.8681\n",
            "Epoch 18/100\n",
            "122/122 [==============================] - 1s 7ms/step - loss: 0.1183 - accuracy: 0.8689 - val_loss: 0.1218 - val_accuracy: 0.8773\n",
            "Epoch 19/100\n",
            "122/122 [==============================] - 1s 7ms/step - loss: 0.1146 - accuracy: 0.8852 - val_loss: 0.1174 - val_accuracy: 0.8866\n",
            "Epoch 20/100\n",
            "122/122 [==============================] - 1s 7ms/step - loss: 0.1109 - accuracy: 0.8934 - val_loss: 0.1142 - val_accuracy: 0.8958\n",
            "Epoch 21/100\n",
            "122/122 [==============================] - 1s 7ms/step - loss: 0.1081 - accuracy: 0.8934 - val_loss: 0.1102 - val_accuracy: 0.9097\n",
            "Epoch 22/100\n",
            "122/122 [==============================] - 1s 5ms/step - loss: 0.1052 - accuracy: 0.9098 - val_loss: 0.1065 - val_accuracy: 0.9190\n",
            "Epoch 23/100\n",
            "122/122 [==============================] - 1s 5ms/step - loss: 0.1026 - accuracy: 0.9098 - val_loss: 0.1027 - val_accuracy: 0.9259\n",
            "Epoch 24/100\n",
            "122/122 [==============================] - 1s 7ms/step - loss: 0.1002 - accuracy: 0.9098 - val_loss: 0.0997 - val_accuracy: 0.9282\n",
            "Epoch 25/100\n",
            "122/122 [==============================] - 1s 5ms/step - loss: 0.0980 - accuracy: 0.9098 - val_loss: 0.0964 - val_accuracy: 0.9398\n",
            "Epoch 26/100\n",
            "122/122 [==============================] - 1s 5ms/step - loss: 0.0959 - accuracy: 0.9098 - val_loss: 0.0939 - val_accuracy: 0.9444\n",
            "Epoch 27/100\n",
            "122/122 [==============================] - 1s 5ms/step - loss: 0.0940 - accuracy: 0.9180 - val_loss: 0.0914 - val_accuracy: 0.9468\n",
            "Epoch 28/100\n",
            "122/122 [==============================] - 1s 5ms/step - loss: 0.0923 - accuracy: 0.9180 - val_loss: 0.0892 - val_accuracy: 0.9491\n",
            "Epoch 29/100\n",
            "122/122 [==============================] - 1s 7ms/step - loss: 0.0907 - accuracy: 0.9180 - val_loss: 0.0871 - val_accuracy: 0.9491\n",
            "Epoch 30/100\n",
            "122/122 [==============================] - 1s 5ms/step - loss: 0.0893 - accuracy: 0.9180 - val_loss: 0.0850 - val_accuracy: 0.9514\n",
            "Epoch 31/100\n",
            "122/122 [==============================] - 1s 5ms/step - loss: 0.0878 - accuracy: 0.9262 - val_loss: 0.0832 - val_accuracy: 0.9537\n",
            "Epoch 32/100\n",
            "122/122 [==============================] - 1s 7ms/step - loss: 0.0865 - accuracy: 0.9262 - val_loss: 0.0815 - val_accuracy: 0.9537\n",
            "Epoch 33/100\n",
            "122/122 [==============================] - 1s 5ms/step - loss: 0.0853 - accuracy: 0.9180 - val_loss: 0.0801 - val_accuracy: 0.9560\n",
            "Epoch 34/100\n",
            "122/122 [==============================] - 1s 7ms/step - loss: 0.0842 - accuracy: 0.9262 - val_loss: 0.0786 - val_accuracy: 0.9583\n",
            "Epoch 35/100\n",
            "122/122 [==============================] - 1s 7ms/step - loss: 0.0830 - accuracy: 0.9262 - val_loss: 0.0772 - val_accuracy: 0.9583\n",
            "Epoch 36/100\n",
            "122/122 [==============================] - 1s 7ms/step - loss: 0.0821 - accuracy: 0.9262 - val_loss: 0.0756 - val_accuracy: 0.9606\n",
            "Epoch 37/100\n",
            "122/122 [==============================] - 1s 7ms/step - loss: 0.0811 - accuracy: 0.9262 - val_loss: 0.0746 - val_accuracy: 0.9606\n",
            "Epoch 38/100\n",
            "122/122 [==============================] - 1s 7ms/step - loss: 0.0803 - accuracy: 0.9262 - val_loss: 0.0735 - val_accuracy: 0.9606\n",
            "Epoch 39/100\n",
            "122/122 [==============================] - 1s 7ms/step - loss: 0.0795 - accuracy: 0.9262 - val_loss: 0.0724 - val_accuracy: 0.9630\n",
            "Epoch 40/100\n",
            "122/122 [==============================] - 1s 5ms/step - loss: 0.0787 - accuracy: 0.9262 - val_loss: 0.0713 - val_accuracy: 0.9676\n",
            "Epoch 41/100\n",
            "122/122 [==============================] - 1s 7ms/step - loss: 0.0779 - accuracy: 0.9344 - val_loss: 0.0705 - val_accuracy: 0.9699\n",
            "Epoch 42/100\n",
            "122/122 [==============================] - 1s 7ms/step - loss: 0.0772 - accuracy: 0.9344 - val_loss: 0.0695 - val_accuracy: 0.9699\n",
            "Epoch 43/100\n",
            "122/122 [==============================] - 1s 5ms/step - loss: 0.0765 - accuracy: 0.9344 - val_loss: 0.0687 - val_accuracy: 0.9722\n",
            "Epoch 44/100\n",
            "122/122 [==============================] - 1s 5ms/step - loss: 0.0758 - accuracy: 0.9344 - val_loss: 0.0677 - val_accuracy: 0.9722\n",
            "Epoch 45/100\n",
            "122/122 [==============================] - 1s 5ms/step - loss: 0.0751 - accuracy: 0.9344 - val_loss: 0.0669 - val_accuracy: 0.9722\n",
            "Epoch 46/100\n",
            "122/122 [==============================] - 1s 7ms/step - loss: 0.0744 - accuracy: 0.9344 - val_loss: 0.0660 - val_accuracy: 0.9722\n",
            "Epoch 47/100\n",
            "122/122 [==============================] - 1s 7ms/step - loss: 0.0739 - accuracy: 0.9344 - val_loss: 0.0655 - val_accuracy: 0.9722\n",
            "Epoch 48/100\n",
            "122/122 [==============================] - 1s 7ms/step - loss: 0.0733 - accuracy: 0.9344 - val_loss: 0.0649 - val_accuracy: 0.9722\n",
            "Epoch 49/100\n",
            "122/122 [==============================] - 1s 7ms/step - loss: 0.0728 - accuracy: 0.9344 - val_loss: 0.0641 - val_accuracy: 0.9722\n",
            "Epoch 50/100\n",
            "122/122 [==============================] - 1s 5ms/step - loss: 0.0723 - accuracy: 0.9344 - val_loss: 0.0636 - val_accuracy: 0.9722\n",
            "Epoch 51/100\n",
            "122/122 [==============================] - 1s 5ms/step - loss: 0.0718 - accuracy: 0.9344 - val_loss: 0.0631 - val_accuracy: 0.9722\n",
            "Epoch 52/100\n",
            "122/122 [==============================] - 1s 7ms/step - loss: 0.0713 - accuracy: 0.9344 - val_loss: 0.0624 - val_accuracy: 0.9722\n",
            "Epoch 53/100\n",
            "122/122 [==============================] - 1s 5ms/step - loss: 0.0709 - accuracy: 0.9344 - val_loss: 0.0618 - val_accuracy: 0.9722\n",
            "Epoch 54/100\n",
            "122/122 [==============================] - 1s 7ms/step - loss: 0.0704 - accuracy: 0.9344 - val_loss: 0.0613 - val_accuracy: 0.9722\n",
            "Epoch 55/100\n",
            "122/122 [==============================] - 1s 7ms/step - loss: 0.0700 - accuracy: 0.9344 - val_loss: 0.0609 - val_accuracy: 0.9722\n",
            "Epoch 56/100\n",
            "122/122 [==============================] - 1s 7ms/step - loss: 0.0696 - accuracy: 0.9344 - val_loss: 0.0604 - val_accuracy: 0.9722\n",
            "Epoch 57/100\n",
            "122/122 [==============================] - 1s 7ms/step - loss: 0.0692 - accuracy: 0.9344 - val_loss: 0.0600 - val_accuracy: 0.9722\n",
            "Epoch 58/100\n",
            "122/122 [==============================] - 1s 5ms/step - loss: 0.0688 - accuracy: 0.9344 - val_loss: 0.0596 - val_accuracy: 0.9722\n",
            "Epoch 59/100\n",
            "122/122 [==============================] - 1s 5ms/step - loss: 0.0685 - accuracy: 0.9344 - val_loss: 0.0591 - val_accuracy: 0.9722\n",
            "Epoch 60/100\n",
            "122/122 [==============================] - 1s 7ms/step - loss: 0.0681 - accuracy: 0.9344 - val_loss: 0.0587 - val_accuracy: 0.9722\n",
            "Epoch 61/100\n",
            "122/122 [==============================] - 1s 5ms/step - loss: 0.0678 - accuracy: 0.9344 - val_loss: 0.0581 - val_accuracy: 0.9722\n",
            "Epoch 62/100\n",
            "122/122 [==============================] - 1s 7ms/step - loss: 0.0674 - accuracy: 0.9344 - val_loss: 0.0577 - val_accuracy: 0.9722\n",
            "Epoch 63/100\n",
            "122/122 [==============================] - 1s 7ms/step - loss: 0.0671 - accuracy: 0.9344 - val_loss: 0.0573 - val_accuracy: 0.9722\n",
            "Epoch 64/100\n",
            "122/122 [==============================] - 1s 5ms/step - loss: 0.0668 - accuracy: 0.9344 - val_loss: 0.0570 - val_accuracy: 0.9722\n",
            "Epoch 65/100\n",
            "122/122 [==============================] - 1s 7ms/step - loss: 0.0665 - accuracy: 0.9344 - val_loss: 0.0566 - val_accuracy: 0.9722\n",
            "Epoch 66/100\n",
            "122/122 [==============================] - 1s 5ms/step - loss: 0.0662 - accuracy: 0.9344 - val_loss: 0.0564 - val_accuracy: 0.9722\n",
            "Epoch 67/100\n",
            "122/122 [==============================] - 1s 5ms/step - loss: 0.0660 - accuracy: 0.9344 - val_loss: 0.0559 - val_accuracy: 0.9722\n",
            "Epoch 68/100\n",
            "122/122 [==============================] - 1s 5ms/step - loss: 0.0657 - accuracy: 0.9344 - val_loss: 0.0556 - val_accuracy: 0.9722\n",
            "Epoch 69/100\n",
            "122/122 [==============================] - 1s 7ms/step - loss: 0.0654 - accuracy: 0.9344 - val_loss: 0.0552 - val_accuracy: 0.9722\n",
            "Epoch 70/100\n",
            "122/122 [==============================] - 1s 5ms/step - loss: 0.0652 - accuracy: 0.9344 - val_loss: 0.0549 - val_accuracy: 0.9722\n",
            "Epoch 71/100\n",
            "122/122 [==============================] - 1s 5ms/step - loss: 0.0650 - accuracy: 0.9344 - val_loss: 0.0546 - val_accuracy: 0.9722\n",
            "Epoch 72/100\n",
            "122/122 [==============================] - 1s 5ms/step - loss: 0.0647 - accuracy: 0.9344 - val_loss: 0.0543 - val_accuracy: 0.9722\n",
            "Epoch 73/100\n",
            "122/122 [==============================] - 1s 7ms/step - loss: 0.0645 - accuracy: 0.9344 - val_loss: 0.0540 - val_accuracy: 0.9722\n",
            "Epoch 74/100\n",
            "122/122 [==============================] - 1s 7ms/step - loss: 0.0643 - accuracy: 0.9344 - val_loss: 0.0537 - val_accuracy: 0.9722\n",
            "Epoch 75/100\n",
            "122/122 [==============================] - 1s 7ms/step - loss: 0.0640 - accuracy: 0.9344 - val_loss: 0.0534 - val_accuracy: 0.9722\n",
            "Epoch 76/100\n",
            "122/122 [==============================] - 1s 5ms/step - loss: 0.0638 - accuracy: 0.9344 - val_loss: 0.0532 - val_accuracy: 0.9722\n",
            "Epoch 77/100\n",
            "122/122 [==============================] - 1s 7ms/step - loss: 0.0636 - accuracy: 0.9344 - val_loss: 0.0530 - val_accuracy: 0.9722\n",
            "Epoch 78/100\n",
            "122/122 [==============================] - 1s 5ms/step - loss: 0.0634 - accuracy: 0.9344 - val_loss: 0.0527 - val_accuracy: 0.9722\n",
            "Epoch 79/100\n",
            "122/122 [==============================] - 1s 5ms/step - loss: 0.0632 - accuracy: 0.9344 - val_loss: 0.0524 - val_accuracy: 0.9722\n",
            "Epoch 80/100\n",
            "122/122 [==============================] - 1s 7ms/step - loss: 0.0631 - accuracy: 0.9344 - val_loss: 0.0522 - val_accuracy: 0.9722\n",
            "Epoch 81/100\n",
            "122/122 [==============================] - 1s 7ms/step - loss: 0.0629 - accuracy: 0.9344 - val_loss: 0.0519 - val_accuracy: 0.9722\n",
            "Epoch 82/100\n",
            "122/122 [==============================] - 1s 7ms/step - loss: 0.0627 - accuracy: 0.9344 - val_loss: 0.0517 - val_accuracy: 0.9722\n",
            "Epoch 83/100\n",
            "122/122 [==============================] - 1s 7ms/step - loss: 0.0625 - accuracy: 0.9344 - val_loss: 0.0515 - val_accuracy: 0.9722\n",
            "Epoch 84/100\n",
            "122/122 [==============================] - 1s 7ms/step - loss: 0.0624 - accuracy: 0.9344 - val_loss: 0.0513 - val_accuracy: 0.9722\n",
            "Epoch 85/100\n",
            "122/122 [==============================] - 1s 5ms/step - loss: 0.0622 - accuracy: 0.9344 - val_loss: 0.0510 - val_accuracy: 0.9722\n",
            "Epoch 86/100\n",
            "122/122 [==============================] - 1s 7ms/step - loss: 0.0621 - accuracy: 0.9344 - val_loss: 0.0510 - val_accuracy: 0.9722\n",
            "Epoch 87/100\n",
            "122/122 [==============================] - 1s 5ms/step - loss: 0.0619 - accuracy: 0.9344 - val_loss: 0.0508 - val_accuracy: 0.9722\n",
            "Epoch 88/100\n",
            "122/122 [==============================] - 1s 7ms/step - loss: 0.0618 - accuracy: 0.9344 - val_loss: 0.0505 - val_accuracy: 0.9722\n",
            "Epoch 89/100\n",
            "122/122 [==============================] - 1s 5ms/step - loss: 0.0616 - accuracy: 0.9344 - val_loss: 0.0504 - val_accuracy: 0.9722\n",
            "Epoch 90/100\n",
            "122/122 [==============================] - 1s 5ms/step - loss: 0.0615 - accuracy: 0.9344 - val_loss: 0.0502 - val_accuracy: 0.9722\n",
            "Epoch 91/100\n",
            "122/122 [==============================] - 1s 7ms/step - loss: 0.0614 - accuracy: 0.9344 - val_loss: 0.0501 - val_accuracy: 0.9722\n",
            "Epoch 92/100\n",
            "122/122 [==============================] - 1s 7ms/step - loss: 0.0612 - accuracy: 0.9344 - val_loss: 0.0499 - val_accuracy: 0.9722\n",
            "Epoch 93/100\n",
            "122/122 [==============================] - 1s 6ms/step - loss: 0.0611 - accuracy: 0.9344 - val_loss: 0.0498 - val_accuracy: 0.9722\n",
            "Epoch 94/100\n",
            "122/122 [==============================] - 1s 7ms/step - loss: 0.0610 - accuracy: 0.9344 - val_loss: 0.0496 - val_accuracy: 0.9722\n",
            "Epoch 95/100\n",
            "122/122 [==============================] - 1s 5ms/step - loss: 0.0609 - accuracy: 0.9344 - val_loss: 0.0495 - val_accuracy: 0.9722\n",
            "Epoch 96/100\n",
            "122/122 [==============================] - 1s 7ms/step - loss: 0.0607 - accuracy: 0.9344 - val_loss: 0.0493 - val_accuracy: 0.9722\n",
            "Epoch 97/100\n",
            "122/122 [==============================] - 1s 5ms/step - loss: 0.0606 - accuracy: 0.9344 - val_loss: 0.0492 - val_accuracy: 0.9722\n",
            "Epoch 98/100\n",
            "122/122 [==============================] - 1s 5ms/step - loss: 0.0605 - accuracy: 0.9344 - val_loss: 0.0490 - val_accuracy: 0.9722\n",
            "Epoch 99/100\n",
            "122/122 [==============================] - 1s 5ms/step - loss: 0.0604 - accuracy: 0.9344 - val_loss: 0.0489 - val_accuracy: 0.9722\n",
            "Epoch 100/100\n",
            "122/122 [==============================] - 1s 5ms/step - loss: 0.0602 - accuracy: 0.9344 - val_loss: 0.0488 - val_accuracy: 0.9722\n",
            "CPU times: user 1min 12s, sys: 4.77 s, total: 1min 16s\n",
            "Wall time: 1min 14s\n"
          ]
        },
        {
          "output_type": "execute_result",
          "data": {
            "text/plain": [
              "Ellipsis"
            ]
          },
          "metadata": {},
          "execution_count": 74
        }
      ],
      "source": [
        "%%time\n",
        "# fit the keras model on the dataset\n",
        "history3_reg = model_3.fit(X_3_tr, y_3_tr,validation_data=(X_test_3,y_test_3) ,epochs=100, batch_size=1)\n",
        "..."
      ]
    },
    {
      "cell_type": "code",
      "execution_count": 76,
      "metadata": {
        "colab": {
          "base_uri": "https://localhost:8080/",
          "height": 331
        },
        "outputId": "3f53f575-54bd-4405-dcd4-809946412396",
        "id": "B2A6csgGkqSZ"
      },
      "outputs": [
        {
          "output_type": "stream",
          "name": "stdout",
          "text": [
            "Train MSE: 0.0600 Test MSE: 0.0488\n",
            "Train accuracy: 0.9344 Test accuracy: 0.9722\n"
          ]
        },
        {
          "output_type": "display_data",
          "data": {
            "text/plain": [
              "<Figure size 432x288 with 1 Axes>"
            ],
            "image/png": "[encoded data removed]"
          },
          "metadata": {
            "needs_background": "light"
          }
        }
      ],
      "source": [
        "#Evaluate model\n",
        "from matplotlib import pyplot\n",
        "train_mse, train_accuracy = model_3.evaluate(X_3_tr, y_3_tr, verbose=0)\n",
        "test_mse, test_accuracy = model_3.evaluate(X_test_3,y_test_3,verbose=0)\n",
        "print('Train MSE: %.4f Test MSE: %.4f'%(train_mse,test_mse))\n",
        "print('Train accuracy: %.4f Test accuracy: %.4f'%(train_accuracy,test_accuracy))\n",
        "pyplot.title('MONK 3 Reg.')\n",
        "pyplot.plot(history3_reg.history['loss'], label='train')\n",
        "pyplot.plot(history3_reg.history['val_loss'], label='test', linestyle=\"dashed\")\n",
        "pyplot.xlabel('epoch')\n",
        "pyplot.ylabel('MSE')\n",
        "pyplot.legend()\n",
        "pyplot.show()"
      ]
    }
  ],
  "metadata": {
    "colab": {
      "provenance": [],
      "include_colab_link": true
    },
    "kernelspec": {
      "display_name": "Python 3",
      "name": "python3"
    },
    "language_info": {
      "name": "python"
    }
  },
  "nbformat": 4,
  "nbformat_minor": 0
}