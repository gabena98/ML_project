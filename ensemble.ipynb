{
  "cells": [
    {
      "cell_type": "code",
      "execution_count": null,
      "metadata": {
        "colab": {
          "base_uri": "https://localhost:8080/"
        },
        "id": "MSyUQoGlkkmO",
        "outputId": "f63d2d82-fb28-4ece-e417-19c209e456ac"
      },
      "outputs": [
        {
          "name": "stdout",
          "output_type": "stream",
          "text": [
            "Looking in indexes: https://pypi.org/simple, https://us-python.pkg.dev/colab-wheels/public/simple/\n",
            "Collecting scikeras\n",
            "  Downloading scikeras-0.10.0-py3-none-any.whl (27 kB)\n",
            "Requirement already satisfied: scikit-learn>=1.0.0 in /usr/local/lib/python3.8/dist-packages (from scikeras) (1.0.2)\n",
            "Requirement already satisfied: packaging>=0.21 in /usr/local/lib/python3.8/dist-packages (from scikeras) (21.3)\n",
            "Requirement already satisfied: pyparsing!=3.0.5,>=2.0.2 in /usr/local/lib/python3.8/dist-packages (from packaging>=0.21->scikeras) (3.0.9)\n",
            "Requirement already satisfied: threadpoolctl>=2.0.0 in /usr/local/lib/python3.8/dist-packages (from scikit-learn>=1.0.0->scikeras) (3.1.0)\n",
            "Requirement already satisfied: numpy>=1.14.6 in /usr/local/lib/python3.8/dist-packages (from scikit-learn>=1.0.0->scikeras) (1.21.6)\n",
            "Requirement already satisfied: joblib>=0.11 in /usr/local/lib/python3.8/dist-packages (from scikit-learn>=1.0.0->scikeras) (1.2.0)\n",
            "Requirement already satisfied: scipy>=1.1.0 in /usr/local/lib/python3.8/dist-packages (from scikit-learn>=1.0.0->scikeras) (1.7.3)\n",
            "Installing collected packages: scikeras\n",
            "Successfully installed scikeras-0.10.0\n"
          ]
        }
      ],
      "source": [
        "!pip install scikeras"
      ]
    },
    {
      "cell_type": "code",
      "execution_count": null,
      "metadata": {
        "colab": {
          "base_uri": "https://localhost:8080/"
        },
        "id": "srhrql8hkFF6",
        "outputId": "a2bc7dca-5eec-41d1-a8b5-3fb7662f892e"
      },
      "outputs": [
        {
          "name": "stdout",
          "output_type": "stream",
          "text": [
            "Looking in indexes: https://pypi.org/simple, https://us-python.pkg.dev/colab-wheels/public/simple/\n",
            "Collecting bayesian-optimization\n",
            "  Downloading bayesian_optimization-1.4.2-py3-none-any.whl (17 kB)\n",
            "Collecting colorama>=0.4.6\n",
            "  Downloading colorama-0.4.6-py2.py3-none-any.whl (25 kB)\n",
            "Requirement already satisfied: numpy>=1.9.0 in /usr/local/lib/python3.8/dist-packages (from bayesian-optimization) (1.21.6)\n",
            "Requirement already satisfied: scikit-learn>=0.18.0 in /usr/local/lib/python3.8/dist-packages (from bayesian-optimization) (1.0.2)\n",
            "Requirement already satisfied: scipy>=1.0.0 in /usr/local/lib/python3.8/dist-packages (from bayesian-optimization) (1.7.3)\n",
            "Requirement already satisfied: joblib>=0.11 in /usr/local/lib/python3.8/dist-packages (from scikit-learn>=0.18.0->bayesian-optimization) (1.2.0)\n",
            "Requirement already satisfied: threadpoolctl>=2.0.0 in /usr/local/lib/python3.8/dist-packages (from scikit-learn>=0.18.0->bayesian-optimization) (3.1.0)\n",
            "Installing collected packages: colorama, bayesian-optimization\n",
            "Successfully installed bayesian-optimization-1.4.2 colorama-0.4.6\n"
          ]
        }
      ],
      "source": [
        "!pip install bayesian-optimization"
      ]
    },
    {
      "cell_type": "code",
      "execution_count": null,
      "metadata": {
        "id": "2hShIS2xb7mR"
      },
      "outputs": [],
      "source": [
        "import pandas as pd\n",
        "import numpy as np\n",
        "import tensorflow as tf\n",
        "from keras.models import Sequential\n",
        "from keras.layers import Dense, BatchNormalization, Dropout\n",
        "from keras.optimizers import Adam, SGD, RMSprop, Adadelta, Adagrad, Adamax, Nadam, Ftrl\n",
        "from keras.callbacks import EarlyStopping, ModelCheckpoint\n",
        "from keras.wrappers.scikit_learn import KerasClassifier\n",
        "from sklearn.model_selection import GridSearchCV\n",
        "import math\n",
        "from sklearn.metrics import make_scorer, accuracy_score\n",
        "\n",
        "from sklearn.preprocessing import MinMaxScaler\n",
        "from sklearn.model_selection import train_test_split\n",
        "from sklearn.model_selection import cross_val_score\n",
        "\n",
        "from sklearn.model_selection import GridSearchCV, RandomizedSearchCV\n",
        "\n",
        "\n",
        "from sklearn.metrics import make_scorer, accuracy_score\n",
        "from bayes_opt import BayesianOptimization\n",
        "from sklearn.model_selection import StratifiedKFold\n",
        "from keras.layers import LeakyReLU\n",
        "LeakyReLU = LeakyReLU(alpha=0.1)\n",
        "import warnings\n",
        "warnings.filterwarnings('ignore')\n",
        "pd.set_option(\"display.max_columns\", None)"
      ]
    },
    {
      "cell_type": "code",
      "execution_count": null,
      "metadata": {
        "id": "YNCwtprTsD-E"
      },
      "outputs": [],
      "source": [
        "# Make scorer accuracy\n",
        "score_acc = make_scorer(accuracy_score)"
      ]
    },
    {
      "cell_type": "code",
      "execution_count": null,
      "metadata": {
        "id": "MFDvByz1Y77L"
      },
      "outputs": [],
      "source": [
        "import keras.backend as K\n",
        "\n",
        "\n",
        "def euclidean_distance_loss(y_true, y_pred):\n",
        "    \"\"\"\n",
        "    Euclidean distance loss\n",
        "    https://en.wikipedia.org/wiki/Euclidean_distance\n",
        "    :param y_true: TensorFlow/Theano tensor\n",
        "    :param y_pred: TensorFlow/Theano tensor of the same shape as y_true\n",
        "    :return: float\n",
        "    \"\"\"\n",
        "    return K.sqrt(K.sum(K.square(y_pred - y_true), axis=-1))"
      ]
    },
    {
      "cell_type": "code",
      "execution_count": null,
      "metadata": {
        "id": "puyVsRp9cEvp"
      },
      "outputs": [],
      "source": [
        "# load the dataset\n",
        "monks_1_train = pd.read_csv('/content/monks_1_train.csv', names=[\"y\", \"x0\", \"x1\", \"x2\", \"x3\", \"x4\", \"x5\", \"x6\"], \n",
        "                      delim_whitespace=True)\n",
        "monks_2_train = pd.read_csv('/content/monks_2_train.csv', names=[\"y\", \"x0\", \"x1\", \"x2\", \"x3\", \"x4\", \"x5\", \"x6\"], \n",
        "                      delim_whitespace=True)\n",
        "monks_3_train = pd.read_csv('/content/monks_3_train.csv', names=[\"y\", \"x0\", \"x1\", \"x2\", \"x3\", \"x4\", \"x5\", \"x6\"], \n",
        "                      delim_whitespace=True)\n",
        "\n",
        "monks_1_test = pd.read_csv('/content/monks_1_test.csv', names=[\"y\", \"x0\", \"x1\", \"x2\", \"x3\", \"x4\", \"x5\", \"x6\"], \n",
        "                      delim_whitespace=True)\n",
        "monks_2_test = pd.read_csv('/content/monks_2_test.csv', names=[\"y\", \"x0\", \"x1\", \"x2\", \"x3\", \"x4\", \"x5\", \"x6\"], \n",
        "                      delim_whitespace=True)\n",
        "monks_3_test = pd.read_csv('/content/monks_3_test.csv', names=[\"y\", \"x0\", \"x1\", \"x2\", \"x3\", \"x4\", \"x5\", \"x6\"], \n",
        "                      delim_whitespace=True)"
      ]
    },
    {
      "cell_type": "code",
      "execution_count": null,
      "metadata": {
        "id": "194NFT0i93Bl"
      },
      "outputs": [],
      "source": [
        "def transform_dummy(dataset):\n",
        "  dataset.drop(labels=[\"x6\"], axis=1, inplace=True)\n",
        "  dummy_columns=list(monks_1_train.nunique()[monks_1_train.nunique()>2].index)\n",
        "  monk_hot_df = pd.get_dummies(dataset, columns=dummy_columns, drop_first=True)\n",
        "  monk_hot_features=len(monk_hot_df.columns)-1\n",
        "  for c in monk_hot_df.columns:\n",
        "    monk_hot_df[c]=monk_hot_df[c].astype(\"float\")\n",
        "\n",
        "  return monk_hot_features, monk_hot_df"
      ]
    },
    {
      "cell_type": "code",
      "execution_count": null,
      "metadata": {
        "id": "Dq5Ul1Y7u2R2"
      },
      "outputs": [],
      "source": [
        "features_1_tr,monk1_train_hot=transform_dummy(monks_1_train)\n",
        "features_2_tr,monk2_train_hot=transform_dummy(monks_2_train)\n",
        "features_3_tr,monk3_train_hot=transform_dummy(monks_3_train)\n",
        "\n",
        "features_1_ts,monk1_test_hot=transform_dummy(monks_1_test)\n",
        "features_2_ts,monk2_test_hot=transform_dummy(monks_2_test)\n",
        "features_3_ts,monk3_test_hot=transform_dummy(monks_3_test)"
      ]
    },
    {
      "cell_type": "code",
      "execution_count": null,
      "metadata": {
        "id": "EnfLF7P3oObG"
      },
      "outputs": [],
      "source": [
        "# split into input (X) and output (y) variables the train datasets\n",
        "X_1_tr = monk1_train_hot.iloc[:,1:12].values\n",
        "y_1_tr = monk1_train_hot.iloc[:,0].values\n",
        "\n",
        "X_2_tr = monk2_train_hot.iloc[:,1:12].values\n",
        "y_2_tr = monk2_train_hot.iloc[:,0].values\n",
        "\n",
        "X_3_tr = monk3_train_hot.iloc[:,1:12].values\n",
        "y_3_tr = monk3_train_hot.iloc[:,0].values"
      ]
    },
    {
      "cell_type": "code",
      "execution_count": null,
      "metadata": {
        "colab": {
          "base_uri": "https://localhost:8080/"
        },
        "id": "6rZGyh0SfgNl",
        "outputId": "f0f94368-5e5a-4c7d-8a1c-6fb40051fcd4"
      },
      "outputs": [
        {
          "data": {
            "text/plain": [
              "Ellipsis"
            ]
          },
          "execution_count": 12,
          "metadata": {},
          "output_type": "execute_result"
        }
      ],
      "source": [
        "...\n",
        "# define the keras model for monk 1\n",
        "model_1 = Sequential()\n",
        "model_1.add(Dense(11, input_shape=(11,), activation='relu'))\n",
        "model_1.add(Dense(7, activation='relu'))\n",
        "model_1.add(Dense(1, activation='sigmoid'))\n",
        "..."
      ]
    },
    {
      "cell_type": "code",
      "execution_count": null,
      "metadata": {
        "colab": {
          "base_uri": "https://localhost:8080/"
        },
        "id": "bQouALYJhtAT",
        "outputId": "b4495fab-e515-44e8-e6a9-030d029fcd0b"
      },
      "outputs": [
        {
          "data": {
            "text/plain": [
              "Ellipsis"
            ]
          },
          "execution_count": 13,
          "metadata": {},
          "output_type": "execute_result"
        }
      ],
      "source": [
        "...\n",
        "# compile the keras model\n",
        "model_1.compile(loss=euclidean_distance_loss, optimizer='adam', metrics=['accuracy'])\n",
        "..."
      ]
    },
    {
      "cell_type": "code",
      "execution_count": null,
      "metadata": {
        "id": "aXTlc8aQhtRT"
      },
      "outputs": [],
      "source": [
        "%%time\n",
        "# fit the keras model on the dataset\n",
        "model_1.fit(X_1_tr, y_1_tr, epochs=250, batch_size=20)\n",
        "..."
      ]
    },
    {
      "cell_type": "code",
      "execution_count": null,
      "metadata": {
        "id": "06Sf6SBNhtWs"
      },
      "outputs": [],
      "source": [
        "# split into input (X) and output (y) variables\n",
        "X_test_1 = monk1_test_hot.iloc[:,1:12].values\n",
        "y_test_1 = monk1_test_hot.iloc[:,0].values"
      ]
    },
    {
      "cell_type": "code",
      "execution_count": null,
      "metadata": {
        "colab": {
          "base_uri": "https://localhost:8080/"
        },
        "id": "VbLDOj_ohtaT",
        "outputId": "745546a5-c321-4f6e-da81-54d7dca0e10c"
      },
      "outputs": [
        {
          "name": "stdout",
          "output_type": "stream",
          "text": [
            "14/14 [==============================] - 0s 1ms/step - loss: 0.0992 - accuracy: 0.9190\n",
            "Accuracy: 91.90\n"
          ]
        }
      ],
      "source": [
        "...\n",
        "# evaluate the keras model\n",
        "_, accuracy = model_1.evaluate(X_test_1, y_test_1, )\n",
        "print('Accuracy: %.2f' % (accuracy*100))"
      ]
    },
    {
      "cell_type": "code",
      "execution_count": null,
      "metadata": {
        "id": "V6YMU-iIhteR"
      },
      "outputs": [],
      "source": []
    },
    {
      "cell_type": "code",
      "execution_count": null,
      "metadata": {
        "id": "2yGqcPVFhthY"
      },
      "outputs": [],
      "source": []
    },
    {
      "cell_type": "code",
      "execution_count": null,
      "metadata": {
        "colab": {
          "base_uri": "https://localhost:8080/"
        },
        "id": "9tv3vJ0Jq6Hy",
        "outputId": "05578d8c-2cdd-4fea-8381-789ddb8f2c3a"
      },
      "outputs": [
        {
          "data": {
            "text/plain": [
              "Ellipsis"
            ]
          },
          "execution_count": 17,
          "metadata": {},
          "output_type": "execute_result"
        }
      ],
      "source": [
        "...\n",
        "# define the keras model for monk 2\n",
        "model_2 = Sequential()\n",
        "model_2.add(Dense(11, input_shape=(11,), activation='relu'))\n",
        "model_2.add(Dense(15, activation='relu'))\n",
        "model_2.add(Dense(7, activation='relu'))\n",
        "model_2.add(Dense(1, activation='sigmoid'))\n",
        "..."
      ]
    },
    {
      "cell_type": "code",
      "execution_count": null,
      "metadata": {
        "colab": {
          "base_uri": "https://localhost:8080/"
        },
        "id": "Kf36cJQEq6H4",
        "outputId": "770b7e5e-05bd-4753-ec91-68a1fccd17f5"
      },
      "outputs": [
        {
          "data": {
            "text/plain": [
              "Ellipsis"
            ]
          },
          "execution_count": 18,
          "metadata": {},
          "output_type": "execute_result"
        }
      ],
      "source": [
        "...\n",
        "# compile the keras model\n",
        "model_2.compile(loss=euclidean_distance_loss, optimizer='adam', metrics=['accuracy'])\n",
        "..."
      ]
    },
    {
      "cell_type": "code",
      "execution_count": null,
      "metadata": {
        "id": "Xcs8Lm66q6H5"
      },
      "outputs": [],
      "source": [
        "%%time\n",
        "# fit the keras model on the dataset\n",
        "model_2.fit(X_2_tr, y_2_tr, epochs=250, batch_size=40)\n",
        "..."
      ]
    },
    {
      "cell_type": "code",
      "execution_count": null,
      "metadata": {
        "id": "d11LPYZ2q6H5"
      },
      "outputs": [],
      "source": [
        "# split into input (X) and output (y) variables\n",
        "X_test_2 = monk2_test_hot.iloc[:,1:12].values\n",
        "y_test_2 = monk2_test_hot.iloc[:,0].values"
      ]
    },
    {
      "cell_type": "code",
      "execution_count": null,
      "metadata": {
        "colab": {
          "base_uri": "https://localhost:8080/"
        },
        "id": "yh6uHgbrq6H6",
        "outputId": "e059fc7c-8df1-4cc1-c817-01b847344f62"
      },
      "outputs": [
        {
          "name": "stdout",
          "output_type": "stream",
          "text": [
            "14/14 [==============================] - 0s 1ms/step - loss: 0.2918 - accuracy: 0.7106\n",
            "Accuracy: 71.06\n"
          ]
        }
      ],
      "source": [
        "...\n",
        "# evaluate the keras model\n",
        "_, accuracy = model_2.evaluate(X_test_2, y_test_2, )\n",
        "print('Accuracy: %.2f' % (accuracy*100))"
      ]
    },
    {
      "cell_type": "code",
      "execution_count": null,
      "metadata": {
        "id": "EUbcLfjqhtkz"
      },
      "outputs": [],
      "source": []
    },
    {
      "cell_type": "code",
      "execution_count": null,
      "metadata": {
        "id": "VXmEPPivw8bP"
      },
      "outputs": [],
      "source": []
    },
    {
      "cell_type": "code",
      "execution_count": null,
      "metadata": {
        "colab": {
          "base_uri": "https://localhost:8080/"
        },
        "id": "cgoejW98xCX8",
        "outputId": "626664df-34be-4ebc-f1a6-c14196eda81b"
      },
      "outputs": [
        {
          "data": {
            "text/plain": [
              "Ellipsis"
            ]
          },
          "execution_count": 22,
          "metadata": {},
          "output_type": "execute_result"
        }
      ],
      "source": [
        "...\n",
        "# define the keras model for monk 3\n",
        "model_3 = Sequential()\n",
        "model_3.add(Dense(11, input_shape=(11,), activation='relu'))\n",
        "model_3.add(Dense(7, activation='relu'))\n",
        "model_3.add(Dense(1, activation='sigmoid'))\n",
        "..."
      ]
    },
    {
      "cell_type": "code",
      "execution_count": null,
      "metadata": {
        "colab": {
          "base_uri": "https://localhost:8080/"
        },
        "id": "8i-EX6EoxCX-",
        "outputId": "210dde0d-3675-4dbd-ae07-8e8c1db65a66"
      },
      "outputs": [
        {
          "data": {
            "text/plain": [
              "Ellipsis"
            ]
          },
          "execution_count": 23,
          "metadata": {},
          "output_type": "execute_result"
        }
      ],
      "source": [
        "...\n",
        "# compile the keras model\n",
        "model_3.compile(loss=euclidean_distance_loss, optimizer='adam', metrics=['accuracy'])\n",
        "..."
      ]
    },
    {
      "cell_type": "code",
      "execution_count": null,
      "metadata": {
        "id": "LZKEDwIXxCX_"
      },
      "outputs": [],
      "source": [
        "%%time\n",
        "# fit the keras model on the dataset\n",
        "model_3.fit(X_3_tr, y_3_tr, epochs=250, batch_size=20)\n",
        "..."
      ]
    },
    {
      "cell_type": "code",
      "execution_count": null,
      "metadata": {
        "id": "6AMfentBxCYA"
      },
      "outputs": [],
      "source": [
        "# split into input (X) and output (y) variables\n",
        "X_test_3 = monk3_test_hot.iloc[:,1:12].values\n",
        "y_test_3 = monk3_test_hot.iloc[:,0].values"
      ]
    },
    {
      "cell_type": "code",
      "execution_count": null,
      "metadata": {
        "colab": {
          "base_uri": "https://localhost:8080/"
        },
        "id": "xkzNcUDixCYA",
        "outputId": "0e35e768-6006-4ccf-c6ee-1320008ef5ad"
      },
      "outputs": [
        {
          "name": "stdout",
          "output_type": "stream",
          "text": [
            "14/14 [==============================] - 0s 2ms/step - loss: 0.0286 - accuracy: 0.9722\n",
            "Accuracy: 97.22\n"
          ]
        }
      ],
      "source": [
        "...\n",
        "# evaluate the keras model\n",
        "_, accuracy = model_3.evaluate(X_test_3, y_test_3, )\n",
        "print('Accuracy: %.2f' % (accuracy*100))"
      ]
    },
    {
      "cell_type": "code",
      "execution_count": null,
      "metadata": {
        "id": "ps3bkROZw8oL"
      },
      "outputs": [],
      "source": []
    },
    {
      "cell_type": "code",
      "execution_count": null,
      "metadata": {
        "id": "wx9WEjL73Dj0"
      },
      "outputs": [],
      "source": []
    },
    {
      "cell_type": "code",
      "execution_count": null,
      "metadata": {
        "id": "BY_t8VKm3DrU"
      },
      "outputs": [],
      "source": [
        "#cup bayesian hyperparameters tuning"
      ]
    },
    {
      "cell_type": "code",
      "execution_count": null,
      "metadata": {
        "id": "F03wLhwaw8v2"
      },
      "outputs": [],
      "source": [
        "#CUP\n",
        "from tensorflow.keras.wrappers.scikit_learn import KerasRegressor\n",
        "# load the dataset\n",
        "cup_train = pd.read_csv('/content/ML-CUP22-TR_noHeader.csv', names=[\"x0\", \"x1\", \"x2\", \"x3\", \"x4\", \"x5\", \"x6\", \"x7\", \"x8\", \"y0\", \"y1\"]\n",
        "                        )"
      ]
    },
    {
      "cell_type": "code",
      "execution_count": null,
      "metadata": {
        "colab": {
          "base_uri": "https://localhost:8080/",
          "height": 204
        },
        "id": "7v31Milgw80y",
        "outputId": "c16f1818-69ea-453a-a496-59657fd088c9"
      },
      "outputs": [
        {
          "data": {
            "text/html": [
              "\n",
              "  <div id=\"df-87094ae5-8505-428d-9436-0d2d6deeb4c2\">\n",
              "    <div class=\"colab-df-container\">\n",
              "      <div>\n",
              "<style scoped>\n",
              "    .dataframe tbody tr th:only-of-type {\n",
              "        vertical-align: middle;\n",
              "    }\n",
              "\n",
              "    .dataframe tbody tr th {\n",
              "        vertical-align: top;\n",
              "    }\n",
              "\n",
              "    .dataframe thead th {\n",
              "        text-align: right;\n",
              "    }\n",
              "</style>\n",
              "<table border=\"1\" class=\"dataframe\">\n",
              "  <thead>\n",
              "    <tr style=\"text-align: right;\">\n",
              "      <th></th>\n",
              "      <th>x0</th>\n",
              "      <th>x1</th>\n",
              "      <th>x2</th>\n",
              "      <th>x3</th>\n",
              "      <th>x4</th>\n",
              "      <th>x5</th>\n",
              "      <th>x6</th>\n",
              "      <th>x7</th>\n",
              "      <th>x8</th>\n",
              "      <th>y0</th>\n",
              "      <th>y1</th>\n",
              "    </tr>\n",
              "  </thead>\n",
              "  <tbody>\n",
              "    <tr>\n",
              "      <th>0</th>\n",
              "      <td>-1.704815</td>\n",
              "      <td>1.503106</td>\n",
              "      <td>-0.817083</td>\n",
              "      <td>1.353560</td>\n",
              "      <td>-1.293660</td>\n",
              "      <td>1.362608</td>\n",
              "      <td>0.217795</td>\n",
              "      <td>0.462728</td>\n",
              "      <td>-1.237246</td>\n",
              "      <td>22.222923</td>\n",
              "      <td>-27.036774</td>\n",
              "    </tr>\n",
              "    <tr>\n",
              "      <th>1</th>\n",
              "      <td>-0.888962</td>\n",
              "      <td>0.711473</td>\n",
              "      <td>-0.480023</td>\n",
              "      <td>0.748175</td>\n",
              "      <td>-0.981763</td>\n",
              "      <td>1.765482</td>\n",
              "      <td>-0.445018</td>\n",
              "      <td>1.719143</td>\n",
              "      <td>-1.096250</td>\n",
              "      <td>18.885520</td>\n",
              "      <td>-28.377440</td>\n",
              "    </tr>\n",
              "    <tr>\n",
              "      <th>2</th>\n",
              "      <td>1.143802</td>\n",
              "      <td>-1.591273</td>\n",
              "      <td>0.670477</td>\n",
              "      <td>-0.948551</td>\n",
              "      <td>1.075740</td>\n",
              "      <td>-0.908309</td>\n",
              "      <td>-0.694223</td>\n",
              "      <td>-1.321391</td>\n",
              "      <td>0.662656</td>\n",
              "      <td>4.587627</td>\n",
              "      <td>-18.507566</td>\n",
              "    </tr>\n",
              "    <tr>\n",
              "      <th>3</th>\n",
              "      <td>0.630938</td>\n",
              "      <td>-0.295533</td>\n",
              "      <td>1.379162</td>\n",
              "      <td>-0.041045</td>\n",
              "      <td>-0.250695</td>\n",
              "      <td>0.025003</td>\n",
              "      <td>0.143915</td>\n",
              "      <td>0.861455</td>\n",
              "      <td>0.879540</td>\n",
              "      <td>10.256820</td>\n",
              "      <td>-30.017064</td>\n",
              "    </tr>\n",
              "    <tr>\n",
              "      <th>4</th>\n",
              "      <td>1.799449</td>\n",
              "      <td>-0.913254</td>\n",
              "      <td>1.245698</td>\n",
              "      <td>-1.410940</td>\n",
              "      <td>0.653328</td>\n",
              "      <td>-0.677108</td>\n",
              "      <td>-0.667490</td>\n",
              "      <td>-0.849795</td>\n",
              "      <td>0.497977</td>\n",
              "      <td>4.916182</td>\n",
              "      <td>-17.670030</td>\n",
              "    </tr>\n",
              "  </tbody>\n",
              "</table>\n",
              "</div>\n",
              "      <button class=\"colab-df-convert\" onclick=\"convertToInteractive('df-87094ae5-8505-428d-9436-0d2d6deeb4c2')\"\n",
              "              title=\"Convert this dataframe to an interactive table.\"\n",
              "              style=\"display:none;\">\n",
              "        \n",
              "  <svg xmlns=\"http://www.w3.org/2000/svg\" height=\"24px\"viewBox=\"0 0 24 24\"\n",
              "       width=\"24px\">\n",
              "    <path d=\"M0 0h24v24H0V0z\" fill=\"none\"/>\n",
              "    <path d=\"M18.56 5.44l.94 2.06.94-2.06 2.06-.94-2.06-.94-.94-2.06-.94 2.06-2.06.94zm-11 1L8.5 8.5l.94-2.06 2.06-.94-2.06-.94L8.5 2.5l-.94 2.06-2.06.94zm10 10l.94 2.06.94-2.06 2.06-.94-2.06-.94-.94-2.06-.94 2.06-2.06.94z\"/><path d=\"M17.41 7.96l-1.37-1.37c-.4-.4-.92-.59-1.43-.59-.52 0-1.04.2-1.43.59L10.3 9.45l-7.72 7.72c-.78.78-.78 2.05 0 2.83L4 21.41c.39.39.9.59 1.41.59.51 0 1.02-.2 1.41-.59l7.78-7.78 2.81-2.81c.8-.78.8-2.07 0-2.86zM5.41 20L4 18.59l7.72-7.72 1.47 1.35L5.41 20z\"/>\n",
              "  </svg>\n",
              "      </button>\n",
              "      \n",
              "  <style>\n",
              "    .colab-df-container {\n",
              "      display:flex;\n",
              "      flex-wrap:wrap;\n",
              "      gap: 12px;\n",
              "    }\n",
              "\n",
              "    .colab-df-convert {\n",
              "      background-color: #E8F0FE;\n",
              "      border: none;\n",
              "      border-radius: 50%;\n",
              "      cursor: pointer;\n",
              "      display: none;\n",
              "      fill: #1967D2;\n",
              "      height: 32px;\n",
              "      padding: 0 0 0 0;\n",
              "      width: 32px;\n",
              "    }\n",
              "\n",
              "    .colab-df-convert:hover {\n",
              "      background-color: #E2EBFA;\n",
              "      box-shadow: 0px 1px 2px rgba(60, 64, 67, 0.3), 0px 1px 3px 1px rgba(60, 64, 67, 0.15);\n",
              "      fill: #174EA6;\n",
              "    }\n",
              "\n",
              "    [theme=dark] .colab-df-convert {\n",
              "      background-color: #3B4455;\n",
              "      fill: #D2E3FC;\n",
              "    }\n",
              "\n",
              "    [theme=dark] .colab-df-convert:hover {\n",
              "      background-color: #434B5C;\n",
              "      box-shadow: 0px 1px 3px 1px rgba(0, 0, 0, 0.15);\n",
              "      filter: drop-shadow(0px 1px 2px rgba(0, 0, 0, 0.3));\n",
              "      fill: #FFFFFF;\n",
              "    }\n",
              "  </style>\n",
              "\n",
              "      <script>\n",
              "        const buttonEl =\n",
              "          document.querySelector('#df-87094ae5-8505-428d-9436-0d2d6deeb4c2 button.colab-df-convert');\n",
              "        buttonEl.style.display =\n",
              "          google.colab.kernel.accessAllowed ? 'block' : 'none';\n",
              "\n",
              "        async function convertToInteractive(key) {\n",
              "          const element = document.querySelector('#df-87094ae5-8505-428d-9436-0d2d6deeb4c2');\n",
              "          const dataTable =\n",
              "            await google.colab.kernel.invokeFunction('convertToInteractive',\n",
              "                                                     [key], {});\n",
              "          if (!dataTable) return;\n",
              "\n",
              "          const docLinkHtml = 'Like what you see? Visit the ' +\n",
              "            '<a target=\"_blank\" href=https://colab.research.google.com/notebooks/data_table.ipynb>data table notebook</a>'\n",
              "            + ' to learn more about interactive tables.';\n",
              "          element.innerHTML = '';\n",
              "          dataTable['output_type'] = 'display_data';\n",
              "          await google.colab.output.renderOutput(dataTable, element);\n",
              "          const docLink = document.createElement('div');\n",
              "          docLink.innerHTML = docLinkHtml;\n",
              "          element.appendChild(docLink);\n",
              "        }\n",
              "      </script>\n",
              "    </div>\n",
              "  </div>\n",
              "  "
            ],
            "text/plain": [
              "         x0        x1        x2        x3        x4        x5        x6  \\\n",
              "0 -1.704815  1.503106 -0.817083  1.353560 -1.293660  1.362608  0.217795   \n",
              "1 -0.888962  0.711473 -0.480023  0.748175 -0.981763  1.765482 -0.445018   \n",
              "2  1.143802 -1.591273  0.670477 -0.948551  1.075740 -0.908309 -0.694223   \n",
              "3  0.630938 -0.295533  1.379162 -0.041045 -0.250695  0.025003  0.143915   \n",
              "4  1.799449 -0.913254  1.245698 -1.410940  0.653328 -0.677108 -0.667490   \n",
              "\n",
              "         x7        x8         y0         y1  \n",
              "0  0.462728 -1.237246  22.222923 -27.036774  \n",
              "1  1.719143 -1.096250  18.885520 -28.377440  \n",
              "2 -1.321391  0.662656   4.587627 -18.507566  \n",
              "3  0.861455  0.879540  10.256820 -30.017064  \n",
              "4 -0.849795  0.497977   4.916182 -17.670030  "
            ]
          },
          "execution_count": 13,
          "metadata": {},
          "output_type": "execute_result"
        }
      ],
      "source": [
        "cup_train.head()"
      ]
    },
    {
      "cell_type": "code",
      "execution_count": null,
      "metadata": {
        "colab": {
          "base_uri": "https://localhost:8080/"
        },
        "id": "SVOYG--Kw84Y",
        "outputId": "66656f73-f4cf-4be0-8bc7-88b0990e2107"
      },
      "outputs": [
        {
          "name": "stdout",
          "output_type": "stream",
          "text": [
            "<class 'pandas.core.frame.DataFrame'>\n",
            "RangeIndex: 1492 entries, 0 to 1491\n",
            "Data columns (total 11 columns):\n",
            " #   Column  Non-Null Count  Dtype  \n",
            "---  ------  --------------  -----  \n",
            " 0   x0      1492 non-null   float64\n",
            " 1   x1      1492 non-null   float64\n",
            " 2   x2      1492 non-null   float64\n",
            " 3   x3      1492 non-null   float64\n",
            " 4   x4      1492 non-null   float64\n",
            " 5   x5      1492 non-null   float64\n",
            " 6   x6      1492 non-null   float64\n",
            " 7   x7      1492 non-null   float64\n",
            " 8   x8      1492 non-null   float64\n",
            " 9   y0      1492 non-null   float64\n",
            " 10  y1      1492 non-null   float64\n",
            "dtypes: float64(11)\n",
            "memory usage: 128.3 KB\n"
          ]
        }
      ],
      "source": [
        "cup_train.info()"
      ]
    },
    {
      "cell_type": "code",
      "execution_count": null,
      "metadata": {
        "id": "3op3HgwU-tAF"
      },
      "outputs": [],
      "source": [
        "X_train, X_val, y_train, y_val = train_test_split(cup_train.drop(columns=['y0','y1'], axis=0),\n",
        "                                                  cup_train[['y0', 'y1']],\n",
        "                                                  test_size=0.4, random_state=111)\n",
        "X_val, X_test, y_val, y_test = train_test_split(X_val, y_val,\n",
        "                                                  test_size=0.25, random_state=111)"
      ]
    },
    {
      "cell_type": "code",
      "execution_count": null,
      "metadata": {
        "id": "K8t6eXGlWAXQ"
      },
      "outputs": [],
      "source": [
        "# Create function\n",
        "def nn_cl_bo2(neurons, activation, optimizer, learning_rate, batch_size, epochs,\n",
        "              layers1, layers2, normalization, dropout, dropout_rate):\n",
        "    optimizerL = ['SGD', 'Adam', 'RMSprop', 'Adadelta', 'Adagrad', 'Adamax', 'Nadam', 'Ftrl','SGD']\n",
        "    optimizerD= {'Adam':Adam(lr=learning_rate), 'SGD':SGD(lr=learning_rate),\n",
        "                 'RMSprop':RMSprop(lr=learning_rate), 'Adadelta':Adadelta(lr=learning_rate),\n",
        "                 'Adagrad':Adagrad(lr=learning_rate), 'Adamax':Adamax(lr=learning_rate),\n",
        "                 'Nadam':Nadam(lr=learning_rate), 'Ftrl':Ftrl(lr=learning_rate)}\n",
        "    activationL = ['relu', 'sigmoid', 'softplus', 'softsign', 'tanh', 'selu',\n",
        "                   'elu', 'exponential', LeakyReLU,'relu']\n",
        "    neurons = round(neurons)\n",
        "    activation = activationL[round(activation)]\n",
        "    optimizer = optimizerD[optimizerL[round(optimizer)]]\n",
        "    batch_size = round(batch_size)\n",
        "    epochs = round(epochs)\n",
        "    layers1 = round(layers1)\n",
        "    layers2 = round(layers2)\n",
        "    def nn_cl_fun():\n",
        "        nn = Sequential()\n",
        "        nn.add(Dense(neurons, input_dim=9, activation=activation))\n",
        "        if normalization > 0.5:\n",
        "            nn.add(BatchNormalization())\n",
        "        for i in range(layers1):\n",
        "            nn.add(Dense(neurons, activation=activation))\n",
        "        if dropout > 0.5:\n",
        "            nn.add(Dropout(dropout_rate, seed=123))\n",
        "        for i in range(layers2):\n",
        "            nn.add(Dense(neurons, activation=activation))\n",
        "        nn.add(Dense(2))\n",
        "        nn.compile(loss=\"mean_squared_error\", optimizer=optimizer, metrics=['mean_absolute_percentage_error'])\n",
        "        return nn\n",
        "    es = EarlyStopping(monitor='mean_absolute_percentage_error', mode='max', verbose=0, patience=20)\n",
        "    nn = KerasRegressor(build_fn=nn_cl_fun, epochs=epochs, batch_size=batch_size, verbose=0)\n",
        "    #kfold = StratifiedKFold(n_splits=5, shuffle=True, random_state=123)\n",
        "    score = cross_val_score(nn, X_train, y_train, scoring=\"neg_mean_absolute_percentage_error\", #cv=kfold, \n",
        "                            fit_params={'callbacks':[es]}).mean()\n",
        "    #loss, mape = model_cup.evaluate(X_test_cup, y_test_cup )\n",
        "\n",
        "    return score"
      ]
    },
    {
      "cell_type": "code",
      "execution_count": null,
      "metadata": {
        "id": "GApNOoVBWAiI"
      },
      "outputs": [],
      "source": [
        "# Set parameters\n",
        "params_nn2 ={\n",
        "    'neurons': (3, 20),\n",
        "    'activation':(0, 9),\n",
        "    'optimizer':(0,7),\n",
        "    'learning_rate':(0.01, 1),\n",
        "    'batch_size':(20, 100),\n",
        "    'epochs':(20, 250),\n",
        "    'layers1':(1,4),\n",
        "    'layers2':(1,4),\n",
        "    'normalization':(0,1),\n",
        "    'dropout':(0,1),\n",
        "    'dropout_rate':(0,0.3)\n",
        "}"
      ]
    },
    {
      "cell_type": "code",
      "execution_count": null,
      "metadata": {
        "colab": {
          "base_uri": "https://localhost:8080/",
          "height": 1000
        },
        "id": "nsBw0M8MWAxD",
        "outputId": "bd373e92-7c3a-4327-a834-e27e019fd232"
      },
      "outputs": [
        {
          "name": "stdout",
          "output_type": "stream",
          "text": [
            "|   iter    |  target   | activa... | batch_... |  dropout  | dropou... |  epochs   |  layers1  |  layers2  | learni... |  neurons  | normal... | optimizer |\n",
            "-------------------------------------------------------------------------------------------------------------------------------------------------------------\n",
            "| \u001b[0m1        \u001b[0m | \u001b[0m-0.9891  \u001b[0m | \u001b[0m5.51     \u001b[0m | \u001b[0m33.53    \u001b[0m | \u001b[0m0.4361   \u001b[0m | \u001b[0m0.2308   \u001b[0m | \u001b[0m87.92    \u001b[0m | \u001b[0m1.447    \u001b[0m | \u001b[0m1.067    \u001b[0m | \u001b[0m0.426    \u001b[0m | \u001b[0m7.058    \u001b[0m | \u001b[0m0.3377   \u001b[0m | \u001b[0m6.935    \u001b[0m |\n",
            "| \u001b[95m2        \u001b[0m | \u001b[95m-0.3296  \u001b[0m | \u001b[95m2.14     \u001b[0m | \u001b[95m26.5     \u001b[0m | \u001b[95m0.6696   \u001b[0m | \u001b[95m0.1864   \u001b[0m | \u001b[95m83.08    \u001b[0m | \u001b[95m2.399    \u001b[0m | \u001b[95m1.355    \u001b[0m | \u001b[95m0.08322  \u001b[0m | \u001b[95m18.31    \u001b[0m | \u001b[95m0.794    \u001b[0m | \u001b[95m5.884    \u001b[0m |\n"
          ]
        },
        {
          "name": "stderr",
          "output_type": "stream",
          "text": [
            "WARNING:tensorflow:5 out of the last 20 calls to <function Model.make_predict_function.<locals>.predict_function at 0x7f6e93f11280> triggered tf.function retracing. Tracing is expensive and the excessive number of tracings could be due to (1) creating @tf.function repeatedly in a loop, (2) passing tensors with different shapes, (3) passing Python objects instead of tensors. For (1), please define your @tf.function outside of the loop. For (2), @tf.function has reduce_retracing=True option that can avoid unnecessary retracing. For (3), please refer to https://www.tensorflow.org/guide/function#controlling_retracing and https://www.tensorflow.org/api_docs/python/tf/function for  more details.\n",
            "WARNING:tensorflow:5 out of the last 13 calls to <function Model.make_predict_function.<locals>.predict_function at 0x7f6e9c34d700> triggered tf.function retracing. Tracing is expensive and the excessive number of tracings could be due to (1) creating @tf.function repeatedly in a loop, (2) passing tensors with different shapes, (3) passing Python objects instead of tensors. For (1), please define your @tf.function outside of the loop. For (2), @tf.function has reduce_retracing=True option that can avoid unnecessary retracing. For (3), please refer to https://www.tensorflow.org/guide/function#controlling_retracing and https://www.tensorflow.org/api_docs/python/tf/function for  more details.\n"
          ]
        },
        {
          "name": "stdout",
          "output_type": "stream",
          "text": [
            "| \u001b[0m3        \u001b[0m | \u001b[0mnan      \u001b[0m | \u001b[0m7.337    \u001b[0m | \u001b[0m99.28    \u001b[0m | \u001b[0m0.5773   \u001b[0m | \u001b[0m0.2441   \u001b[0m | \u001b[0m116.9    \u001b[0m | \u001b[0m1.082    \u001b[0m | \u001b[0m2.362    \u001b[0m | \u001b[0m0.1143   \u001b[0m | \u001b[0m16.89    \u001b[0m | \u001b[0m0.6977   \u001b[0m | \u001b[0m3.957    \u001b[0m |\n",
            "| \u001b[0m4        \u001b[0m | \u001b[0m-0.8805  \u001b[0m | \u001b[0m2.468    \u001b[0m | \u001b[0m99.88    \u001b[0m | \u001b[0m0.138    \u001b[0m | \u001b[0m0.1846   \u001b[0m | \u001b[0m131.6    \u001b[0m | \u001b[0m2.215    \u001b[0m | \u001b[0m3.184    \u001b[0m | \u001b[0m0.3296   \u001b[0m | \u001b[0m9.809    \u001b[0m | \u001b[0m0.319    \u001b[0m | \u001b[0m6.631    \u001b[0m |\n",
            "| \u001b[0m5        \u001b[0m | \u001b[0mnan      \u001b[0m | \u001b[0m8.268    \u001b[0m | \u001b[0m85.11    \u001b[0m | \u001b[0m0.03408  \u001b[0m | \u001b[0m0.283    \u001b[0m | \u001b[0m238.6    \u001b[0m | \u001b[0m3.42     \u001b[0m | \u001b[0m2.444    \u001b[0m | \u001b[0m0.9671   \u001b[0m | \u001b[0m10.09    \u001b[0m | \u001b[0m0.3188   \u001b[0m | \u001b[0m0.1151   \u001b[0m |\n",
            "| \u001b[0m6        \u001b[0m | \u001b[0m-0.2685  \u001b[0m | \u001b[0m0.3436   \u001b[0m | \u001b[0m24.25    \u001b[0m | \u001b[0m0.128    \u001b[0m | \u001b[0m0.01001  \u001b[0m | \u001b[0m72.08    \u001b[0m | \u001b[0m2.632    \u001b[0m | \u001b[0m1.536    \u001b[0m | \u001b[0m0.1876   \u001b[0m | \u001b[0m5.543    \u001b[0m | \u001b[0m0.683    \u001b[0m | \u001b[0m3.283    \u001b[0m |\n",
            "| \u001b[0m7        \u001b[0m | \u001b[0mnan      \u001b[0m | \u001b[0m6.914    \u001b[0m | \u001b[0m73.51    \u001b[0m | \u001b[0m0.4413   \u001b[0m | \u001b[0m0.1786   \u001b[0m | \u001b[0m126.2    \u001b[0m | \u001b[0m3.89     \u001b[0m | \u001b[0m1.443    \u001b[0m | \u001b[0m0.9077   \u001b[0m | \u001b[0m11.46    \u001b[0m | \u001b[0m0.5925   \u001b[0m | \u001b[0m4.793    \u001b[0m |\n",
            "| \u001b[0m8        \u001b[0m | \u001b[0m-0.08589 \u001b[0m | \u001b[0m1.597    \u001b[0m | \u001b[0m89.17    \u001b[0m | \u001b[0m0.4821   \u001b[0m | \u001b[0m0.0208   \u001b[0m | \u001b[0m103.9    \u001b[0m | \u001b[0m2.085    \u001b[0m | \u001b[0m2.416    \u001b[0m | \u001b[0m0.1877   \u001b[0m | \u001b[0m5.98     \u001b[0m | \u001b[0m0.9491   \u001b[0m | \u001b[0m4.59     \u001b[0m |\n",
            "| \u001b[0m9        \u001b[0m | \u001b[0m-0.4272  \u001b[0m | \u001b[0m1.215    \u001b[0m | \u001b[0m94.22    \u001b[0m | \u001b[0m0.8418   \u001b[0m | \u001b[0m0.01583  \u001b[0m | \u001b[0m66.85    \u001b[0m | \u001b[0m3.618    \u001b[0m | \u001b[0m3.022    \u001b[0m | \u001b[0m0.3043   \u001b[0m | \u001b[0m15.49    \u001b[0m | \u001b[0m0.6183   \u001b[0m | \u001b[0m1.473    \u001b[0m |\n",
            "| \u001b[0m10       \u001b[0m | \u001b[0mnan      \u001b[0m | \u001b[0m7.219    \u001b[0m | \u001b[0m24.73    \u001b[0m | \u001b[0m0.3082   \u001b[0m | \u001b[0m0.06221  \u001b[0m | \u001b[0m243.6    \u001b[0m | \u001b[0m3.728    \u001b[0m | \u001b[0m3.029    \u001b[0m | \u001b[0m0.124    \u001b[0m | \u001b[0m19.29    \u001b[0m | \u001b[0m0.09171  \u001b[0m | \u001b[0m4.409    \u001b[0m |\n",
            "| \u001b[0m11       \u001b[0m | \u001b[0m-0.2525  \u001b[0m | \u001b[0m8.126    \u001b[0m | \u001b[0m47.18    \u001b[0m | \u001b[0m0.6528   \u001b[0m | \u001b[0m0.2775   \u001b[0m | \u001b[0m106.0    \u001b[0m | \u001b[0m3.314    \u001b[0m | \u001b[0m3.688    \u001b[0m | \u001b[0m0.624    \u001b[0m | \u001b[0m5.568    \u001b[0m | \u001b[0m0.3749   \u001b[0m | \u001b[0m4.451    \u001b[0m |\n",
            "| \u001b[0m12       \u001b[0m | \u001b[0m-0.9876  \u001b[0m | \u001b[0m4.132    \u001b[0m | \u001b[0m62.58    \u001b[0m | \u001b[0m0.3523   \u001b[0m | \u001b[0m0.198    \u001b[0m | \u001b[0m129.6    \u001b[0m | \u001b[0m2.364    \u001b[0m | \u001b[0m1.374    \u001b[0m | \u001b[0m0.4183   \u001b[0m | \u001b[0m7.643    \u001b[0m | \u001b[0m0.3467   \u001b[0m | \u001b[0m6.821    \u001b[0m |\n",
            "| \u001b[0m13       \u001b[0m | \u001b[0m-0.1817  \u001b[0m | \u001b[0m1.94     \u001b[0m | \u001b[0m74.63    \u001b[0m | \u001b[0m0.03181  \u001b[0m | \u001b[0m0.2506   \u001b[0m | \u001b[0m181.4    \u001b[0m | \u001b[0m3.898    \u001b[0m | \u001b[0m2.775    \u001b[0m | \u001b[0m0.2252   \u001b[0m | \u001b[0m15.23    \u001b[0m | \u001b[0m0.03087  \u001b[0m | \u001b[0m2.931    \u001b[0m |\n",
            "| \u001b[0m14       \u001b[0m | \u001b[0m-0.1924  \u001b[0m | \u001b[0m2.531    \u001b[0m | \u001b[0m28.5     \u001b[0m | \u001b[0m0.4263   \u001b[0m | \u001b[0m0.2522   \u001b[0m | \u001b[0m45.39    \u001b[0m | \u001b[0m3.96     \u001b[0m | \u001b[0m1.7      \u001b[0m | \u001b[0m0.7242   \u001b[0m | \u001b[0m14.24    \u001b[0m | \u001b[0m0.07776  \u001b[0m | \u001b[0m4.881    \u001b[0m |\n",
            "| \u001b[0m15       \u001b[0m | \u001b[0m-0.2457  \u001b[0m | \u001b[0m2.388    \u001b[0m | \u001b[0m92.15    \u001b[0m | \u001b[0m0.8183   \u001b[0m | \u001b[0m0.1198   \u001b[0m | \u001b[0m208.7    \u001b[0m | \u001b[0m1.593    \u001b[0m | \u001b[0m2.568    \u001b[0m | \u001b[0m0.4184   \u001b[0m | \u001b[0m18.74    \u001b[0m | \u001b[0m0.8254   \u001b[0m | \u001b[0m3.507    \u001b[0m |\n",
            "| \u001b[0m16       \u001b[0m | \u001b[0m-0.8573  \u001b[0m | \u001b[0m1.051    \u001b[0m | \u001b[0m20.93    \u001b[0m | \u001b[0m0.9132   \u001b[0m | \u001b[0m0.1537   \u001b[0m | \u001b[0m213.9    \u001b[0m | \u001b[0m1.285    \u001b[0m | \u001b[0m3.41     \u001b[0m | \u001b[0m0.07161  \u001b[0m | \u001b[0m13.8     \u001b[0m | \u001b[0m0.9688   \u001b[0m | \u001b[0m2.782    \u001b[0m |\n",
            "| \u001b[0m17       \u001b[0m | \u001b[0m-0.4283  \u001b[0m | \u001b[0m5.936    \u001b[0m | \u001b[0m37.19    \u001b[0m | \u001b[0m0.8899   \u001b[0m | \u001b[0m0.296    \u001b[0m | \u001b[0m189.9    \u001b[0m | \u001b[0m2.924    \u001b[0m | \u001b[0m1.756    \u001b[0m | \u001b[0m0.4811   \u001b[0m | \u001b[0m7.557    \u001b[0m | \u001b[0m0.8683   \u001b[0m | \u001b[0m1.868    \u001b[0m |\n",
            "| \u001b[0m18       \u001b[0m | \u001b[0m-1.314   \u001b[0m | \u001b[0m8.757    \u001b[0m | \u001b[0m37.08    \u001b[0m | \u001b[0m0.2978   \u001b[0m | \u001b[0m0.221    \u001b[0m | \u001b[0m22.97    \u001b[0m | \u001b[0m1.091    \u001b[0m | \u001b[0m3.201    \u001b[0m | \u001b[0m0.5033   \u001b[0m | \u001b[0m6.707    \u001b[0m | \u001b[0m0.00893  \u001b[0m | \u001b[0m5.955    \u001b[0m |\n",
            "| \u001b[0m19       \u001b[0m | \u001b[0m-0.11    \u001b[0m | \u001b[0m4.828    \u001b[0m | \u001b[0m77.88    \u001b[0m | \u001b[0m0.6616   \u001b[0m | \u001b[0m0.2516   \u001b[0m | \u001b[0m109.3    \u001b[0m | \u001b[0m2.279    \u001b[0m | \u001b[0m3.484    \u001b[0m | \u001b[0m0.4743   \u001b[0m | \u001b[0m16.94    \u001b[0m | \u001b[0m0.01418  \u001b[0m | \u001b[0m2.777    \u001b[0m |\n",
            "| \u001b[0m20       \u001b[0m | \u001b[0m-0.4068  \u001b[0m | \u001b[0m1.155    \u001b[0m | \u001b[0m29.45    \u001b[0m | \u001b[0m0.206    \u001b[0m | \u001b[0m0.2243   \u001b[0m | \u001b[0m233.9    \u001b[0m | \u001b[0m2.142    \u001b[0m | \u001b[0m2.382    \u001b[0m | \u001b[0m0.8746   \u001b[0m | \u001b[0m16.85    \u001b[0m | \u001b[0m0.02497  \u001b[0m | \u001b[0m6.111    \u001b[0m |\n",
            "| \u001b[0m21       \u001b[0m | \u001b[0m-0.3859  \u001b[0m | \u001b[0m5.441    \u001b[0m | \u001b[0m61.32    \u001b[0m | \u001b[0m0.5893   \u001b[0m | \u001b[0m0.2399   \u001b[0m | \u001b[0m59.85    \u001b[0m | \u001b[0m1.561    \u001b[0m | \u001b[0m1.775    \u001b[0m | \u001b[0m0.06056  \u001b[0m | \u001b[0m12.39    \u001b[0m | \u001b[0m0.3518   \u001b[0m | \u001b[0m6.419    \u001b[0m |\n",
            "| \u001b[0m22       \u001b[0m | \u001b[0m-0.4792  \u001b[0m | \u001b[0m4.289    \u001b[0m | \u001b[0m28.36    \u001b[0m | \u001b[0m0.1525   \u001b[0m | \u001b[0m0.08206  \u001b[0m | \u001b[0m199.8    \u001b[0m | \u001b[0m2.179    \u001b[0m | \u001b[0m3.397    \u001b[0m | \u001b[0m0.4387   \u001b[0m | \u001b[0m4.386    \u001b[0m | \u001b[0m0.01064  \u001b[0m | \u001b[0m3.016    \u001b[0m |\n",
            "| \u001b[0m23       \u001b[0m | \u001b[0m-0.07612 \u001b[0m | \u001b[0m5.966    \u001b[0m | \u001b[0m61.22    \u001b[0m | \u001b[0m0.5801   \u001b[0m | \u001b[0m0.1479   \u001b[0m | \u001b[0m190.3    \u001b[0m | \u001b[0m3.368    \u001b[0m | \u001b[0m3.343    \u001b[0m | \u001b[0m0.1363   \u001b[0m | \u001b[0m18.98    \u001b[0m | \u001b[0m0.8777   \u001b[0m | \u001b[0m4.897    \u001b[0m |\n",
            "| \u001b[0m24       \u001b[0m | \u001b[0m-2.465e+0\u001b[0m | \u001b[0m8.432    \u001b[0m | \u001b[0m73.9     \u001b[0m | \u001b[0m0.5944   \u001b[0m | \u001b[0m0.1035   \u001b[0m | \u001b[0m39.22    \u001b[0m | \u001b[0m2.738    \u001b[0m | \u001b[0m1.053    \u001b[0m | \u001b[0m0.5569   \u001b[0m | \u001b[0m13.75    \u001b[0m | \u001b[0m0.6784   \u001b[0m | \u001b[0m1.194    \u001b[0m |\n",
            "| \u001b[0m25       \u001b[0m | \u001b[0m-0.7817  \u001b[0m | \u001b[0m5.194    \u001b[0m | \u001b[0m36.48    \u001b[0m | \u001b[0m0.2515   \u001b[0m | \u001b[0m0.2908   \u001b[0m | \u001b[0m226.2    \u001b[0m | \u001b[0m1.369    \u001b[0m | \u001b[0m3.644    \u001b[0m | \u001b[0m0.9485   \u001b[0m | \u001b[0m10.82    \u001b[0m | \u001b[0m0.413    \u001b[0m | \u001b[0m4.04     \u001b[0m |\n",
            "| \u001b[0m26       \u001b[0m | \u001b[0m-0.2828  \u001b[0m | \u001b[0m3.451    \u001b[0m | \u001b[0m33.14    \u001b[0m | \u001b[0m0.6487   \u001b[0m | \u001b[0m0.07471  \u001b[0m | \u001b[0m171.5    \u001b[0m | \u001b[0m3.701    \u001b[0m | \u001b[0m3.723    \u001b[0m | \u001b[0m0.732    \u001b[0m | \u001b[0m5.975    \u001b[0m | \u001b[0m0.4175   \u001b[0m | \u001b[0m1.78     \u001b[0m |\n",
            "| \u001b[0m27       \u001b[0m | \u001b[0mnan      \u001b[0m | \u001b[0m6.634    \u001b[0m | \u001b[0m49.73    \u001b[0m | \u001b[0m0.4491   \u001b[0m | \u001b[0m0.2811   \u001b[0m | \u001b[0m207.0    \u001b[0m | \u001b[0m1.091    \u001b[0m | \u001b[0m1.769    \u001b[0m | \u001b[0m0.5835   \u001b[0m | \u001b[0m9.52     \u001b[0m | \u001b[0m0.7779   \u001b[0m | \u001b[0m3.707    \u001b[0m |\n",
            "| \u001b[0m28       \u001b[0m | \u001b[0m-0.4478  \u001b[0m | \u001b[0m1.044    \u001b[0m | \u001b[0m81.15    \u001b[0m | \u001b[0m0.1923   \u001b[0m | \u001b[0m0.1127   \u001b[0m | \u001b[0m20.01    \u001b[0m | \u001b[0m3.841    \u001b[0m | \u001b[0m3.096    \u001b[0m | \u001b[0m0.1026   \u001b[0m | \u001b[0m18.97    \u001b[0m | \u001b[0m0.3148   \u001b[0m | \u001b[0m1.815    \u001b[0m |\n",
            "| \u001b[0m29       \u001b[0m | \u001b[0mnan      \u001b[0m | \u001b[0m2.379    \u001b[0m | \u001b[0m78.83    \u001b[0m | \u001b[0m0.8627   \u001b[0m | \u001b[0m0.01665  \u001b[0m | \u001b[0m22.68    \u001b[0m | \u001b[0m3.994    \u001b[0m | \u001b[0m2.216    \u001b[0m | \u001b[0m0.8423   \u001b[0m | \u001b[0m4.333    \u001b[0m | \u001b[0m0.8418   \u001b[0m | \u001b[0m0.1556   \u001b[0m |\n",
            "| \u001b[0m30       \u001b[0m | \u001b[0m-0.227   \u001b[0m | \u001b[0m3.778    \u001b[0m | \u001b[0m57.49    \u001b[0m | \u001b[0m0.2268   \u001b[0m | \u001b[0m0.1148   \u001b[0m | \u001b[0m109.1    \u001b[0m | \u001b[0m3.56     \u001b[0m | \u001b[0m1.417    \u001b[0m | \u001b[0m0.6726   \u001b[0m | \u001b[0m12.79    \u001b[0m | \u001b[0m0.132    \u001b[0m | \u001b[0m1.149    \u001b[0m |\n",
            "| \u001b[0m31       \u001b[0m | \u001b[0m-0.4127  \u001b[0m | \u001b[0m3.773    \u001b[0m | \u001b[0m20.9     \u001b[0m | \u001b[0m0.2159   \u001b[0m | \u001b[0m0.09638  \u001b[0m | \u001b[0m208.1    \u001b[0m | \u001b[0m3.521    \u001b[0m | \u001b[0m2.582    \u001b[0m | \u001b[0m0.2638   \u001b[0m | \u001b[0m4.185    \u001b[0m | \u001b[0m0.8751   \u001b[0m | \u001b[0m3.211    \u001b[0m |\n",
            "| \u001b[0m32       \u001b[0m | \u001b[0m-0.1743  \u001b[0m | \u001b[0m3.534    \u001b[0m | \u001b[0m54.04    \u001b[0m | \u001b[0m0.6429   \u001b[0m | \u001b[0m0.1624   \u001b[0m | \u001b[0m183.1    \u001b[0m | \u001b[0m1.134    \u001b[0m | \u001b[0m2.881    \u001b[0m | \u001b[0m0.9698   \u001b[0m | \u001b[0m16.89    \u001b[0m | \u001b[0m0.7615   \u001b[0m | \u001b[0m3.419    \u001b[0m |\n",
            "| \u001b[0m33       \u001b[0m | \u001b[0m-0.08124 \u001b[0m | \u001b[0m1.13     \u001b[0m | \u001b[0m43.61    \u001b[0m | \u001b[0m0.02596  \u001b[0m | \u001b[0m0.02421  \u001b[0m | \u001b[0m29.7     \u001b[0m | \u001b[0m2.366    \u001b[0m | \u001b[0m1.093    \u001b[0m | \u001b[0m0.9614   \u001b[0m | \u001b[0m10.12    \u001b[0m | \u001b[0m0.3739   \u001b[0m | \u001b[0m3.538    \u001b[0m |\n",
            "| \u001b[0m34       \u001b[0m | \u001b[0m-0.4331  \u001b[0m | \u001b[0m0.4243   \u001b[0m | \u001b[0m78.33    \u001b[0m | \u001b[0m0.09263  \u001b[0m | \u001b[0m0.2927   \u001b[0m | \u001b[0m114.7    \u001b[0m | \u001b[0m3.363    \u001b[0m | \u001b[0m3.902    \u001b[0m | \u001b[0m0.9295   \u001b[0m | \u001b[0m16.87    \u001b[0m | \u001b[0m0.9213   \u001b[0m | \u001b[0m4.981    \u001b[0m |\n",
            "| \u001b[0m35       \u001b[0m | \u001b[0m-2.532   \u001b[0m | \u001b[0m5.114    \u001b[0m | \u001b[0m87.1     \u001b[0m | \u001b[0m0.6261   \u001b[0m | \u001b[0m0.02439  \u001b[0m | \u001b[0m199.6    \u001b[0m | \u001b[0m2.073    \u001b[0m | \u001b[0m3.369    \u001b[0m | \u001b[0m0.5824   \u001b[0m | \u001b[0m16.31    \u001b[0m | \u001b[0m0.8083   \u001b[0m | \u001b[0m2.318    \u001b[0m |\n",
            "| \u001b[0m36       \u001b[0m | \u001b[0m-0.9924  \u001b[0m | \u001b[0m8.714    \u001b[0m | \u001b[0m92.06    \u001b[0m | \u001b[0m0.8254   \u001b[0m | \u001b[0m0.1261   \u001b[0m | \u001b[0m40.47    \u001b[0m | \u001b[0m2.957    \u001b[0m | \u001b[0m1.939    \u001b[0m | \u001b[0m0.4942   \u001b[0m | \u001b[0m16.39    \u001b[0m | \u001b[0m0.3685   \u001b[0m | \u001b[0m6.649    \u001b[0m |\n",
            "| \u001b[0m37       \u001b[0m | \u001b[0m-0.9291  \u001b[0m | \u001b[0m2.427    \u001b[0m | \u001b[0m30.05    \u001b[0m | \u001b[0m0.7311   \u001b[0m | \u001b[0m0.0348   \u001b[0m | \u001b[0m234.5    \u001b[0m | \u001b[0m1.081    \u001b[0m | \u001b[0m2.334    \u001b[0m | \u001b[0m0.6629   \u001b[0m | \u001b[0m4.526    \u001b[0m | \u001b[0m0.06044  \u001b[0m | \u001b[0m6.577    \u001b[0m |\n",
            "| \u001b[0m38       \u001b[0m | \u001b[0mnan      \u001b[0m | \u001b[0m8.431    \u001b[0m | \u001b[0m95.25    \u001b[0m | \u001b[0m0.1431   \u001b[0m | \u001b[0m0.1666   \u001b[0m | \u001b[0m55.71    \u001b[0m | \u001b[0m2.272    \u001b[0m | \u001b[0m3.393    \u001b[0m | \u001b[0m0.2043   \u001b[0m | \u001b[0m11.82    \u001b[0m | \u001b[0m0.1615   \u001b[0m | \u001b[0m0.02859  \u001b[0m |\n",
            "| \u001b[0m39       \u001b[0m | \u001b[0m-0.4248  \u001b[0m | \u001b[0m5.46     \u001b[0m | \u001b[0m97.14    \u001b[0m | \u001b[0m0.8462   \u001b[0m | \u001b[0m0.1998   \u001b[0m | \u001b[0m193.8    \u001b[0m | \u001b[0m1.19     \u001b[0m | \u001b[0m2.41     \u001b[0m | \u001b[0m0.3233   \u001b[0m | \u001b[0m6.07     \u001b[0m | \u001b[0m0.5136   \u001b[0m | \u001b[0m2.183    \u001b[0m |\n",
            "| \u001b[0m40       \u001b[0m | \u001b[0mnan      \u001b[0m | \u001b[0m7.003    \u001b[0m | \u001b[0m41.15    \u001b[0m | \u001b[0m0.9209   \u001b[0m | \u001b[0m0.2211   \u001b[0m | \u001b[0m20.68    \u001b[0m | \u001b[0m3.889    \u001b[0m | \u001b[0m3.003    \u001b[0m | \u001b[0m0.1121   \u001b[0m | \u001b[0m17.19    \u001b[0m | \u001b[0m0.3268   \u001b[0m | \u001b[0m4.972    \u001b[0m |\n"
          ]
        },
        {
          "ename": "ValueError",
          "evalue": "ignored",
          "output_type": "error",
          "traceback": [
            "\u001b[0;31m---------------------------------------------------------------------------\u001b[0m",
            "\u001b[0;31mStopIteration\u001b[0m                             Traceback (most recent call last)",
            "\u001b[0;32m/usr/local/lib/python3.8/dist-packages/bayes_opt/bayesian_optimization.py\u001b[0m in \u001b[0;36mmaximize\u001b[0;34m(self, init_points, n_iter, acquisition_function, acq, kappa, kappa_decay, kappa_decay_delay, xi, **gp_params)\u001b[0m\n\u001b[1;32m    305\u001b[0m             \u001b[0;32mtry\u001b[0m\u001b[0;34m:\u001b[0m\u001b[0;34m\u001b[0m\u001b[0;34m\u001b[0m\u001b[0m\n\u001b[0;32m--> 306\u001b[0;31m                 \u001b[0mx_probe\u001b[0m \u001b[0;34m=\u001b[0m \u001b[0mnext\u001b[0m\u001b[0;34m(\u001b[0m\u001b[0mself\u001b[0m\u001b[0;34m.\u001b[0m\u001b[0m_queue\u001b[0m\u001b[0;34m)\u001b[0m\u001b[0;34m\u001b[0m\u001b[0;34m\u001b[0m\u001b[0m\n\u001b[0m\u001b[1;32m    307\u001b[0m             \u001b[0;32mexcept\u001b[0m \u001b[0mStopIteration\u001b[0m\u001b[0;34m:\u001b[0m\u001b[0;34m\u001b[0m\u001b[0;34m\u001b[0m\u001b[0m\n",
            "\u001b[0;32m/usr/local/lib/python3.8/dist-packages/bayes_opt/bayesian_optimization.py\u001b[0m in \u001b[0;36m__next__\u001b[0;34m(self)\u001b[0m\n\u001b[1;32m     26\u001b[0m         \u001b[0;32mif\u001b[0m \u001b[0mself\u001b[0m\u001b[0;34m.\u001b[0m\u001b[0mempty\u001b[0m\u001b[0;34m:\u001b[0m\u001b[0;34m\u001b[0m\u001b[0;34m\u001b[0m\u001b[0m\n\u001b[0;32m---> 27\u001b[0;31m             \u001b[0;32mraise\u001b[0m \u001b[0mStopIteration\u001b[0m\u001b[0;34m(\u001b[0m\u001b[0;34m\"Queue is empty, no more objects to retrieve.\"\u001b[0m\u001b[0;34m)\u001b[0m\u001b[0;34m\u001b[0m\u001b[0;34m\u001b[0m\u001b[0m\n\u001b[0m\u001b[1;32m     28\u001b[0m         \u001b[0mobj\u001b[0m \u001b[0;34m=\u001b[0m \u001b[0mself\u001b[0m\u001b[0;34m.\u001b[0m\u001b[0m_queue\u001b[0m\u001b[0;34m[\u001b[0m\u001b[0;36m0\u001b[0m\u001b[0;34m]\u001b[0m\u001b[0;34m\u001b[0m\u001b[0;34m\u001b[0m\u001b[0m\n",
            "\u001b[0;31mStopIteration\u001b[0m: Queue is empty, no more objects to retrieve.",
            "\nDuring handling of the above exception, another exception occurred:\n",
            "\u001b[0;31mValueError\u001b[0m                                Traceback (most recent call last)",
            "\u001b[0;32m<ipython-input-17-6b5b24c37e7e>\u001b[0m in \u001b[0;36m<module>\u001b[0;34m\u001b[0m\n\u001b[1;32m      1\u001b[0m \u001b[0;31m# Run Bayesian Optimization\u001b[0m\u001b[0;34m\u001b[0m\u001b[0;34m\u001b[0m\u001b[0;34m\u001b[0m\u001b[0m\n\u001b[1;32m      2\u001b[0m \u001b[0mnn_bo\u001b[0m \u001b[0;34m=\u001b[0m \u001b[0mBayesianOptimization\u001b[0m\u001b[0;34m(\u001b[0m\u001b[0mnn_cl_bo2\u001b[0m\u001b[0;34m,\u001b[0m \u001b[0mparams_nn2\u001b[0m\u001b[0;34m,\u001b[0m \u001b[0mrandom_state\u001b[0m\u001b[0;34m=\u001b[0m\u001b[0;36m111\u001b[0m\u001b[0;34m)\u001b[0m\u001b[0;34m\u001b[0m\u001b[0;34m\u001b[0m\u001b[0m\n\u001b[0;32m----> 3\u001b[0;31m \u001b[0mnn_bo\u001b[0m\u001b[0;34m.\u001b[0m\u001b[0mmaximize\u001b[0m\u001b[0;34m(\u001b[0m\u001b[0minit_points\u001b[0m\u001b[0;34m=\u001b[0m\u001b[0;36m40\u001b[0m\u001b[0;34m,\u001b[0m \u001b[0mn_iter\u001b[0m\u001b[0;34m=\u001b[0m\u001b[0;36m15\u001b[0m\u001b[0;34m,\u001b[0m \u001b[0;34m)\u001b[0m\u001b[0;34m\u001b[0m\u001b[0;34m\u001b[0m\u001b[0m\n\u001b[0m",
            "\u001b[0;32m/usr/local/lib/python3.8/dist-packages/bayes_opt/bayesian_optimization.py\u001b[0m in \u001b[0;36mmaximize\u001b[0;34m(self, init_points, n_iter, acquisition_function, acq, kappa, kappa_decay, kappa_decay_delay, xi, **gp_params)\u001b[0m\n\u001b[1;32m    307\u001b[0m             \u001b[0;32mexcept\u001b[0m \u001b[0mStopIteration\u001b[0m\u001b[0;34m:\u001b[0m\u001b[0;34m\u001b[0m\u001b[0;34m\u001b[0m\u001b[0m\n\u001b[1;32m    308\u001b[0m                 \u001b[0mutil\u001b[0m\u001b[0;34m.\u001b[0m\u001b[0mupdate_params\u001b[0m\u001b[0;34m(\u001b[0m\u001b[0;34m)\u001b[0m\u001b[0;34m\u001b[0m\u001b[0;34m\u001b[0m\u001b[0m\n\u001b[0;32m--> 309\u001b[0;31m                 \u001b[0mx_probe\u001b[0m \u001b[0;34m=\u001b[0m \u001b[0mself\u001b[0m\u001b[0;34m.\u001b[0m\u001b[0msuggest\u001b[0m\u001b[0;34m(\u001b[0m\u001b[0mutil\u001b[0m\u001b[0;34m)\u001b[0m\u001b[0;34m\u001b[0m\u001b[0;34m\u001b[0m\u001b[0m\n\u001b[0m\u001b[1;32m    310\u001b[0m                 \u001b[0miteration\u001b[0m \u001b[0;34m+=\u001b[0m \u001b[0;36m1\u001b[0m\u001b[0;34m\u001b[0m\u001b[0;34m\u001b[0m\u001b[0m\n\u001b[1;32m    311\u001b[0m             \u001b[0mself\u001b[0m\u001b[0;34m.\u001b[0m\u001b[0mprobe\u001b[0m\u001b[0;34m(\u001b[0m\u001b[0mx_probe\u001b[0m\u001b[0;34m,\u001b[0m \u001b[0mlazy\u001b[0m\u001b[0;34m=\u001b[0m\u001b[0;32mFalse\u001b[0m\u001b[0;34m)\u001b[0m\u001b[0;34m\u001b[0m\u001b[0;34m\u001b[0m\u001b[0m\n",
            "\u001b[0;32m/usr/local/lib/python3.8/dist-packages/bayes_opt/bayesian_optimization.py\u001b[0m in \u001b[0;36msuggest\u001b[0;34m(self, utility_function)\u001b[0m\n\u001b[1;32m    218\u001b[0m         \u001b[0;32mwith\u001b[0m \u001b[0mwarnings\u001b[0m\u001b[0;34m.\u001b[0m\u001b[0mcatch_warnings\u001b[0m\u001b[0;34m(\u001b[0m\u001b[0;34m)\u001b[0m\u001b[0;34m:\u001b[0m\u001b[0;34m\u001b[0m\u001b[0;34m\u001b[0m\u001b[0m\n\u001b[1;32m    219\u001b[0m             \u001b[0mwarnings\u001b[0m\u001b[0;34m.\u001b[0m\u001b[0msimplefilter\u001b[0m\u001b[0;34m(\u001b[0m\u001b[0;34m\"ignore\"\u001b[0m\u001b[0;34m)\u001b[0m\u001b[0;34m\u001b[0m\u001b[0;34m\u001b[0m\u001b[0m\n\u001b[0;32m--> 220\u001b[0;31m             \u001b[0mself\u001b[0m\u001b[0;34m.\u001b[0m\u001b[0m_gp\u001b[0m\u001b[0;34m.\u001b[0m\u001b[0mfit\u001b[0m\u001b[0;34m(\u001b[0m\u001b[0mself\u001b[0m\u001b[0;34m.\u001b[0m\u001b[0m_space\u001b[0m\u001b[0;34m.\u001b[0m\u001b[0mparams\u001b[0m\u001b[0;34m,\u001b[0m \u001b[0mself\u001b[0m\u001b[0;34m.\u001b[0m\u001b[0m_space\u001b[0m\u001b[0;34m.\u001b[0m\u001b[0mtarget\u001b[0m\u001b[0;34m)\u001b[0m\u001b[0;34m\u001b[0m\u001b[0;34m\u001b[0m\u001b[0m\n\u001b[0m\u001b[1;32m    221\u001b[0m             \u001b[0;32mif\u001b[0m \u001b[0mself\u001b[0m\u001b[0;34m.\u001b[0m\u001b[0mis_constrained\u001b[0m\u001b[0;34m:\u001b[0m\u001b[0;34m\u001b[0m\u001b[0;34m\u001b[0m\u001b[0m\n\u001b[1;32m    222\u001b[0m                 self.constraint.fit(self._space.params,\n",
            "\u001b[0;32m/usr/local/lib/python3.8/dist-packages/sklearn/gaussian_process/_gpr.py\u001b[0m in \u001b[0;36mfit\u001b[0;34m(self, X, y)\u001b[0m\n\u001b[1;32m    222\u001b[0m         \u001b[0;32melse\u001b[0m\u001b[0;34m:\u001b[0m\u001b[0;34m\u001b[0m\u001b[0;34m\u001b[0m\u001b[0m\n\u001b[1;32m    223\u001b[0m             \u001b[0mdtype\u001b[0m\u001b[0;34m,\u001b[0m \u001b[0mensure_2d\u001b[0m \u001b[0;34m=\u001b[0m \u001b[0;32mNone\u001b[0m\u001b[0;34m,\u001b[0m \u001b[0;32mFalse\u001b[0m\u001b[0;34m\u001b[0m\u001b[0;34m\u001b[0m\u001b[0m\n\u001b[0;32m--> 224\u001b[0;31m         X, y = self._validate_data(\n\u001b[0m\u001b[1;32m    225\u001b[0m             \u001b[0mX\u001b[0m\u001b[0;34m,\u001b[0m\u001b[0;34m\u001b[0m\u001b[0;34m\u001b[0m\u001b[0m\n\u001b[1;32m    226\u001b[0m             \u001b[0my\u001b[0m\u001b[0;34m,\u001b[0m\u001b[0;34m\u001b[0m\u001b[0;34m\u001b[0m\u001b[0m\n",
            "\u001b[0;32m/usr/local/lib/python3.8/dist-packages/sklearn/base.py\u001b[0m in \u001b[0;36m_validate_data\u001b[0;34m(self, X, y, reset, validate_separately, **check_params)\u001b[0m\n\u001b[1;32m    579\u001b[0m                 \u001b[0my\u001b[0m \u001b[0;34m=\u001b[0m \u001b[0mcheck_array\u001b[0m\u001b[0;34m(\u001b[0m\u001b[0my\u001b[0m\u001b[0;34m,\u001b[0m \u001b[0;34m**\u001b[0m\u001b[0mcheck_y_params\u001b[0m\u001b[0;34m)\u001b[0m\u001b[0;34m\u001b[0m\u001b[0;34m\u001b[0m\u001b[0m\n\u001b[1;32m    580\u001b[0m             \u001b[0;32melse\u001b[0m\u001b[0;34m:\u001b[0m\u001b[0;34m\u001b[0m\u001b[0;34m\u001b[0m\u001b[0m\n\u001b[0;32m--> 581\u001b[0;31m                 \u001b[0mX\u001b[0m\u001b[0;34m,\u001b[0m \u001b[0my\u001b[0m \u001b[0;34m=\u001b[0m \u001b[0mcheck_X_y\u001b[0m\u001b[0;34m(\u001b[0m\u001b[0mX\u001b[0m\u001b[0;34m,\u001b[0m \u001b[0my\u001b[0m\u001b[0;34m,\u001b[0m \u001b[0;34m**\u001b[0m\u001b[0mcheck_params\u001b[0m\u001b[0;34m)\u001b[0m\u001b[0;34m\u001b[0m\u001b[0;34m\u001b[0m\u001b[0m\n\u001b[0m\u001b[1;32m    582\u001b[0m             \u001b[0mout\u001b[0m \u001b[0;34m=\u001b[0m \u001b[0mX\u001b[0m\u001b[0;34m,\u001b[0m \u001b[0my\u001b[0m\u001b[0;34m\u001b[0m\u001b[0;34m\u001b[0m\u001b[0m\n\u001b[1;32m    583\u001b[0m \u001b[0;34m\u001b[0m\u001b[0m\n",
            "\u001b[0;32m/usr/local/lib/python3.8/dist-packages/sklearn/utils/validation.py\u001b[0m in \u001b[0;36mcheck_X_y\u001b[0;34m(X, y, accept_sparse, accept_large_sparse, dtype, order, copy, force_all_finite, ensure_2d, allow_nd, multi_output, ensure_min_samples, ensure_min_features, y_numeric, estimator)\u001b[0m\n\u001b[1;32m    977\u001b[0m     )\n\u001b[1;32m    978\u001b[0m \u001b[0;34m\u001b[0m\u001b[0m\n\u001b[0;32m--> 979\u001b[0;31m     \u001b[0my\u001b[0m \u001b[0;34m=\u001b[0m \u001b[0m_check_y\u001b[0m\u001b[0;34m(\u001b[0m\u001b[0my\u001b[0m\u001b[0;34m,\u001b[0m \u001b[0mmulti_output\u001b[0m\u001b[0;34m=\u001b[0m\u001b[0mmulti_output\u001b[0m\u001b[0;34m,\u001b[0m \u001b[0my_numeric\u001b[0m\u001b[0;34m=\u001b[0m\u001b[0my_numeric\u001b[0m\u001b[0;34m)\u001b[0m\u001b[0;34m\u001b[0m\u001b[0;34m\u001b[0m\u001b[0m\n\u001b[0m\u001b[1;32m    980\u001b[0m \u001b[0;34m\u001b[0m\u001b[0m\n\u001b[1;32m    981\u001b[0m     \u001b[0mcheck_consistent_length\u001b[0m\u001b[0;34m(\u001b[0m\u001b[0mX\u001b[0m\u001b[0;34m,\u001b[0m \u001b[0my\u001b[0m\u001b[0;34m)\u001b[0m\u001b[0;34m\u001b[0m\u001b[0;34m\u001b[0m\u001b[0m\n",
            "\u001b[0;32m/usr/local/lib/python3.8/dist-packages/sklearn/utils/validation.py\u001b[0m in \u001b[0;36m_check_y\u001b[0;34m(y, multi_output, y_numeric)\u001b[0m\n\u001b[1;32m    987\u001b[0m     \u001b[0;34m\"\"\"Isolated part of check_X_y dedicated to y validation\"\"\"\u001b[0m\u001b[0;34m\u001b[0m\u001b[0;34m\u001b[0m\u001b[0m\n\u001b[1;32m    988\u001b[0m     \u001b[0;32mif\u001b[0m \u001b[0mmulti_output\u001b[0m\u001b[0;34m:\u001b[0m\u001b[0;34m\u001b[0m\u001b[0;34m\u001b[0m\u001b[0m\n\u001b[0;32m--> 989\u001b[0;31m         y = check_array(\n\u001b[0m\u001b[1;32m    990\u001b[0m             \u001b[0my\u001b[0m\u001b[0;34m,\u001b[0m \u001b[0maccept_sparse\u001b[0m\u001b[0;34m=\u001b[0m\u001b[0;34m\"csr\"\u001b[0m\u001b[0;34m,\u001b[0m \u001b[0mforce_all_finite\u001b[0m\u001b[0;34m=\u001b[0m\u001b[0;32mTrue\u001b[0m\u001b[0;34m,\u001b[0m \u001b[0mensure_2d\u001b[0m\u001b[0;34m=\u001b[0m\u001b[0;32mFalse\u001b[0m\u001b[0;34m,\u001b[0m \u001b[0mdtype\u001b[0m\u001b[0;34m=\u001b[0m\u001b[0;32mNone\u001b[0m\u001b[0;34m\u001b[0m\u001b[0;34m\u001b[0m\u001b[0m\n\u001b[1;32m    991\u001b[0m         )\n",
            "\u001b[0;32m/usr/local/lib/python3.8/dist-packages/sklearn/utils/validation.py\u001b[0m in \u001b[0;36mcheck_array\u001b[0;34m(array, accept_sparse, accept_large_sparse, dtype, order, copy, force_all_finite, ensure_2d, allow_nd, ensure_min_samples, ensure_min_features, estimator)\u001b[0m\n\u001b[1;32m    798\u001b[0m \u001b[0;34m\u001b[0m\u001b[0m\n\u001b[1;32m    799\u001b[0m         \u001b[0;32mif\u001b[0m \u001b[0mforce_all_finite\u001b[0m\u001b[0;34m:\u001b[0m\u001b[0;34m\u001b[0m\u001b[0;34m\u001b[0m\u001b[0m\n\u001b[0;32m--> 800\u001b[0;31m             \u001b[0m_assert_all_finite\u001b[0m\u001b[0;34m(\u001b[0m\u001b[0marray\u001b[0m\u001b[0;34m,\u001b[0m \u001b[0mallow_nan\u001b[0m\u001b[0;34m=\u001b[0m\u001b[0mforce_all_finite\u001b[0m \u001b[0;34m==\u001b[0m \u001b[0;34m\"allow-nan\"\u001b[0m\u001b[0;34m)\u001b[0m\u001b[0;34m\u001b[0m\u001b[0;34m\u001b[0m\u001b[0m\n\u001b[0m\u001b[1;32m    801\u001b[0m \u001b[0;34m\u001b[0m\u001b[0m\n\u001b[1;32m    802\u001b[0m     \u001b[0;32mif\u001b[0m \u001b[0mensure_min_samples\u001b[0m \u001b[0;34m>\u001b[0m \u001b[0;36m0\u001b[0m\u001b[0;34m:\u001b[0m\u001b[0;34m\u001b[0m\u001b[0;34m\u001b[0m\u001b[0m\n",
            "\u001b[0;32m/usr/local/lib/python3.8/dist-packages/sklearn/utils/validation.py\u001b[0m in \u001b[0;36m_assert_all_finite\u001b[0;34m(X, allow_nan, msg_dtype)\u001b[0m\n\u001b[1;32m    112\u001b[0m         ):\n\u001b[1;32m    113\u001b[0m             \u001b[0mtype_err\u001b[0m \u001b[0;34m=\u001b[0m \u001b[0;34m\"infinity\"\u001b[0m \u001b[0;32mif\u001b[0m \u001b[0mallow_nan\u001b[0m \u001b[0;32melse\u001b[0m \u001b[0;34m\"NaN, infinity\"\u001b[0m\u001b[0;34m\u001b[0m\u001b[0;34m\u001b[0m\u001b[0m\n\u001b[0;32m--> 114\u001b[0;31m             raise ValueError(\n\u001b[0m\u001b[1;32m    115\u001b[0m                 msg_err.format(\n\u001b[1;32m    116\u001b[0m                     \u001b[0mtype_err\u001b[0m\u001b[0;34m,\u001b[0m \u001b[0mmsg_dtype\u001b[0m \u001b[0;32mif\u001b[0m \u001b[0mmsg_dtype\u001b[0m \u001b[0;32mis\u001b[0m \u001b[0;32mnot\u001b[0m \u001b[0;32mNone\u001b[0m \u001b[0;32melse\u001b[0m \u001b[0mX\u001b[0m\u001b[0;34m.\u001b[0m\u001b[0mdtype\u001b[0m\u001b[0;34m\u001b[0m\u001b[0;34m\u001b[0m\u001b[0m\n",
            "\u001b[0;31mValueError\u001b[0m: Input contains NaN, infinity or a value too large for dtype('float64')."
          ]
        }
      ],
      "source": [
        "# Run Bayesian Optimization\n",
        "nn_bo = BayesianOptimization(nn_cl_bo2, params_nn2, random_state=111)\n",
        "nn_bo.maximize(init_points=40, n_iter=15, )"
      ]
    },
    {
      "cell_type": "code",
      "execution_count": null,
      "metadata": {
        "colab": {
          "base_uri": "https://localhost:8080/"
        },
        "id": "ditixn_duXfl",
        "outputId": "669a3623-eddc-43dc-e503-893a232bf11f"
      },
      "outputs": [
        {
          "data": {
            "text/plain": [
              "{'activation': 'exponential',\n",
              " 'batch_size': 99,\n",
              " 'dropout': 0.5772738296076794,\n",
              " 'dropout_rate': 0.2441300751109463,\n",
              " 'epochs': 117,\n",
              " 'layers1': 1,\n",
              " 'layers2': 2,\n",
              " 'learning_rate': 0.11427282446194219,\n",
              " 'neurons': 17,\n",
              " 'normalization': 0.6977277345956326,\n",
              " 'optimizer': <keras.optimizers.optimizer_v2.adagrad.Adagrad at 0x7f6e8db8fbb0>}"
            ]
          },
          "execution_count": 18,
          "metadata": {},
          "output_type": "execute_result"
        }
      ],
      "source": [
        "params_nn_ = nn_bo.max['params']\n",
        "learning_rate = params_nn_['learning_rate']\n",
        "activationL = ['relu', 'sigmoid', 'softplus', 'softsign', 'tanh', 'selu',\n",
        "               'elu', 'exponential', LeakyReLU,'relu']\n",
        "params_nn_['activation'] = activationL[round(params_nn_['activation'])]\n",
        "params_nn_['batch_size'] = round(params_nn_['batch_size'])\n",
        "params_nn_['epochs'] = round(params_nn_['epochs'])\n",
        "params_nn_['layers1'] = round(params_nn_['layers1'])\n",
        "params_nn_['layers2'] = round(params_nn_['layers2'])\n",
        "params_nn_['neurons'] = round(params_nn_['neurons'])\n",
        "optimizerL = ['Adam', 'SGD', 'RMSprop', 'Adadelta', 'Adagrad', 'Adamax', 'Nadam', 'Ftrl','Adam']\n",
        "optimizerD= {'Adam':Adam(lr=learning_rate), 'SGD':SGD(lr=learning_rate),\n",
        "             'RMSprop':RMSprop(lr=learning_rate), 'Adadelta':Adadelta(lr=learning_rate),\n",
        "             'Adagrad':Adagrad(lr=learning_rate), 'Adamax':Adamax(lr=learning_rate),\n",
        "             'Nadam':Nadam(lr=learning_rate), 'Ftrl':Ftrl(lr=learning_rate)}\n",
        "params_nn_['optimizer'] = optimizerD[optimizerL[round(params_nn_['optimizer'])]]\n",
        "params_nn_"
      ]
    },
    {
      "cell_type": "code",
      "execution_count": null,
      "metadata": {
        "id": "K8-XG_k2uXjj"
      },
      "outputs": [],
      "source": []
    },
    {
      "cell_type": "code",
      "execution_count": null,
      "metadata": {
        "id": "DYNxG0LxuV1A"
      },
      "outputs": [],
      "source": []
    },
    {
      "cell_type": "code",
      "execution_count": null,
      "metadata": {
        "id": "JGsNh7MyuV52"
      },
      "outputs": [],
      "source": []
    },
    {
      "cell_type": "code",
      "execution_count": null,
      "metadata": {
        "id": "I_0zsyZquV_U"
      },
      "outputs": [],
      "source": []
    },
    {
      "cell_type": "code",
      "execution_count": null,
      "metadata": {
        "id": "YDs_WpPUffGv"
      },
      "outputs": [],
      "source": [
        "### gridsearch"
      ]
    },
    {
      "cell_type": "code",
      "execution_count": null,
      "metadata": {
        "id": "FlZDghjgkgTI"
      },
      "outputs": [],
      "source": [
        "def find_layer_nodes_linear(n_layers, first_layer_nodes, last_layer_nodes):\n",
        "    layers = []\n",
        "    \n",
        "    nodes_increment = (last_layer_nodes - first_layer_nodes)/ (n_layers-1)\n",
        "    nodes = first_layer_nodes\n",
        "    for i in range(1, n_layers+1):\n",
        "        layers.append(math.ceil(nodes))\n",
        "        nodes = nodes + nodes_increment\n",
        "    \n",
        "    return layers"
      ]
    },
    {
      "cell_type": "code",
      "execution_count": null,
      "metadata": {
        "colab": {
          "base_uri": "https://localhost:8080/"
        },
        "id": "Qk9GIi3ngj26",
        "outputId": "0860d6f4-42df-4e29-b423-33e51b70ea4b"
      },
      "outputs": [
        {
          "data": {
            "text/plain": [
              "[9, 5, 1]"
            ]
          },
          "execution_count": 19,
          "metadata": {},
          "output_type": "execute_result"
        }
      ],
      "source": [
        "find_layer_nodes_linear(3,9,1)"
      ]
    },
    {
      "cell_type": "code",
      "execution_count": null,
      "metadata": {
        "id": "UHCs3EtDkgLc"
      },
      "outputs": [],
      "source": [
        "def createmodel(n_layers, first_layer_nodes, last_layer_nodes, learning_rate, momentum, activation_func, loss_func):\n",
        "    model = Sequential()\n",
        "    n_nodes = find_layer_nodes_linear(n_layers, first_layer_nodes, last_layer_nodes)\n",
        "    #n_nodes.remove(1)\n",
        "    for i in range(1, n_layers):\n",
        "        if i==1:\n",
        "            model.add(Dense(first_layer_nodes, input_dim=4, activation=activation_func))\n",
        "        else:\n",
        "            model.add(Dense(n_nodes[i-1], activation=activation_func))\n",
        "            \n",
        "    #Finally, the output layer should have a single node in binary classification\n",
        "    model.add(Dense(2, activation=\"linear\"))\n",
        "    opt = tf.keras.optimizers.experimental.SGD(learning_rate, momentum=momentum)\n",
        "    model.compile(optimizer=opt, loss=loss_func, metrics = [\"mse\"]) #note: metrics could also be 'mse'\n",
        "    \n",
        "    return model\n",
        "\n",
        "##Wrap model into scikit-learn\n",
        "model =  KerasRegressor(build_fn=createmodel, verbose = False)  "
      ]
    },
    {
      "cell_type": "code",
      "execution_count": null,
      "metadata": {
        "id": "rsGKmm5ekgGI"
      },
      "outputs": [],
      "source": [
        "activation_funcs = ['relu', 'elu'] \n",
        "loss_funcs = [euclidean_distance_loss]\n",
        "param_grid = dict(n_layers=[2,3,4,5], first_layer_nodes = [9], last_layer_nodes = [2],  learning_rate = [0.001, 0.01, 0.1], momentum = [0.05, 0.01, 0.1],\n",
        "                  activation_func = activation_funcs, loss_func = loss_funcs, batch_size = [20,50], epochs = [250])\n",
        "grid = GridSearchCV(estimator = model, param_grid = param_grid, scoring=\"neg_mean_absolute_percentage_error\")"
      ]
    },
    {
      "cell_type": "code",
      "execution_count": null,
      "metadata": {
        "id": "ELeOHBx22_Ew"
      },
      "outputs": [],
      "source": []
    },
    {
      "cell_type": "code",
      "execution_count": null,
      "metadata": {
        "id": "g_SbxR-6kf-N"
      },
      "outputs": [],
      "source": []
    },
    {
      "cell_type": "code",
      "execution_count": null,
      "metadata": {
        "colab": {
          "base_uri": "https://localhost:8080/"
        },
        "id": "EWU1U2fTkfxf",
        "outputId": "da4fa9fe-a64d-4556-e462-e11d41b6a443"
      },
      "outputs": [
        {
          "name": "stdout",
          "output_type": "stream",
          "text": [
            "CPU times: user 2h 53min 19s, sys: 9min 33s, total: 3h 2min 52s\n",
            "Wall time: 2h 53min 1s\n"
          ]
        },
        {
          "data": {
            "text/plain": [
              "GridSearchCV(estimator=<keras.wrappers.scikit_learn.KerasRegressor object at 0x7f6e9829ba00>,\n",
              "             param_grid={'activation_func': ['relu', 'elu'],\n",
              "                         'batch_size': [20, 50], 'epochs': [250],\n",
              "                         'first_layer_nodes': [9], 'last_layer_nodes': [2],\n",
              "                         'learning_rate': [0.001, 0.01, 0.1],\n",
              "                         'loss_func': [<function euclidean_distance_loss at 0x7f6e980ac310>],\n",
              "                         'momentum': [0.05, 0.01, 0.1],\n",
              "                         'n_layers': [2, 3, 4, 5]},\n",
              "             scoring='neg_mean_absolute_percentage_error')"
            ]
          },
          "execution_count": 48,
          "metadata": {},
          "output_type": "execute_result"
        }
      ],
      "source": [
        "%%time\n",
        "grid.fit(X_train,y_train)"
      ]
    },
    {
      "cell_type": "code",
      "execution_count": null,
      "metadata": {
        "colab": {
          "base_uri": "https://localhost:8080/"
        },
        "id": "ctJeIdbbszXg",
        "outputId": "75874355-9689-4d8d-967b-e04cfde91009"
      },
      "outputs": [
        {
          "name": "stdout",
          "output_type": "stream",
          "text": [
            "-0.06988696655230583\n",
            "{'activation_func': 'elu', 'batch_size': 20, 'epochs': 250, 'first_layer_nodes': 9, 'last_layer_nodes': 2, 'learning_rate': 0.01, 'loss_func': <function euclidean_distance_loss at 0x7f6e980ac310>, 'momentum': 0.1, 'n_layers': 4}\n"
          ]
        }
      ],
      "source": [
        "print(grid.best_score_)\n",
        "print(grid.best_params_)"
      ]
    },
    {
      "cell_type": "code",
      "execution_count": null,
      "metadata": {
        "id": "zczYpLoXszeo"
      },
      "outputs": [],
      "source": [
        "pd.DataFrame(grid.cv_results_)[['mean_test_score', 'std_test_score', 'params']].to_csv('GridOptimization.csv')"
      ]
    },
    {
      "cell_type": "code",
      "execution_count": null,
      "metadata": {
        "id": "tY_fu22u7y5K"
      },
      "outputs": [],
      "source": []
    },
    {
      "cell_type": "code",
      "execution_count": null,
      "metadata": {
        "id": "vqyiNgPy2Zrj"
      },
      "outputs": [],
      "source": [
        "#create ensemble with 2 different models with params from gridsearch"
      ]
    },
    {
      "cell_type": "code",
      "execution_count": null,
      "metadata": {
        "id": "lvpnfFfh62n1"
      },
      "outputs": [],
      "source": []
    },
    {
      "cell_type": "code",
      "execution_count": null,
      "metadata": {
        "id": "BIUCmjnBpstN"
      },
      "outputs": [],
      "source": []
    },
    {
      "cell_type": "code",
      "execution_count": null,
      "metadata": {
        "id": "AAB8-a4LpsqM"
      },
      "outputs": [],
      "source": [
        "...\n",
        "# define the keras model 1 for cup dataset\n",
        "model_cup_1 = Sequential()\n",
        "model_cup_1.add(Dense(9, input_shape=(9,), activation='elu'))\n",
        "model_cup_1.add(Dense(7, activation='elu'))\n",
        "model_cup_1.add(Dense(5, activation='elu'))\n",
        "model_cup_1.add(Dense(2, activation='linear'))\n",
        "\n",
        "# compile the keras model 1\n",
        "opt = tf.keras.optimizers.experimental.SGD(0.01, momentum=0.1)\n",
        "model_cup_1.compile(optimizer=opt, loss=euclidean_distance_loss, metrics = [\"mse\"])\n",
        "\n",
        "# fit the keras model 1 on the dataset\n",
        "model_cup_1.fit(X_train, y_train, epochs=250, batch_size=20)\n",
        "\n",
        "..."
      ]
    },
    {
      "cell_type": "code",
      "execution_count": null,
      "metadata": {
        "colab": {
          "base_uri": "https://localhost:8080/"
        },
        "id": "LlKUqunH-g7b",
        "outputId": "029298b9-044d-4911-af64-323552edbf23"
      },
      "outputs": [
        {
          "name": "stdout",
          "output_type": "stream",
          "text": [
            "14/14 [==============================] - 0s 2ms/step - loss: 1.4962 - mse: 1.9802\n"
          ]
        }
      ],
      "source": [
        "# evaluate the keras model 1\n",
        "_, accuracy = model_cup_1.evaluate(X_val.values, y_val.values, )"
      ]
    },
    {
      "cell_type": "code",
      "execution_count": null,
      "metadata": {
        "id": "0A-ZS6w06Ud2"
      },
      "outputs": [],
      "source": [
        "...\n",
        "# define the keras model 2 for cup dataset\n",
        "model_cup_2 = Sequential()\n",
        "model_cup_2.add(Dense(9, input_shape=(9,), activation='relu'))\n",
        "model_cup_2.add(Dense(6, activation='relu'))\n",
        "model_cup_2.add(Dense(2, activation='linear'))\n",
        "\n",
        "# compile the keras model 1\n",
        "opt = tf.keras.optimizers.experimental.SGD(0.1, momentum=0.05)\n",
        "model_cup_2.compile(optimizer=opt, loss=euclidean_distance_loss, metrics = [\"mse\"])\n",
        "\n",
        "# fit the keras model 1 on the dataset\n",
        "model_cup_2.fit(X_train, y_train, epochs=250, batch_size=20)\n",
        "..."
      ]
    },
    {
      "cell_type": "code",
      "execution_count": null,
      "metadata": {
        "colab": {
          "base_uri": "https://localhost:8080/"
        },
        "id": "fEB-eC0N-uhP",
        "outputId": "d49ff6fe-ffa3-46f2-ef0b-46cba9e1d239"
      },
      "outputs": [
        {
          "name": "stdout",
          "output_type": "stream",
          "text": [
            "14/14 [==============================] - 0s 2ms/step - loss: 1.7979 - mse: 2.6016\n"
          ]
        }
      ],
      "source": [
        "# evaluate the keras model 2\n",
        "_, accuracy = model_cup_2.evaluate(X_val.values, y_val.values, )"
      ]
    },
    {
      "cell_type": "code",
      "execution_count": null,
      "metadata": {
        "id": "jiJKfBSm74pH"
      },
      "outputs": [],
      "source": [
        "#averaging models making an ensemble\n",
        "models=[model_cup_1, model_cup_2]"
      ]
    },
    {
      "cell_type": "code",
      "execution_count": null,
      "metadata": {
        "colab": {
          "base_uri": "https://localhost:8080/"
        },
        "id": "L2cOuVu58NC3",
        "outputId": "4ae2fd4d-b561-468b-942f-d3d52818eb0f"
      },
      "outputs": [
        {
          "name": "stdout",
          "output_type": "stream",
          "text": [
            "14/14 [==============================] - 0s 2ms/step\n",
            "14/14 [==============================] - 0s 3ms/step\n",
            "1.5328\n"
          ]
        }
      ],
      "source": [
        "yhats = [model.predict(X_val) for model in models]\n",
        "averaged_predictions = (yhats[1]+yhats[0])/2\n",
        "euclidean_loss_ensemble = np.mean(euclidean_distance_loss(averaged_predictions, y_val.values))\n",
        "print(round(euclidean_loss_ensemble,4))"
      ]
    },
    {
      "cell_type": "code",
      "execution_count": null,
      "metadata": {
        "id": "eAgkFXkE8aEh"
      },
      "outputs": [],
      "source": [
        "from numpy import dstack, hstack"
      ]
    },
    {
      "cell_type": "code",
      "execution_count": null,
      "metadata": {
        "id": "bxlenHdFOTH2"
      },
      "outputs": [],
      "source": [
        "#constructing array of outputs from level 1 models\n",
        "predicted_inputs_x = (dstack((yhats[1], yhats[0]))).reshape(yhats[0].shape[0],4)\n",
        "\n",
        "...\n",
        "# define the keras meta model for cup dataset\n",
        "meta_model = Sequential()\n",
        "meta_model.add(Dense(15, input_shape=(4,), activation='elu'))\n",
        "model_cup_2.add(Dense(12, activation='elu'))\n",
        "model_cup_2.add(Dense(9, activation='elu'))\n",
        "model_cup_2.add(Dense(6, activation='elu'))\n",
        "meta_model.add(Dense(2, activation='linear'))\n",
        "\n",
        "# compile the keras model 1\n",
        "opt = tf.keras.optimizers.experimental.SGD(0.01, momentum=0.05)\n",
        "meta_model.compile(optimizer=opt, loss=euclidean_distance_loss, metrics = [\"mse\"])\n",
        "\n",
        "# fit the keras model 1 on the dataset\n",
        "meta_model.fit(predicted_inputs_x, y_val, epochs=500, batch_size=20)\n",
        "...\n"
      ]
    },
    {
      "cell_type": "code",
      "execution_count": null,
      "metadata": {
        "id": "aPFPhjBPOm89"
      },
      "outputs": [],
      "source": [
        "activation_funcs = ['relu', 'elu'] \n",
        "loss_funcs = [euclidean_distance_loss]\n",
        "param_grid = dict(n_layers=[2,3,4,5], first_layer_nodes = [10], last_layer_nodes = [2],  learning_rate = [0.001, 0.01, 0.1], momentum = [0.05, 0.01, 0.1],\n",
        "                  activation_func = activation_funcs, loss_func = loss_funcs, batch_size = [20,50], epochs = [250])\n",
        "grid = GridSearchCV(estimator = model, param_grid = param_grid, scoring=\"neg_mean_absolute_percentage_error\")"
      ]
    },
    {
      "cell_type": "code",
      "execution_count": null,
      "metadata": {
        "colab": {
          "background_save": true
        },
        "id": "tocBrrXkKcOv",
        "outputId": "ab9c255f-a2dc-4fed-d1b4-47bab126a310"
      },
      "outputs": [
        {
          "name": "stderr",
          "output_type": "stream",
          "text": [
            "WARNING:tensorflow:5 out of the last 15 calls to <function Model.make_predict_function.<locals>.predict_function at 0x7fd344d7d0d0> triggered tf.function retracing. Tracing is expensive and the excessive number of tracings could be due to (1) creating @tf.function repeatedly in a loop, (2) passing tensors with different shapes, (3) passing Python objects instead of tensors. For (1), please define your @tf.function outside of the loop. For (2), @tf.function has reduce_retracing=True option that can avoid unnecessary retracing. For (3), please refer to https://www.tensorflow.org/guide/function#controlling_retracing and https://www.tensorflow.org/api_docs/python/tf/function for  more details.\n",
            "WARNING:tensorflow:5 out of the last 12 calls to <function Model.make_predict_function.<locals>.predict_function at 0x7fd3455170d0> triggered tf.function retracing. Tracing is expensive and the excessive number of tracings could be due to (1) creating @tf.function repeatedly in a loop, (2) passing tensors with different shapes, (3) passing Python objects instead of tensors. For (1), please define your @tf.function outside of the loop. For (2), @tf.function has reduce_retracing=True option that can avoid unnecessary retracing. For (3), please refer to https://www.tensorflow.org/guide/function#controlling_retracing and https://www.tensorflow.org/api_docs/python/tf/function for  more details.\n"
          ]
        },
        {
          "name": "stdout",
          "output_type": "stream",
          "text": [
            "CPU times: user 1h 8min 9s, sys: 4min 8s, total: 1h 12min 17s\n",
            "Wall time: 1h 21min 6s\n"
          ]
        },
        {
          "data": {
            "text/plain": [
              "GridSearchCV(estimator=<keras.wrappers.scikit_learn.KerasRegressor object at 0x7fd33ff5d7f0>,\n",
              "             param_grid={'activation_func': ['relu', 'elu'],\n",
              "                         'batch_size': [20, 50], 'epochs': [250],\n",
              "                         'first_layer_nodes': [10], 'last_layer_nodes': [2],\n",
              "                         'learning_rate': [0.001, 0.01, 0.1],\n",
              "                         'loss_func': [<function euclidean_distance_loss at 0x7fd34b792700>],\n",
              "                         'momentum': [0.05, 0.01, 0.1],\n",
              "                         'n_layers': [2, 3, 4, 5]},\n",
              "             scoring='neg_mean_absolute_percentage_error')"
            ]
          },
          "execution_count": 121,
          "metadata": {},
          "output_type": "execute_result"
        }
      ],
      "source": [
        "%%time\n",
        "grid.fit(predicted_inputs_x,y_val)"
      ]
    },
    {
      "cell_type": "code",
      "execution_count": null,
      "metadata": {
        "colab": {
          "background_save": true
        },
        "id": "YDvhjSlcKhxo",
        "outputId": "72c2f0dc-bb81-43d8-ac08-94c3a40a8249"
      },
      "outputs": [
        {
          "name": "stdout",
          "output_type": "stream",
          "text": [
            "-0.070183868016341\n",
            "{'activation_func': 'elu', 'batch_size': 20, 'epochs': 250, 'first_layer_nodes': 10, 'last_layer_nodes': 2, 'learning_rate': 0.001, 'loss_func': <function euclidean_distance_loss at 0x7fd34b792700>, 'momentum': 0.1, 'n_layers': 2}\n"
          ]
        }
      ],
      "source": [
        "print(grid.best_score_)\n",
        "print(grid.best_params_)"
      ]
    },
    {
      "cell_type": "code",
      "execution_count": null,
      "metadata": {
        "colab": {
          "background_save": true
        },
        "id": "eOKzOxZvLliy"
      },
      "outputs": [],
      "source": [
        "pd.DataFrame(grid.cv_results_)[['mean_test_score', 'std_test_score', 'params']].to_csv('meta_model_gridsearch.csv')"
      ]
    },
    {
      "cell_type": "code",
      "execution_count": null,
      "metadata": {
        "id": "zpiV9WtT9laT"
      },
      "outputs": [],
      "source": []
    },
    {
      "cell_type": "code",
      "execution_count": null,
      "metadata": {
        "id": "XkB2CLAJK-r6"
      },
      "outputs": [],
      "source": []
    },
    {
      "cell_type": "code",
      "execution_count": null,
      "metadata": {
        "colab": {
          "base_uri": "https://localhost:8080/"
        },
        "id": "wpHC1fs0qwki",
        "outputId": "aee5ade0-7e56-49fc-fc70-e32a241de7c4"
      },
      "outputs": [
        {
          "data": {
            "text/plain": [
              "[9, 6, 2]"
            ]
          },
          "execution_count": 56,
          "metadata": {},
          "output_type": "execute_result"
        }
      ],
      "source": [
        "find_layer_nodes_linear(3,9,2)"
      ]
    },
    {
      "cell_type": "code",
      "execution_count": null,
      "metadata": {
        "id": "LtVUTFlpqoGd"
      },
      "outputs": [],
      "source": []
    },
    {
      "cell_type": "code",
      "execution_count": null,
      "metadata": {
        "id": "zo_QBpBSqoGf"
      },
      "outputs": [],
      "source": []
    },
    {
      "cell_type": "code",
      "execution_count": null,
      "metadata": {
        "id": "poU1EYLkqoGf"
      },
      "outputs": [],
      "source": []
    },
    {
      "cell_type": "code",
      "execution_count": null,
      "metadata": {
        "id": "Mv9ZeXpQqoGf"
      },
      "outputs": [],
      "source": []
    },
    {
      "cell_type": "code",
      "execution_count": null,
      "metadata": {
        "id": "DxKujxwrpsnI"
      },
      "outputs": [],
      "source": []
    },
    {
      "cell_type": "code",
      "execution_count": null,
      "metadata": {
        "id": "l7Tyw5KDpskF"
      },
      "outputs": [],
      "source": []
    },
    {
      "cell_type": "code",
      "execution_count": null,
      "metadata": {
        "id": "UM7MwMH7pshW"
      },
      "outputs": [],
      "source": []
    },
    {
      "cell_type": "code",
      "execution_count": null,
      "metadata": {
        "id": "Xq_cHvd_psd9"
      },
      "outputs": [],
      "source": []
    },
    {
      "cell_type": "code",
      "execution_count": null,
      "metadata": {
        "id": "IIAR9TwVpsbb"
      },
      "outputs": [],
      "source": []
    },
    {
      "cell_type": "code",
      "execution_count": null,
      "metadata": {
        "id": "sAyVJ4GtpsYX"
      },
      "outputs": [],
      "source": []
    },
    {
      "cell_type": "code",
      "execution_count": null,
      "metadata": {
        "id": "2Z2J1KAqpsVV"
      },
      "outputs": [],
      "source": []
    },
    {
      "cell_type": "code",
      "execution_count": null,
      "metadata": {
        "id": "sg0oTyOppsSg"
      },
      "outputs": [],
      "source": []
    },
    {
      "cell_type": "code",
      "execution_count": null,
      "metadata": {
        "id": "Rchs_MpGpsPS"
      },
      "outputs": [],
      "source": []
    },
    {
      "cell_type": "code",
      "execution_count": null,
      "metadata": {
        "id": "nNkHclqbpsKg"
      },
      "outputs": [],
      "source": []
    },
    {
      "cell_type": "code",
      "execution_count": null,
      "metadata": {
        "id": "DculoD1a7L3Q"
      },
      "outputs": [],
      "source": [
        "#X_1_all=pd.concat([monk1_train_hot, monk1_test_hot]).iloc[:,1:12].values\n",
        "#y_1_all=pd.concat([monk1_train_hot, monk1_test_hot]).iloc[:,0].values\n",
        "\n",
        "#X_2_all=pd.concat([monk2_train_hot, monk2_test_hot]).iloc[:,1:12].values\n",
        "#y_2_all=pd.concat([monk2_train_hot, monk2_test_hot]).iloc[:,0].values\n",
        "\n",
        "#X_3_all=pd.concat([monk3_train_hot, monk3_test_hot]).iloc[:,1:12].values\n",
        "#y_3_all=pd.concat([monk3_train_hot, monk3_test_hot]).iloc[:,0].values"
      ]
    },
    {
      "cell_type": "code",
      "execution_count": null,
      "metadata": {
        "id": "D_-z1mocpY3D"
      },
      "outputs": [],
      "source": []
    }
  ],
  "metadata": {
    "colab": {
      "provenance": []
    },
    "kernelspec": {
      "display_name": "Python 3",
      "name": "python3"
    },
    "language_info": {
      "name": "python"
    }
  },
  "nbformat": 4,
  "nbformat_minor": 0
}